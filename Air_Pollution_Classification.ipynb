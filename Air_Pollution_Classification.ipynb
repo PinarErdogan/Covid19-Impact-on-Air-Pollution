{
 "cells": [
  {
   "cell_type": "markdown",
   "metadata": {
    "id": "OpEEo0grPYgA"
   },
   "source": [
    "# Covid-19 Effect on Air Pollution\n",
    "\n",
    "* The main purpose of this study is correctly predicting the countries/cities air pollution change with the machine learning algorithms such as XGBoost, Random Forest, K-Nearest Neighbor."
   ]
  },
  {
   "cell_type": "code",
   "execution_count": 1,
   "metadata": {
    "colab": {
     "base_uri": "https://localhost:8080/"
    },
    "executionInfo": {
     "elapsed": 1831,
     "status": "ok",
     "timestamp": 1632216517191,
     "user": {
      "displayName": "Pınar Erdoğan",
      "photoUrl": "https://lh3.googleusercontent.com/a-/AOh14GgSRPjhXDVyY6GG59MjOLdNKKS8OTbqdLxNLnUQsw=s64",
      "userId": "00401610262792975831"
     },
     "user_tz": -180
    },
    "id": "s1fECShZPYgD",
    "outputId": "046f1925-3c00-41c8-a1c6-80c3b5ffcf3d"
   },
   "outputs": [],
   "source": [
    "# General Libraries for Data Analysis and Visualization\n",
    "import pandas as pd\n",
    "import numpy as np\n",
    "\n",
    "# Visualization\n",
    "import matplotlib.pyplot as plt\n",
    "import seaborn as sns\n",
    "import folium\n",
    "\n",
    "# Statistics\n",
    "import statsmodels.stats.api as sms\n",
    "\n",
    "# Classification\n",
    "from xgboost import XGBClassifier\n",
    "from sklearn.linear_model import LogisticRegression\n",
    "from sklearn.ensemble import RandomForestClassifier\n",
    "from sklearn.neighbors import KNeighborsClassifier\n",
    "\n",
    "# Standardization\n",
    "from sklearn.preprocessing import StandardScaler\n",
    "\n",
    "# Evaluation Metrics \n",
    "from sklearn.metrics import confusion_matrix, f1_score, roc_auc_score, plot_roc_curve\n",
    "# Validation\n",
    "from sklearn.model_selection import  GridSearchCV, cross_validate, cross_val_score\n",
    "from sklearn.model_selection import StratifiedKFold\n",
    "\n",
    "from warnings import filterwarnings\n",
    "filterwarnings('ignore')"
   ]
  },
  {
   "cell_type": "code",
   "execution_count": 2,
   "metadata": {
    "colab": {
     "base_uri": "https://localhost:8080/",
     "height": 204
    },
    "executionInfo": {
     "elapsed": 703,
     "status": "ok",
     "timestamp": 1632216521218,
     "user": {
      "displayName": "Pınar Erdoğan",
      "photoUrl": "https://lh3.googleusercontent.com/a-/AOh14GgSRPjhXDVyY6GG59MjOLdNKKS8OTbqdLxNLnUQsw=s64",
      "userId": "00401610262792975831"
     },
     "user_tz": -180
    },
    "id": "dsuYW4OBPYgE",
    "outputId": "75482dd7-eced-4204-aaa2-bca22452c19b"
   },
   "outputs": [
    {
     "data": {
      "text/html": [
       "<div>\n",
       "<style scoped>\n",
       "    .dataframe tbody tr th:only-of-type {\n",
       "        vertical-align: middle;\n",
       "    }\n",
       "\n",
       "    .dataframe tbody tr th {\n",
       "        vertical-align: top;\n",
       "    }\n",
       "\n",
       "    .dataframe thead th {\n",
       "        text-align: right;\n",
       "    }\n",
       "</style>\n",
       "<table border=\"1\" class=\"dataframe\">\n",
       "  <thead>\n",
       "    <tr style=\"text-align: right;\">\n",
       "      <th></th>\n",
       "      <th>Country</th>\n",
       "      <th>City</th>\n",
       "      <th>Country_Population</th>\n",
       "      <th>Total_Day_Lockdown</th>\n",
       "      <th>Avg_Pollution_2020</th>\n",
       "      <th>Avg_Pollution_2019</th>\n",
       "      <th>Development</th>\n",
       "      <th>Total_Case</th>\n",
       "      <th>Total_Death</th>\n",
       "      <th>Latitude</th>\n",
       "      <th>Longitude</th>\n",
       "      <th>Change</th>\n",
       "    </tr>\n",
       "  </thead>\n",
       "  <tbody>\n",
       "    <tr>\n",
       "      <th>0</th>\n",
       "      <td>United Arab Emirates</td>\n",
       "      <td>Dubai</td>\n",
       "      <td>9890400</td>\n",
       "      <td>23</td>\n",
       "      <td>86.0</td>\n",
       "      <td>95</td>\n",
       "      <td>1</td>\n",
       "      <td>22627</td>\n",
       "      <td>214</td>\n",
       "      <td>23.424076</td>\n",
       "      <td>53.847818</td>\n",
       "      <td>1</td>\n",
       "    </tr>\n",
       "    <tr>\n",
       "      <th>1</th>\n",
       "      <td>Argentina</td>\n",
       "      <td>Buenos Aires</td>\n",
       "      <td>45195777</td>\n",
       "      <td>60</td>\n",
       "      <td>35.9</td>\n",
       "      <td>35</td>\n",
       "      <td>0</td>\n",
       "      <td>7792</td>\n",
       "      <td>363</td>\n",
       "      <td>-38.416097</td>\n",
       "      <td>-63.616672</td>\n",
       "      <td>0</td>\n",
       "    </tr>\n",
       "    <tr>\n",
       "      <th>2</th>\n",
       "      <td>Austria</td>\n",
       "      <td>Vienna</td>\n",
       "      <td>9006400</td>\n",
       "      <td>29</td>\n",
       "      <td>44.0</td>\n",
       "      <td>50</td>\n",
       "      <td>1</td>\n",
       "      <td>16140</td>\n",
       "      <td>628</td>\n",
       "      <td>47.516231</td>\n",
       "      <td>14.550072</td>\n",
       "      <td>1</td>\n",
       "    </tr>\n",
       "    <tr>\n",
       "      <th>3</th>\n",
       "      <td>Australia</td>\n",
       "      <td>Melbourne</td>\n",
       "      <td>25499881</td>\n",
       "      <td>56</td>\n",
       "      <td>31.0</td>\n",
       "      <td>28</td>\n",
       "      <td>1</td>\n",
       "      <td>7036</td>\n",
       "      <td>98</td>\n",
       "      <td>-25.274398</td>\n",
       "      <td>133.775136</td>\n",
       "      <td>0</td>\n",
       "    </tr>\n",
       "    <tr>\n",
       "      <th>4</th>\n",
       "      <td>Bangladesh</td>\n",
       "      <td>Dhaka</td>\n",
       "      <td>25499881</td>\n",
       "      <td>31</td>\n",
       "      <td>175.0</td>\n",
       "      <td>210</td>\n",
       "      <td>0</td>\n",
       "      <td>7036</td>\n",
       "      <td>98</td>\n",
       "      <td>23.684994</td>\n",
       "      <td>90.356331</td>\n",
       "      <td>1</td>\n",
       "    </tr>\n",
       "  </tbody>\n",
       "</table>\n",
       "</div>"
      ],
      "text/plain": [
       "                Country          City  Country_Population  Total_Day_Lockdown  \\\n",
       "0  United Arab Emirates         Dubai             9890400                  23   \n",
       "1             Argentina  Buenos Aires            45195777                  60   \n",
       "2               Austria        Vienna             9006400                  29   \n",
       "3             Australia     Melbourne            25499881                  56   \n",
       "4            Bangladesh         Dhaka            25499881                  31   \n",
       "\n",
       "   Avg_Pollution_2020  Avg_Pollution_2019  Development  Total_Case  \\\n",
       "0                86.0                  95            1       22627   \n",
       "1                35.9                  35            0        7792   \n",
       "2                44.0                  50            1       16140   \n",
       "3                31.0                  28            1        7036   \n",
       "4               175.0                 210            0        7036   \n",
       "\n",
       "   Total_Death   Latitude   Longitude  Change  \n",
       "0          214  23.424076   53.847818       1  \n",
       "1          363 -38.416097  -63.616672       0  \n",
       "2          628  47.516231   14.550072       1  \n",
       "3           98 -25.274398  133.775136       0  \n",
       "4           98  23.684994   90.356331       1  "
      ]
     },
     "execution_count": 2,
     "metadata": {},
     "output_type": "execute_result"
    }
   ],
   "source": [
    "# Load data set\n",
    "data = pd.read_csv(\"covid_data.csv\")\n",
    "data.head()"
   ]
  },
  {
   "cell_type": "markdown",
   "metadata": {
    "id": "6WR4vg15PYgF"
   },
   "source": [
    "* **Country:** name of the countries\n",
    "* **City:** name of the city\n",
    "* **Total_Day_Lockdown:** how many day lockdown applied to the country\n",
    "* **Avg_Pollution_2020:** average air pollution level for the specific time periods in 2020\n",
    "* **Avg_Pollution_2019:** average air pollution level for the specific time periods in 2019\n",
    "* **Development:** if the country developed according to the World Bank GDP per capita (if it is above the 12000$ threshold level), 1. Otherwise 0.\n",
    "* **Total_Case:** total number of Covid-19 cases until May 17, 2020\n",
    "* **Total_Death:** total number of death because of Covid-19 until May 17,2020\n",
    "* **Latitude:** latitiude of the country\n",
    "* **Longitude:** longitude of the country\n",
    "* **Change:** if there is a decrease in the air pollution level in 2020 compared to 2019, 1. Otherwise, 0. "
   ]
  },
  {
   "cell_type": "markdown",
   "metadata": {
    "id": "32iNnDggPYgG"
   },
   "source": [
    "## Descriptive Statistics"
   ]
  },
  {
   "cell_type": "code",
   "execution_count": 3,
   "metadata": {
    "colab": {
     "base_uri": "https://localhost:8080/"
    },
    "executionInfo": {
     "elapsed": 248,
     "status": "ok",
     "timestamp": 1632058300169,
     "user": {
      "displayName": "Pınar Erdoğan",
      "photoUrl": "https://lh3.googleusercontent.com/a-/AOh14GgSRPjhXDVyY6GG59MjOLdNKKS8OTbqdLxNLnUQsw=s64",
      "userId": "00401610262792975831"
     },
     "user_tz": -180
    },
    "id": "aeGGmPDdPYgG",
    "outputId": "a3489857-6d8a-477f-9880-fc28f5eb2e9f"
   },
   "outputs": [
    {
     "data": {
      "text/plain": [
       "(47, 12)"
      ]
     },
     "execution_count": 3,
     "metadata": {},
     "output_type": "execute_result"
    }
   ],
   "source": [
    "data.shape"
   ]
  },
  {
   "cell_type": "markdown",
   "metadata": {
    "id": "Q87VYQJdPYgH"
   },
   "source": [
    "* There are 47 observation and 12 attributes in the dataset."
   ]
  },
  {
   "cell_type": "code",
   "execution_count": 4,
   "metadata": {
    "colab": {
     "base_uri": "https://localhost:8080/"
    },
    "executionInfo": {
     "elapsed": 234,
     "status": "ok",
     "timestamp": 1632058302010,
     "user": {
      "displayName": "Pınar Erdoğan",
      "photoUrl": "https://lh3.googleusercontent.com/a-/AOh14GgSRPjhXDVyY6GG59MjOLdNKKS8OTbqdLxNLnUQsw=s64",
      "userId": "00401610262792975831"
     },
     "user_tz": -180
    },
    "id": "hHiO-rx6PYgH",
    "outputId": "d5db93b0-d570-4681-cba0-836a5dfc33b7"
   },
   "outputs": [
    {
     "data": {
      "text/plain": [
       "False"
      ]
     },
     "execution_count": 4,
     "metadata": {},
     "output_type": "execute_result"
    }
   ],
   "source": [
    "data.isnull().values.any()"
   ]
  },
  {
   "cell_type": "markdown",
   "metadata": {
    "id": "16E7cCtcPYgI"
   },
   "source": [
    "* There is no mising value in the dataset."
   ]
  },
  {
   "cell_type": "code",
   "execution_count": 5,
   "metadata": {
    "colab": {
     "base_uri": "https://localhost:8080/"
    },
    "executionInfo": {
     "elapsed": 243,
     "status": "ok",
     "timestamp": 1632058303998,
     "user": {
      "displayName": "Pınar Erdoğan",
      "photoUrl": "https://lh3.googleusercontent.com/a-/AOh14GgSRPjhXDVyY6GG59MjOLdNKKS8OTbqdLxNLnUQsw=s64",
      "userId": "00401610262792975831"
     },
     "user_tz": -180
    },
    "id": "i8VfhZ3mPYgI",
    "outputId": "8e06f2c6-6247-4d40-d627-9d7722dcaaf5"
   },
   "outputs": [
    {
     "name": "stdout",
     "output_type": "stream",
     "text": [
      "<class 'pandas.core.frame.DataFrame'>\n",
      "RangeIndex: 47 entries, 0 to 46\n",
      "Data columns (total 12 columns):\n",
      " #   Column              Non-Null Count  Dtype  \n",
      "---  ------              --------------  -----  \n",
      " 0   Country             47 non-null     object \n",
      " 1   City                47 non-null     object \n",
      " 2   Country_Population  47 non-null     int64  \n",
      " 3   Total_Day_Lockdown  47 non-null     int64  \n",
      " 4   Avg_Pollution_2020  47 non-null     float64\n",
      " 5   Avg_Pollution_2019  47 non-null     int64  \n",
      " 6   Development         47 non-null     int64  \n",
      " 7   Total_Case          47 non-null     int64  \n",
      " 8   Total_Death         47 non-null     int64  \n",
      " 9   Latitude            47 non-null     float64\n",
      " 10  Longitude           47 non-null     float64\n",
      " 11  Change              47 non-null     int64  \n",
      "dtypes: float64(3), int64(7), object(2)\n",
      "memory usage: 4.5+ KB\n"
     ]
    }
   ],
   "source": [
    "data.info()"
   ]
  },
  {
   "cell_type": "markdown",
   "metadata": {
    "id": "8K9m8JbUPYgJ"
   },
   "source": [
    "- There are two categorical variables in the dataset.\n",
    "\n",
    "- There are 10 numerical attributes.  "
   ]
  },
  {
   "cell_type": "code",
   "execution_count": 6,
   "metadata": {
    "colab": {
     "base_uri": "https://localhost:8080/",
     "height": 359
    },
    "executionInfo": {
     "elapsed": 254,
     "status": "ok",
     "timestamp": 1632058305194,
     "user": {
      "displayName": "Pınar Erdoğan",
      "photoUrl": "https://lh3.googleusercontent.com/a-/AOh14GgSRPjhXDVyY6GG59MjOLdNKKS8OTbqdLxNLnUQsw=s64",
      "userId": "00401610262792975831"
     },
     "user_tz": -180
    },
    "id": "dQbN61T4PYgJ",
    "outputId": "fdd3c8e8-78b1-401e-f11c-360eee63d103",
    "scrolled": true
   },
   "outputs": [
    {
     "data": {
      "text/html": [
       "<div>\n",
       "<style scoped>\n",
       "    .dataframe tbody tr th:only-of-type {\n",
       "        vertical-align: middle;\n",
       "    }\n",
       "\n",
       "    .dataframe tbody tr th {\n",
       "        vertical-align: top;\n",
       "    }\n",
       "\n",
       "    .dataframe thead th {\n",
       "        text-align: right;\n",
       "    }\n",
       "</style>\n",
       "<table border=\"1\" class=\"dataframe\">\n",
       "  <thead>\n",
       "    <tr style=\"text-align: right;\">\n",
       "      <th></th>\n",
       "      <th>count</th>\n",
       "      <th>mean</th>\n",
       "      <th>std</th>\n",
       "      <th>min</th>\n",
       "      <th>25%</th>\n",
       "      <th>50%</th>\n",
       "      <th>75%</th>\n",
       "      <th>max</th>\n",
       "    </tr>\n",
       "  </thead>\n",
       "  <tbody>\n",
       "    <tr>\n",
       "      <th>Country_Population</th>\n",
       "      <td>47.00</td>\n",
       "      <td>101724795.60</td>\n",
       "      <td>286095427.06</td>\n",
       "      <td>2722291.00</td>\n",
       "      <td>6369824.50</td>\n",
       "      <td>19116209.00</td>\n",
       "      <td>55672356.00</td>\n",
       "      <td>1439323774.00</td>\n",
       "    </tr>\n",
       "    <tr>\n",
       "      <th>Total_Day_Lockdown</th>\n",
       "      <td>47.00</td>\n",
       "      <td>41.28</td>\n",
       "      <td>16.55</td>\n",
       "      <td>7.00</td>\n",
       "      <td>29.50</td>\n",
       "      <td>43.00</td>\n",
       "      <td>55.50</td>\n",
       "      <td>77.00</td>\n",
       "    </tr>\n",
       "    <tr>\n",
       "      <th>Avg_Pollution_2020</th>\n",
       "      <td>47.00</td>\n",
       "      <td>61.04</td>\n",
       "      <td>37.24</td>\n",
       "      <td>2.00</td>\n",
       "      <td>38.00</td>\n",
       "      <td>44.00</td>\n",
       "      <td>82.50</td>\n",
       "      <td>175.00</td>\n",
       "    </tr>\n",
       "    <tr>\n",
       "      <th>Avg_Pollution_2019</th>\n",
       "      <td>47.00</td>\n",
       "      <td>66.60</td>\n",
       "      <td>45.32</td>\n",
       "      <td>3.00</td>\n",
       "      <td>39.00</td>\n",
       "      <td>53.00</td>\n",
       "      <td>75.00</td>\n",
       "      <td>217.00</td>\n",
       "    </tr>\n",
       "    <tr>\n",
       "      <th>Development</th>\n",
       "      <td>47.00</td>\n",
       "      <td>0.62</td>\n",
       "      <td>0.49</td>\n",
       "      <td>0.00</td>\n",
       "      <td>0.00</td>\n",
       "      <td>1.00</td>\n",
       "      <td>1.00</td>\n",
       "      <td>1.00</td>\n",
       "    </tr>\n",
       "    <tr>\n",
       "      <th>Total_Case</th>\n",
       "      <td>47.00</td>\n",
       "      <td>82515.19</td>\n",
       "      <td>220366.27</td>\n",
       "      <td>0.00</td>\n",
       "      <td>4897.50</td>\n",
       "      <td>16140.00</td>\n",
       "      <td>69516.50</td>\n",
       "      <td>1467884.00</td>\n",
       "    </tr>\n",
       "    <tr>\n",
       "      <th>Total_Death</th>\n",
       "      <td>47.00</td>\n",
       "      <td>5941.15</td>\n",
       "      <td>15064.54</td>\n",
       "      <td>0.00</td>\n",
       "      <td>102.50</td>\n",
       "      <td>497.00</td>\n",
       "      <td>2780.00</td>\n",
       "      <td>88754.00</td>\n",
       "    </tr>\n",
       "    <tr>\n",
       "      <th>Latitude</th>\n",
       "      <td>47.00</td>\n",
       "      <td>30.56</td>\n",
       "      <td>27.45</td>\n",
       "      <td>-40.90</td>\n",
       "      <td>22.01</td>\n",
       "      <td>39.40</td>\n",
       "      <td>49.24</td>\n",
       "      <td>61.92</td>\n",
       "    </tr>\n",
       "    <tr>\n",
       "      <th>Longitude</th>\n",
       "      <td>47.00</td>\n",
       "      <td>21.32</td>\n",
       "      <td>60.14</td>\n",
       "      <td>-95.71</td>\n",
       "      <td>-0.89</td>\n",
       "      <td>15.47</td>\n",
       "      <td>50.66</td>\n",
       "      <td>174.89</td>\n",
       "    </tr>\n",
       "    <tr>\n",
       "      <th>Change</th>\n",
       "      <td>47.00</td>\n",
       "      <td>0.68</td>\n",
       "      <td>0.47</td>\n",
       "      <td>0.00</td>\n",
       "      <td>0.00</td>\n",
       "      <td>1.00</td>\n",
       "      <td>1.00</td>\n",
       "      <td>1.00</td>\n",
       "    </tr>\n",
       "  </tbody>\n",
       "</table>\n",
       "</div>"
      ],
      "text/plain": [
       "                    count         mean          std        min        25%  \\\n",
       "Country_Population  47.00 101724795.60 286095427.06 2722291.00 6369824.50   \n",
       "Total_Day_Lockdown  47.00        41.28        16.55       7.00      29.50   \n",
       "Avg_Pollution_2020  47.00        61.04        37.24       2.00      38.00   \n",
       "Avg_Pollution_2019  47.00        66.60        45.32       3.00      39.00   \n",
       "Development         47.00         0.62         0.49       0.00       0.00   \n",
       "Total_Case          47.00     82515.19    220366.27       0.00    4897.50   \n",
       "Total_Death         47.00      5941.15     15064.54       0.00     102.50   \n",
       "Latitude            47.00        30.56        27.45     -40.90      22.01   \n",
       "Longitude           47.00        21.32        60.14     -95.71      -0.89   \n",
       "Change              47.00         0.68         0.47       0.00       0.00   \n",
       "\n",
       "                           50%         75%           max  \n",
       "Country_Population 19116209.00 55672356.00 1439323774.00  \n",
       "Total_Day_Lockdown       43.00       55.50         77.00  \n",
       "Avg_Pollution_2020       44.00       82.50        175.00  \n",
       "Avg_Pollution_2019       53.00       75.00        217.00  \n",
       "Development               1.00        1.00          1.00  \n",
       "Total_Case            16140.00    69516.50    1467884.00  \n",
       "Total_Death             497.00     2780.00      88754.00  \n",
       "Latitude                 39.40       49.24         61.92  \n",
       "Longitude                15.47       50.66        174.89  \n",
       "Change                    1.00        1.00          1.00  "
      ]
     },
     "execution_count": 6,
     "metadata": {},
     "output_type": "execute_result"
    }
   ],
   "source": [
    "pd.set_option('display.float_format', lambda x: '%.2f' % x)\n",
    "data.describe().T"
   ]
  },
  {
   "cell_type": "markdown",
   "metadata": {
    "id": "Z0TCVqtcPYgJ"
   },
   "source": [
    "- All variables have different mean and standard deviation value, each of the attributes have dfferent scale.\n",
    "\n",
    "- In average this year PM2.5 level is lower than the last year. \n",
    "- 61% of the countries are developed according to their Gdp per capita.\n",
    "- PM2.5 level  decreased for the 68% of the cities."
   ]
  },
  {
   "cell_type": "markdown",
   "metadata": {
    "id": "LuEfPW1lPYgJ"
   },
   "source": [
    "#### Worldwide Cases and Deaths \n",
    "\n",
    "\n",
    "- In this study one major cities of each 47 countries is taken, their PM2.5 levels are compared with 2020 and 2019 in the same period.\n",
    "\n",
    "- In the belove map, countries (which was selected in this study),  total number of confirmed cases and total number of deaths can be seen (as of 17th May 2020)."
   ]
  },
  {
   "cell_type": "code",
   "execution_count": 7,
   "metadata": {
    "colab": {
     "base_uri": "https://localhost:8080/",
     "height": 915
    },
    "executionInfo": {
     "elapsed": 258,
     "status": "ok",
     "timestamp": 1632058307190,
     "user": {
      "displayName": "Pınar Erdoğan",
      "photoUrl": "https://lh3.googleusercontent.com/a-/AOh14GgSRPjhXDVyY6GG59MjOLdNKKS8OTbqdLxNLnUQsw=s64",
      "userId": "00401610262792975831"
     },
     "user_tz": -180
    },
    "id": "b40ZwZN4PYgK",
    "outputId": "6c4e9e32-6e87-4e55-b780-c39d5d4e8945",
    "scrolled": true
   },
   "outputs": [
    {
     "data": {
      "text/html": [
       "<div style=\"width:100%;\"><div style=\"position:relative;width:100%;height:0;padding-bottom:60%;\"><span style=\"color:#565656\">Make this Notebook Trusted to load map: File -> Trust Notebook</span><iframe src=\"about:blank\" style=\"position:absolute;width:100%;height:100%;left:0;top:0;border:none !important;\" data-html=%3C%21DOCTYPE%20html%3E%0A%3Chead%3E%20%20%20%20%0A%20%20%20%20%3Cmeta%20http-equiv%3D%22content-type%22%20content%3D%22text/html%3B%20charset%3DUTF-8%22%20/%3E%0A%20%20%20%20%0A%20%20%20%20%20%20%20%20%3Cscript%3E%0A%20%20%20%20%20%20%20%20%20%20%20%20L_NO_TOUCH%20%3D%20false%3B%0A%20%20%20%20%20%20%20%20%20%20%20%20L_DISABLE_3D%20%3D%20false%3B%0A%20%20%20%20%20%20%20%20%3C/script%3E%0A%20%20%20%20%0A%20%20%20%20%3Cstyle%3Ehtml%2C%20body%20%7Bwidth%3A%20100%25%3Bheight%3A%20100%25%3Bmargin%3A%200%3Bpadding%3A%200%3B%7D%3C/style%3E%0A%20%20%20%20%3Cstyle%3E%23map%20%7Bposition%3Aabsolute%3Btop%3A0%3Bbottom%3A0%3Bright%3A0%3Bleft%3A0%3B%7D%3C/style%3E%0A%20%20%20%20%3Cscript%20src%3D%22https%3A//cdn.jsdelivr.net/npm/leaflet%401.6.0/dist/leaflet.js%22%3E%3C/script%3E%0A%20%20%20%20%3Cscript%20src%3D%22https%3A//code.jquery.com/jquery-1.12.4.min.js%22%3E%3C/script%3E%0A%20%20%20%20%3Cscript%20src%3D%22https%3A//maxcdn.bootstrapcdn.com/bootstrap/3.2.0/js/bootstrap.min.js%22%3E%3C/script%3E%0A%20%20%20%20%3Cscript%20src%3D%22https%3A//cdnjs.cloudflare.com/ajax/libs/Leaflet.awesome-markers/2.0.2/leaflet.awesome-markers.js%22%3E%3C/script%3E%0A%20%20%20%20%3Clink%20rel%3D%22stylesheet%22%20href%3D%22https%3A//cdn.jsdelivr.net/npm/leaflet%401.6.0/dist/leaflet.css%22/%3E%0A%20%20%20%20%3Clink%20rel%3D%22stylesheet%22%20href%3D%22https%3A//maxcdn.bootstrapcdn.com/bootstrap/3.2.0/css/bootstrap.min.css%22/%3E%0A%20%20%20%20%3Clink%20rel%3D%22stylesheet%22%20href%3D%22https%3A//maxcdn.bootstrapcdn.com/bootstrap/3.2.0/css/bootstrap-theme.min.css%22/%3E%0A%20%20%20%20%3Clink%20rel%3D%22stylesheet%22%20href%3D%22https%3A//maxcdn.bootstrapcdn.com/font-awesome/4.6.3/css/font-awesome.min.css%22/%3E%0A%20%20%20%20%3Clink%20rel%3D%22stylesheet%22%20href%3D%22https%3A//cdnjs.cloudflare.com/ajax/libs/Leaflet.awesome-markers/2.0.2/leaflet.awesome-markers.css%22/%3E%0A%20%20%20%20%3Clink%20rel%3D%22stylesheet%22%20href%3D%22https%3A//cdn.jsdelivr.net/gh/python-visualization/folium/folium/templates/leaflet.awesome.rotate.min.css%22/%3E%0A%20%20%20%20%0A%20%20%20%20%20%20%20%20%20%20%20%20%3Cmeta%20name%3D%22viewport%22%20content%3D%22width%3Ddevice-width%2C%0A%20%20%20%20%20%20%20%20%20%20%20%20%20%20%20%20initial-scale%3D1.0%2C%20maximum-scale%3D1.0%2C%20user-scalable%3Dno%22%20/%3E%0A%20%20%20%20%20%20%20%20%20%20%20%20%3Cstyle%3E%0A%20%20%20%20%20%20%20%20%20%20%20%20%20%20%20%20%23map_7c9e061257c841f5a18c1ab46ec37f90%20%7B%0A%20%20%20%20%20%20%20%20%20%20%20%20%20%20%20%20%20%20%20%20position%3A%20relative%3B%0A%20%20%20%20%20%20%20%20%20%20%20%20%20%20%20%20%20%20%20%20width%3A%20100.0%25%3B%0A%20%20%20%20%20%20%20%20%20%20%20%20%20%20%20%20%20%20%20%20height%3A%20100.0%25%3B%0A%20%20%20%20%20%20%20%20%20%20%20%20%20%20%20%20%20%20%20%20left%3A%200.0%25%3B%0A%20%20%20%20%20%20%20%20%20%20%20%20%20%20%20%20%20%20%20%20top%3A%200.0%25%3B%0A%20%20%20%20%20%20%20%20%20%20%20%20%20%20%20%20%7D%0A%20%20%20%20%20%20%20%20%20%20%20%20%3C/style%3E%0A%20%20%20%20%20%20%20%20%0A%3C/head%3E%0A%3Cbody%3E%20%20%20%20%0A%20%20%20%20%0A%20%20%20%20%20%20%20%20%20%20%20%20%3Cdiv%20class%3D%22folium-map%22%20id%3D%22map_7c9e061257c841f5a18c1ab46ec37f90%22%20%3E%3C/div%3E%0A%20%20%20%20%20%20%20%20%0A%3C/body%3E%0A%3Cscript%3E%20%20%20%20%0A%20%20%20%20%0A%20%20%20%20%20%20%20%20%20%20%20%20var%20map_7c9e061257c841f5a18c1ab46ec37f90%20%3D%20L.map%28%0A%20%20%20%20%20%20%20%20%20%20%20%20%20%20%20%20%22map_7c9e061257c841f5a18c1ab46ec37f90%22%2C%0A%20%20%20%20%20%20%20%20%20%20%20%20%20%20%20%20%7B%0A%20%20%20%20%20%20%20%20%20%20%20%20%20%20%20%20%20%20%20%20center%3A%20%5B0.0%2C%200.0%5D%2C%0A%20%20%20%20%20%20%20%20%20%20%20%20%20%20%20%20%20%20%20%20crs%3A%20L.CRS.EPSG3857%2C%0A%20%20%20%20%20%20%20%20%20%20%20%20%20%20%20%20%20%20%20%20zoom%3A%201%2C%0A%20%20%20%20%20%20%20%20%20%20%20%20%20%20%20%20%20%20%20%20zoomControl%3A%20true%2C%0A%20%20%20%20%20%20%20%20%20%20%20%20%20%20%20%20%20%20%20%20preferCanvas%3A%20false%2C%0A%20%20%20%20%20%20%20%20%20%20%20%20%20%20%20%20%7D%0A%20%20%20%20%20%20%20%20%20%20%20%20%29%3B%0A%0A%20%20%20%20%20%20%20%20%20%20%20%20%0A%0A%20%20%20%20%20%20%20%20%0A%20%20%20%20%0A%20%20%20%20%20%20%20%20%20%20%20%20var%20tile_layer_794da593398c4b50b7319aaa5251f4a7%20%3D%20L.tileLayer%28%0A%20%20%20%20%20%20%20%20%20%20%20%20%20%20%20%20%22https%3A//cartodb-basemaps-%7Bs%7D.global.ssl.fastly.net/light_all/%7Bz%7D/%7Bx%7D/%7By%7D.png%22%2C%0A%20%20%20%20%20%20%20%20%20%20%20%20%20%20%20%20%7B%22attribution%22%3A%20%22%5Cu0026copy%3B%20%5Cu003ca%20href%3D%5C%22http%3A//www.openstreetmap.org/copyright%5C%22%5Cu003eOpenStreetMap%5Cu003c/a%5Cu003e%20contributors%20%5Cu0026copy%3B%20%5Cu003ca%20href%3D%5C%22http%3A//cartodb.com/attributions%5C%22%5Cu003eCartoDB%5Cu003c/a%5Cu003e%2C%20CartoDB%20%5Cu003ca%20href%20%3D%5C%22http%3A//cartodb.com/attributions%5C%22%5Cu003eattributions%5Cu003c/a%5Cu003e%22%2C%20%22detectRetina%22%3A%20false%2C%20%22maxNativeZoom%22%3A%204%2C%20%22maxZoom%22%3A%204%2C%20%22minZoom%22%3A%201%2C%20%22noWrap%22%3A%20false%2C%20%22opacity%22%3A%201%2C%20%22subdomains%22%3A%20%22abc%22%2C%20%22tms%22%3A%20false%7D%0A%20%20%20%20%20%20%20%20%20%20%20%20%29.addTo%28map_7c9e061257c841f5a18c1ab46ec37f90%29%3B%0A%20%20%20%20%20%20%20%20%0A%20%20%20%20%0A%20%20%20%20%20%20%20%20%20%20%20%20var%20circle_0a11cf1bd2c24f46985186977d1fa294%20%3D%20L.circle%28%0A%20%20%20%20%20%20%20%20%20%20%20%20%20%20%20%20%5B23.424076%2C%2053.847818%5D%2C%0A%20%20%20%20%20%20%20%20%20%20%20%20%20%20%20%20%7B%22bubblingMouseEvents%22%3A%20true%2C%20%22color%22%3A%20%22crimson%22%2C%20%22dashArray%22%3A%20null%2C%20%22dashOffset%22%3A%20null%2C%20%22fill%22%3A%20%22crimson%22%2C%20%22fillColor%22%3A%20%22crimson%22%2C%20%22fillOpacity%22%3A%200.2%2C%20%22fillRule%22%3A%20%22evenodd%22%2C%20%22lineCap%22%3A%20%22round%22%2C%20%22lineJoin%22%3A%20%22round%22%2C%20%22opacity%22%3A%201.0%2C%20%22radius%22%3A%20150.42273764295078%2C%20%22stroke%22%3A%20true%2C%20%22weight%22%3A%203%7D%0A%20%20%20%20%20%20%20%20%20%20%20%20%29.addTo%28map_7c9e061257c841f5a18c1ab46ec37f90%29%3B%0A%20%20%20%20%20%20%20%20%0A%20%20%20%20%0A%20%20%20%20%20%20%20%20%20%20%20%20circle_0a11cf1bd2c24f46985186977d1fa294.bindTooltip%28%0A%20%20%20%20%20%20%20%20%20%20%20%20%20%20%20%20%60%3Cdiv%3E%0A%20%20%20%20%20%20%20%20%20%20%20%20%20%20%20%20%20%20%20%20%20%3Cli%3E%3Cbold%3ECountry%20%3A%20United%20Arab%20Emirates%3Cli%3E%3Cbold%3EConfirmed%20Cases%20%3A%2022627%3Cli%3E%3Cbold%3EDeaths%20%3A%20214%0A%20%20%20%20%20%20%20%20%20%20%20%20%20%20%20%20%20%3C/div%3E%60%2C%0A%20%20%20%20%20%20%20%20%20%20%20%20%20%20%20%20%7B%22sticky%22%3A%20true%7D%0A%20%20%20%20%20%20%20%20%20%20%20%20%29%3B%0A%20%20%20%20%20%20%20%20%0A%20%20%20%20%0A%20%20%20%20%20%20%20%20%20%20%20%20var%20circle_08997882ce28497bb0229824a44608ba%20%3D%20L.circle%28%0A%20%20%20%20%20%20%20%20%20%20%20%20%20%20%20%20%5B-38.416097%2C%20-63.616672%5D%2C%0A%20%20%20%20%20%20%20%20%20%20%20%20%20%20%20%20%7B%22bubblingMouseEvents%22%3A%20true%2C%20%22color%22%3A%20%22crimson%22%2C%20%22dashArray%22%3A%20null%2C%20%22dashOffset%22%3A%20null%2C%20%22fill%22%3A%20%22crimson%22%2C%20%22fillColor%22%3A%20%22crimson%22%2C%20%22fillOpacity%22%3A%200.2%2C%20%22fillRule%22%3A%20%22evenodd%22%2C%20%22lineCap%22%3A%20%22round%22%2C%20%22lineJoin%22%3A%20%22round%22%2C%20%22opacity%22%3A%201.0%2C%20%22radius%22%3A%2088.27230596285564%2C%20%22stroke%22%3A%20true%2C%20%22weight%22%3A%203%7D%0A%20%20%20%20%20%20%20%20%20%20%20%20%29.addTo%28map_7c9e061257c841f5a18c1ab46ec37f90%29%3B%0A%20%20%20%20%20%20%20%20%0A%20%20%20%20%0A%20%20%20%20%20%20%20%20%20%20%20%20circle_08997882ce28497bb0229824a44608ba.bindTooltip%28%0A%20%20%20%20%20%20%20%20%20%20%20%20%20%20%20%20%60%3Cdiv%3E%0A%20%20%20%20%20%20%20%20%20%20%20%20%20%20%20%20%20%20%20%20%20%3Cli%3E%3Cbold%3ECountry%20%3A%20Argentina%3Cli%3E%3Cbold%3EConfirmed%20Cases%20%3A%207792%3Cli%3E%3Cbold%3EDeaths%20%3A%20363%0A%20%20%20%20%20%20%20%20%20%20%20%20%20%20%20%20%20%3C/div%3E%60%2C%0A%20%20%20%20%20%20%20%20%20%20%20%20%20%20%20%20%7B%22sticky%22%3A%20true%7D%0A%20%20%20%20%20%20%20%20%20%20%20%20%29%3B%0A%20%20%20%20%20%20%20%20%0A%20%20%20%20%0A%20%20%20%20%20%20%20%20%20%20%20%20var%20circle_317989f8c844494792aa15ff1dbe19c1%20%3D%20L.circle%28%0A%20%20%20%20%20%20%20%20%20%20%20%20%20%20%20%20%5B47.516231%2C%2014.550072%5D%2C%0A%20%20%20%20%20%20%20%20%20%20%20%20%20%20%20%20%7B%22bubblingMouseEvents%22%3A%20true%2C%20%22color%22%3A%20%22crimson%22%2C%20%22dashArray%22%3A%20null%2C%20%22dashOffset%22%3A%20null%2C%20%22fill%22%3A%20%22crimson%22%2C%20%22fillColor%22%3A%20%22crimson%22%2C%20%22fillOpacity%22%3A%200.2%2C%20%22fillRule%22%3A%20%22evenodd%22%2C%20%22lineCap%22%3A%20%22round%22%2C%20%22lineJoin%22%3A%20%22round%22%2C%20%22opacity%22%3A%201.0%2C%20%22radius%22%3A%20127.04329970525797%2C%20%22stroke%22%3A%20true%2C%20%22weight%22%3A%203%7D%0A%20%20%20%20%20%20%20%20%20%20%20%20%29.addTo%28map_7c9e061257c841f5a18c1ab46ec37f90%29%3B%0A%20%20%20%20%20%20%20%20%0A%20%20%20%20%0A%20%20%20%20%20%20%20%20%20%20%20%20circle_317989f8c844494792aa15ff1dbe19c1.bindTooltip%28%0A%20%20%20%20%20%20%20%20%20%20%20%20%20%20%20%20%60%3Cdiv%3E%0A%20%20%20%20%20%20%20%20%20%20%20%20%20%20%20%20%20%20%20%20%20%3Cli%3E%3Cbold%3ECountry%20%3A%20Austria%3Cli%3E%3Cbold%3EConfirmed%20Cases%20%3A%2016140%3Cli%3E%3Cbold%3EDeaths%20%3A%20628%0A%20%20%20%20%20%20%20%20%20%20%20%20%20%20%20%20%20%3C/div%3E%60%2C%0A%20%20%20%20%20%20%20%20%20%20%20%20%20%20%20%20%7B%22sticky%22%3A%20true%7D%0A%20%20%20%20%20%20%20%20%20%20%20%20%29%3B%0A%20%20%20%20%20%20%20%20%0A%20%20%20%20%0A%20%20%20%20%20%20%20%20%20%20%20%20var%20circle_9cbf6c48541b472b863b53c03ff42c3b%20%3D%20L.circle%28%0A%20%20%20%20%20%20%20%20%20%20%20%20%20%20%20%20%5B-25.274398%2C%20133.775136%5D%2C%0A%20%20%20%20%20%20%20%20%20%20%20%20%20%20%20%20%7B%22bubblingMouseEvents%22%3A%20true%2C%20%22color%22%3A%20%22crimson%22%2C%20%22dashArray%22%3A%20null%2C%20%22dashOffset%22%3A%20null%2C%20%22fill%22%3A%20%22crimson%22%2C%20%22fillColor%22%3A%20%22crimson%22%2C%20%22fillOpacity%22%3A%200.2%2C%20%22fillRule%22%3A%20%22evenodd%22%2C%20%22lineCap%22%3A%20%22round%22%2C%20%22lineJoin%22%3A%20%22round%22%2C%20%22opacity%22%3A%201.0%2C%20%22radius%22%3A%2083.88086790204308%2C%20%22stroke%22%3A%20true%2C%20%22weight%22%3A%203%7D%0A%20%20%20%20%20%20%20%20%20%20%20%20%29.addTo%28map_7c9e061257c841f5a18c1ab46ec37f90%29%3B%0A%20%20%20%20%20%20%20%20%0A%20%20%20%20%0A%20%20%20%20%20%20%20%20%20%20%20%20circle_9cbf6c48541b472b863b53c03ff42c3b.bindTooltip%28%0A%20%20%20%20%20%20%20%20%20%20%20%20%20%20%20%20%60%3Cdiv%3E%0A%20%20%20%20%20%20%20%20%20%20%20%20%20%20%20%20%20%20%20%20%20%3Cli%3E%3Cbold%3ECountry%20%3A%20Australia%3Cli%3E%3Cbold%3EConfirmed%20Cases%20%3A%207036%3Cli%3E%3Cbold%3EDeaths%20%3A%2098%0A%20%20%20%20%20%20%20%20%20%20%20%20%20%20%20%20%20%3C/div%3E%60%2C%0A%20%20%20%20%20%20%20%20%20%20%20%20%20%20%20%20%7B%22sticky%22%3A%20true%7D%0A%20%20%20%20%20%20%20%20%20%20%20%20%29%3B%0A%20%20%20%20%20%20%20%20%0A%20%20%20%20%0A%20%20%20%20%20%20%20%20%20%20%20%20var%20circle_ad575f47b33540a29756b5927fefadb8%20%3D%20L.circle%28%0A%20%20%20%20%20%20%20%20%20%20%20%20%20%20%20%20%5B23.684994%2C%2090.356331%5D%2C%0A%20%20%20%20%20%20%20%20%20%20%20%20%20%20%20%20%7B%22bubblingMouseEvents%22%3A%20true%2C%20%22color%22%3A%20%22crimson%22%2C%20%22dashArray%22%3A%20null%2C%20%22dashOffset%22%3A%20null%2C%20%22fill%22%3A%20%22crimson%22%2C%20%22fillColor%22%3A%20%22crimson%22%2C%20%22fillOpacity%22%3A%200.2%2C%20%22fillRule%22%3A%20%22evenodd%22%2C%20%22lineCap%22%3A%20%22round%22%2C%20%22lineJoin%22%3A%20%22round%22%2C%20%22opacity%22%3A%201.0%2C%20%22radius%22%3A%2083.88086790204308%2C%20%22stroke%22%3A%20true%2C%20%22weight%22%3A%203%7D%0A%20%20%20%20%20%20%20%20%20%20%20%20%29.addTo%28map_7c9e061257c841f5a18c1ab46ec37f90%29%3B%0A%20%20%20%20%20%20%20%20%0A%20%20%20%20%0A%20%20%20%20%20%20%20%20%20%20%20%20circle_ad575f47b33540a29756b5927fefadb8.bindTooltip%28%0A%20%20%20%20%20%20%20%20%20%20%20%20%20%20%20%20%60%3Cdiv%3E%0A%20%20%20%20%20%20%20%20%20%20%20%20%20%20%20%20%20%20%20%20%20%3Cli%3E%3Cbold%3ECountry%20%3A%20Bangladesh%3Cli%3E%3Cbold%3EConfirmed%20Cases%20%3A%207036%3Cli%3E%3Cbold%3EDeaths%20%3A%2098%0A%20%20%20%20%20%20%20%20%20%20%20%20%20%20%20%20%20%3C/div%3E%60%2C%0A%20%20%20%20%20%20%20%20%20%20%20%20%20%20%20%20%7B%22sticky%22%3A%20true%7D%0A%20%20%20%20%20%20%20%20%20%20%20%20%29%3B%0A%20%20%20%20%20%20%20%20%0A%20%20%20%20%0A%20%20%20%20%20%20%20%20%20%20%20%20var%20circle_37131434620b4708b452f2749c34c875%20%3D%20L.circle%28%0A%20%20%20%20%20%20%20%20%20%20%20%20%20%20%20%20%5B50.503887%2C%204.469936%5D%2C%0A%20%20%20%20%20%20%20%20%20%20%20%20%20%20%20%20%7B%22bubblingMouseEvents%22%3A%20true%2C%20%22color%22%3A%20%22crimson%22%2C%20%22dashArray%22%3A%20null%2C%20%22dashOffset%22%3A%20null%2C%20%22fill%22%3A%20%22crimson%22%2C%20%22fillColor%22%3A%20%22crimson%22%2C%20%22fillOpacity%22%3A%200.2%2C%20%22fillRule%22%3A%20%22evenodd%22%2C%20%22lineCap%22%3A%20%22round%22%2C%20%22lineJoin%22%3A%20%22round%22%2C%20%22opacity%22%3A%201.0%2C%20%22radius%22%3A%20234.49733473965114%2C%20%22stroke%22%3A%20true%2C%20%22weight%22%3A%203%7D%0A%20%20%20%20%20%20%20%20%20%20%20%20%29.addTo%28map_7c9e061257c841f5a18c1ab46ec37f90%29%3B%0A%20%20%20%20%20%20%20%20%0A%20%20%20%20%0A%20%20%20%20%20%20%20%20%20%20%20%20circle_37131434620b4708b452f2749c34c875.bindTooltip%28%0A%20%20%20%20%20%20%20%20%20%20%20%20%20%20%20%20%60%3Cdiv%3E%0A%20%20%20%20%20%20%20%20%20%20%20%20%20%20%20%20%20%20%20%20%20%3Cli%3E%3Cbold%3ECountry%20%3A%20Belgium%3Cli%3E%3Cbold%3EConfirmed%20Cases%20%3A%2054989%3Cli%3E%3Cbold%3EDeaths%20%3A%209005%0A%20%20%20%20%20%20%20%20%20%20%20%20%20%20%20%20%20%3C/div%3E%60%2C%0A%20%20%20%20%20%20%20%20%20%20%20%20%20%20%20%20%7B%22sticky%22%3A%20true%7D%0A%20%20%20%20%20%20%20%20%20%20%20%20%29%3B%0A%20%20%20%20%20%20%20%20%0A%20%20%20%20%0A%20%20%20%20%20%20%20%20%20%20%20%20var%20circle_b87abdce6cdd48e8acdb0bca71bacffd%20%3D%20L.circle%28%0A%20%20%20%20%20%20%20%20%20%20%20%20%20%20%20%20%5B-14.235004%2C%20-51.92528%5D%2C%0A%20%20%20%20%20%20%20%20%20%20%20%20%20%20%20%20%7B%22bubblingMouseEvents%22%3A%20true%2C%20%22color%22%3A%20%22crimson%22%2C%20%22dashArray%22%3A%20null%2C%20%22dashOffset%22%3A%20null%2C%20%22fill%22%3A%20%22crimson%22%2C%20%22fillColor%22%3A%20%22crimson%22%2C%20%22fillOpacity%22%3A%200.2%2C%20%22fillRule%22%3A%20%22evenodd%22%2C%20%22lineCap%22%3A%20%22round%22%2C%20%22lineJoin%22%3A%20%22round%22%2C%20%22opacity%22%3A%201.0%2C%20%22radius%22%3A%20482.847802107455%2C%20%22stroke%22%3A%20true%2C%20%22weight%22%3A%203%7D%0A%20%20%20%20%20%20%20%20%20%20%20%20%29.addTo%28map_7c9e061257c841f5a18c1ab46ec37f90%29%3B%0A%20%20%20%20%20%20%20%20%0A%20%20%20%20%0A%20%20%20%20%20%20%20%20%20%20%20%20circle_b87abdce6cdd48e8acdb0bca71bacffd.bindTooltip%28%0A%20%20%20%20%20%20%20%20%20%20%20%20%20%20%20%20%60%3Cdiv%3E%0A%20%20%20%20%20%20%20%20%20%20%20%20%20%20%20%20%20%20%20%20%20%3Cli%3E%3Cbold%3ECountry%20%3A%20Brazil%3Cli%3E%3Cbold%3EConfirmed%20Cases%20%3A%20233142%3Cli%3E%3Cbold%3EDeaths%20%3A%2015633%0A%20%20%20%20%20%20%20%20%20%20%20%20%20%20%20%20%20%3C/div%3E%60%2C%0A%20%20%20%20%20%20%20%20%20%20%20%20%20%20%20%20%7B%22sticky%22%3A%20true%7D%0A%20%20%20%20%20%20%20%20%20%20%20%20%29%3B%0A%20%20%20%20%20%20%20%20%0A%20%20%20%20%0A%20%20%20%20%20%20%20%20%20%20%20%20var%20circle_a1857029d2cc40299eca24adc5e182c3%20%3D%20L.circle%28%0A%20%20%20%20%20%20%20%20%20%20%20%20%20%20%20%20%5B46.818188%2C%208.227512%5D%2C%0A%20%20%20%20%20%20%20%20%20%20%20%20%20%20%20%20%7B%22bubblingMouseEvents%22%3A%20true%2C%20%22color%22%3A%20%22crimson%22%2C%20%22dashArray%22%3A%20null%2C%20%22dashOffset%22%3A%20null%2C%20%22fill%22%3A%20%22crimson%22%2C%20%22fillColor%22%3A%20%22crimson%22%2C%20%22fillOpacity%22%3A%200.2%2C%20%22fillRule%22%3A%20%22evenodd%22%2C%20%22lineCap%22%3A%20%22round%22%2C%20%22lineJoin%22%3A%20%22round%22%2C%20%22opacity%22%3A%201.0%2C%20%22radius%22%3A%20174.61099621730585%2C%20%22stroke%22%3A%20true%2C%20%22weight%22%3A%203%7D%0A%20%20%20%20%20%20%20%20%20%20%20%20%29.addTo%28map_7c9e061257c841f5a18c1ab46ec37f90%29%3B%0A%20%20%20%20%20%20%20%20%0A%20%20%20%20%0A%20%20%20%20%20%20%20%20%20%20%20%20circle_a1857029d2cc40299eca24adc5e182c3.bindTooltip%28%0A%20%20%20%20%20%20%20%20%20%20%20%20%20%20%20%20%60%3Cdiv%3E%0A%20%20%20%20%20%20%20%20%20%20%20%20%20%20%20%20%20%20%20%20%20%3Cli%3E%3Cbold%3ECountry%20%3A%20Switzerland%3Cli%3E%3Cbold%3EConfirmed%20Cases%20%3A%2030489%3Cli%3E%3Cbold%3EDeaths%20%3A%201601%0A%20%20%20%20%20%20%20%20%20%20%20%20%20%20%20%20%20%3C/div%3E%60%2C%0A%20%20%20%20%20%20%20%20%20%20%20%20%20%20%20%20%7B%22sticky%22%3A%20true%7D%0A%20%20%20%20%20%20%20%20%20%20%20%20%29%3B%0A%20%20%20%20%20%20%20%20%0A%20%20%20%20%0A%20%20%20%20%20%20%20%20%20%20%20%20var%20circle_0ed695f2a18a42d7a0af130a44ef21ed%20%3D%20L.circle%28%0A%20%20%20%20%20%20%20%20%20%20%20%20%20%20%20%20%5B-35.675147%2C%20-71.542969%5D%2C%0A%20%20%20%20%20%20%20%20%20%20%20%20%20%20%20%20%7B%22bubblingMouseEvents%22%3A%20true%2C%20%22color%22%3A%20%22crimson%22%2C%20%22dashArray%22%3A%20null%2C%20%22dashOffset%22%3A%20null%2C%20%22fill%22%3A%20%22crimson%22%2C%20%22fillColor%22%3A%20%22crimson%22%2C%20%22fillOpacity%22%3A%200.2%2C%20%22fillRule%22%3A%20%22evenodd%22%2C%20%22lineCap%22%3A%20%22round%22%2C%20%22lineJoin%22%3A%20%22round%22%2C%20%22opacity%22%3A%201.0%2C%20%22radius%22%3A%20203.53869410998982%2C%20%22stroke%22%3A%20true%2C%20%22weight%22%3A%203%7D%0A%20%20%20%20%20%20%20%20%20%20%20%20%29.addTo%28map_7c9e061257c841f5a18c1ab46ec37f90%29%3B%0A%20%20%20%20%20%20%20%20%0A%20%20%20%20%0A%20%20%20%20%20%20%20%20%20%20%20%20circle_0ed695f2a18a42d7a0af130a44ef21ed.bindTooltip%28%0A%20%20%20%20%20%20%20%20%20%20%20%20%20%20%20%20%60%3Cdiv%3E%0A%20%20%20%20%20%20%20%20%20%20%20%20%20%20%20%20%20%20%20%20%20%3Cli%3E%3Cbold%3ECountry%20%3A%20Chile%3Cli%3E%3Cbold%3EConfirmed%20Cases%20%3A%2041428%3Cli%3E%3Cbold%3EDeaths%20%3A%20421%0A%20%20%20%20%20%20%20%20%20%20%20%20%20%20%20%20%20%3C/div%3E%60%2C%0A%20%20%20%20%20%20%20%20%20%20%20%20%20%20%20%20%7B%22sticky%22%3A%20true%7D%0A%20%20%20%20%20%20%20%20%20%20%20%20%29%3B%0A%20%20%20%20%20%20%20%20%0A%20%20%20%20%0A%20%20%20%20%20%20%20%20%20%20%20%20var%20circle_4259fa0f10da4144a28b26dd59214088%20%3D%20L.circle%28%0A%20%20%20%20%20%20%20%20%20%20%20%20%20%20%20%20%5B35.86166%2C%20104.195397%5D%2C%0A%20%20%20%20%20%20%20%20%20%20%20%20%20%20%20%20%7B%22bubblingMouseEvents%22%3A%20true%2C%20%22color%22%3A%20%22crimson%22%2C%20%22dashArray%22%3A%20null%2C%20%22dashOffset%22%3A%20null%2C%20%22fill%22%3A%20%22crimson%22%2C%20%22fillColor%22%3A%20%22crimson%22%2C%20%22fillOpacity%22%3A%200.2%2C%20%22fillRule%22%3A%20%22evenodd%22%2C%20%22lineCap%22%3A%20%22round%22%2C%20%22lineJoin%22%3A%20%22round%22%2C%20%22opacity%22%3A%201.0%2C%20%22radius%22%3A%20289.9034321976889%2C%20%22stroke%22%3A%20true%2C%20%22weight%22%3A%203%7D%0A%20%20%20%20%20%20%20%20%20%20%20%20%29.addTo%28map_7c9e061257c841f5a18c1ab46ec37f90%29%3B%0A%20%20%20%20%20%20%20%20%0A%20%20%20%20%0A%20%20%20%20%20%20%20%20%20%20%20%20circle_4259fa0f10da4144a28b26dd59214088.bindTooltip%28%0A%20%20%20%20%20%20%20%20%20%20%20%20%20%20%20%20%60%3Cdiv%3E%0A%20%20%20%20%20%20%20%20%20%20%20%20%20%20%20%20%20%20%20%20%20%3Cli%3E%3Cbold%3ECountry%20%3A%20China%3Cli%3E%3Cbold%3EConfirmed%20Cases%20%3A%2084044%3Cli%3E%3Cbold%3EDeaths%20%3A%204638%0A%20%20%20%20%20%20%20%20%20%20%20%20%20%20%20%20%20%3C/div%3E%60%2C%0A%20%20%20%20%20%20%20%20%20%20%20%20%20%20%20%20%7B%22sticky%22%3A%20true%7D%0A%20%20%20%20%20%20%20%20%20%20%20%20%29%3B%0A%20%20%20%20%20%20%20%20%0A%20%20%20%20%0A%20%20%20%20%20%20%20%20%20%20%20%20var%20circle_aca9480da41c4235811c1070fa196145%20%3D%20L.circle%28%0A%20%20%20%20%20%20%20%20%20%20%20%20%20%20%20%20%5B4.570868%2C%20-74.297333%5D%2C%0A%20%20%20%20%20%20%20%20%20%20%20%20%20%20%20%20%7B%22bubblingMouseEvents%22%3A%20true%2C%20%22color%22%3A%20%22crimson%22%2C%20%22dashArray%22%3A%20null%2C%20%22dashOffset%22%3A%20null%2C%20%22fill%22%3A%20%22crimson%22%2C%20%22fillColor%22%3A%20%22crimson%22%2C%20%22fillOpacity%22%3A%200.2%2C%20%22fillRule%22%3A%20%22evenodd%22%2C%20%22lineCap%22%3A%20%22round%22%2C%20%22lineJoin%22%3A%20%22round%22%2C%20%22opacity%22%3A%201.0%2C%20%22radius%22%3A%20122.22520198387892%2C%20%22stroke%22%3A%20true%2C%20%22weight%22%3A%203%7D%0A%20%20%20%20%20%20%20%20%20%20%20%20%29.addTo%28map_7c9e061257c841f5a18c1ab46ec37f90%29%3B%0A%20%20%20%20%20%20%20%20%0A%20%20%20%20%0A%20%20%20%20%20%20%20%20%20%20%20%20circle_aca9480da41c4235811c1070fa196145.bindTooltip%28%0A%20%20%20%20%20%20%20%20%20%20%20%20%20%20%20%20%60%3Cdiv%3E%0A%20%20%20%20%20%20%20%20%20%20%20%20%20%20%20%20%20%20%20%20%20%3Cli%3E%3Cbold%3ECountry%20%3A%20Colombia%3Cli%3E%3Cbold%3EConfirmed%20Cases%20%3A%2014939%3Cli%3E%3Cbold%3EDeaths%20%3A%20562%0A%20%20%20%20%20%20%20%20%20%20%20%20%20%20%20%20%20%3C/div%3E%60%2C%0A%20%20%20%20%20%20%20%20%20%20%20%20%20%20%20%20%7B%22sticky%22%3A%20true%7D%0A%20%20%20%20%20%20%20%20%20%20%20%20%29%3B%0A%20%20%20%20%20%20%20%20%0A%20%20%20%20%0A%20%20%20%20%20%20%20%20%20%20%20%20var%20circle_141a1fefa4004238a73fa2a72cdf16fd%20%3D%20L.circle%28%0A%20%20%20%20%20%20%20%20%20%20%20%20%20%20%20%20%5B9.748917%2C%20-83.753428%5D%2C%0A%20%20%20%20%20%20%20%20%20%20%20%20%20%20%20%20%7B%22bubblingMouseEvents%22%3A%20true%2C%20%22color%22%3A%20%22crimson%22%2C%20%22dashArray%22%3A%20null%2C%20%22dashOffset%22%3A%20null%2C%20%22fill%22%3A%20%22crimson%22%2C%20%22fillColor%22%3A%20%22crimson%22%2C%20%22fillOpacity%22%3A%200.2%2C%20%22fillRule%22%3A%20%22evenodd%22%2C%20%22lineCap%22%3A%20%22round%22%2C%20%22lineJoin%22%3A%20%22round%22%2C%20%22opacity%22%3A%201.0%2C%20%22radius%22%3A%2029.206163733020468%2C%20%22stroke%22%3A%20true%2C%20%22weight%22%3A%203%7D%0A%20%20%20%20%20%20%20%20%20%20%20%20%29.addTo%28map_7c9e061257c841f5a18c1ab46ec37f90%29%3B%0A%20%20%20%20%20%20%20%20%0A%20%20%20%20%0A%20%20%20%20%20%20%20%20%20%20%20%20circle_141a1fefa4004238a73fa2a72cdf16fd.bindTooltip%28%0A%20%20%20%20%20%20%20%20%20%20%20%20%20%20%20%20%60%3Cdiv%3E%0A%20%20%20%20%20%20%20%20%20%20%20%20%20%20%20%20%20%20%20%20%20%3Cli%3E%3Cbold%3ECountry%20%3A%20Costa%20Rica%3Cli%3E%3Cbold%3EConfirmed%20Cases%20%3A%20853%3Cli%3E%3Cbold%3EDeaths%20%3A%2010%0A%20%20%20%20%20%20%20%20%20%20%20%20%20%20%20%20%20%3C/div%3E%60%2C%0A%20%20%20%20%20%20%20%20%20%20%20%20%20%20%20%20%7B%22sticky%22%3A%20true%7D%0A%20%20%20%20%20%20%20%20%20%20%20%20%29%3B%0A%20%20%20%20%20%20%20%20%0A%20%20%20%20%0A%20%20%20%20%20%20%20%20%20%20%20%20var%20circle_b6795a9411a24736aaf5ae82d56553f8%20%3D%20L.circle%28%0A%20%20%20%20%20%20%20%20%20%20%20%20%20%20%20%20%5B49.817492%2C%2015.472962%5D%2C%0A%20%20%20%20%20%20%20%20%20%20%20%20%20%20%20%20%7B%22bubblingMouseEvents%22%3A%20true%2C%20%22color%22%3A%20%22crimson%22%2C%20%22dashArray%22%3A%20null%2C%20%22dashOffset%22%3A%20null%2C%20%22fill%22%3A%20%22crimson%22%2C%20%22fillColor%22%3A%20%22crimson%22%2C%20%22fillOpacity%22%3A%200.2%2C%20%22fillRule%22%3A%20%22evenodd%22%2C%20%22lineCap%22%3A%20%22round%22%2C%20%22lineJoin%22%3A%20%22round%22%2C%20%22opacity%22%3A%201.0%2C%20%22radius%22%3A%2091.95107394696377%2C%20%22stroke%22%3A%20true%2C%20%22weight%22%3A%203%7D%0A%20%20%20%20%20%20%20%20%20%20%20%20%29.addTo%28map_7c9e061257c841f5a18c1ab46ec37f90%29%3B%0A%20%20%20%20%20%20%20%20%0A%20%20%20%20%0A%20%20%20%20%20%20%20%20%20%20%20%20circle_b6795a9411a24736aaf5ae82d56553f8.bindTooltip%28%0A%20%20%20%20%20%20%20%20%20%20%20%20%20%20%20%20%60%3Cdiv%3E%0A%20%20%20%20%20%20%20%20%20%20%20%20%20%20%20%20%20%20%20%20%20%3Cli%3E%3Cbold%3ECountry%20%3A%20Czech%20Republic%3Cli%3E%3Cbold%3EConfirmed%20Cases%20%3A%208455%3Cli%3E%3Cbold%3EDeaths%20%3A%20296%0A%20%20%20%20%20%20%20%20%20%20%20%20%20%20%20%20%20%3C/div%3E%60%2C%0A%20%20%20%20%20%20%20%20%20%20%20%20%20%20%20%20%7B%22sticky%22%3A%20true%7D%0A%20%20%20%20%20%20%20%20%20%20%20%20%29%3B%0A%20%20%20%20%20%20%20%20%0A%20%20%20%20%0A%20%20%20%20%20%20%20%20%20%20%20%20var%20circle_645a3ed22e0e463ca42883193bc4d122%20%3D%20L.circle%28%0A%20%20%20%20%20%20%20%20%20%20%20%20%20%20%20%20%5B51.165691%2C%2010.451526%5D%2C%0A%20%20%20%20%20%20%20%20%20%20%20%20%20%20%20%20%7B%22bubblingMouseEvents%22%3A%20true%2C%20%22color%22%3A%20%22crimson%22%2C%20%22dashArray%22%3A%20null%2C%20%22dashOffset%22%3A%20null%2C%20%22fill%22%3A%20%22crimson%22%2C%20%22fillColor%22%3A%20%22crimson%22%2C%20%22fillOpacity%22%3A%200.2%2C%20%22fillRule%22%3A%20%22evenodd%22%2C%20%22lineCap%22%3A%20%22round%22%2C%20%22lineJoin%22%3A%20%22round%22%2C%20%22opacity%22%3A%201.0%2C%20%22radius%22%3A%20417.55837915194564%2C%20%22stroke%22%3A%20true%2C%20%22weight%22%3A%203%7D%0A%20%20%20%20%20%20%20%20%20%20%20%20%29.addTo%28map_7c9e061257c841f5a18c1ab46ec37f90%29%3B%0A%20%20%20%20%20%20%20%20%0A%20%20%20%20%0A%20%20%20%20%20%20%20%20%20%20%20%20circle_645a3ed22e0e463ca42883193bc4d122.bindTooltip%28%0A%20%20%20%20%20%20%20%20%20%20%20%20%20%20%20%20%60%3Cdiv%3E%0A%20%20%20%20%20%20%20%20%20%20%20%20%20%20%20%20%20%20%20%20%20%3Cli%3E%3Cbold%3ECountry%20%3A%20Germany%3Cli%3E%3Cbold%3EConfirmed%20Cases%20%3A%20174355%3Cli%3E%3Cbold%3EDeaths%20%3A%207914%0A%20%20%20%20%20%20%20%20%20%20%20%20%20%20%20%20%20%3C/div%3E%60%2C%0A%20%20%20%20%20%20%20%20%20%20%20%20%20%20%20%20%7B%22sticky%22%3A%20true%7D%0A%20%20%20%20%20%20%20%20%20%20%20%20%29%3B%0A%20%20%20%20%20%20%20%20%0A%20%20%20%20%0A%20%20%20%20%20%20%20%20%20%20%20%20var%20circle_e686271ae8874a3cb33d2fd6b6914807%20%3D%20L.circle%28%0A%20%20%20%20%20%20%20%20%20%20%20%20%20%20%20%20%5B56.26392%2C%209.501785%5D%2C%0A%20%20%20%20%20%20%20%20%20%20%20%20%20%20%20%20%7B%22bubblingMouseEvents%22%3A%20true%2C%20%22color%22%3A%20%22crimson%22%2C%20%22dashArray%22%3A%20null%2C%20%22dashOffset%22%3A%20null%2C%20%22fill%22%3A%20%22crimson%22%2C%20%22fillColor%22%3A%20%22crimson%22%2C%20%22fillOpacity%22%3A%200.2%2C%20%22fillRule%22%3A%20%22evenodd%22%2C%20%22lineCap%22%3A%20%22round%22%2C%20%22lineJoin%22%3A%20%22round%22%2C%20%22opacity%22%3A%201.0%2C%20%22radius%22%3A%20104.20172743289815%2C%20%22stroke%22%3A%20true%2C%20%22weight%22%3A%203%7D%0A%20%20%20%20%20%20%20%20%20%20%20%20%29.addTo%28map_7c9e061257c841f5a18c1ab46ec37f90%29%3B%0A%20%20%20%20%20%20%20%20%0A%20%20%20%20%0A%20%20%20%20%20%20%20%20%20%20%20%20circle_e686271ae8874a3cb33d2fd6b6914807.bindTooltip%28%0A%20%20%20%20%20%20%20%20%20%20%20%20%20%20%20%20%60%3Cdiv%3E%0A%20%20%20%20%20%20%20%20%20%20%20%20%20%20%20%20%20%20%20%20%20%3Cli%3E%3Cbold%3ECountry%20%3A%20Denmark%3Cli%3E%3Cbold%3EConfirmed%20Cases%20%3A%2010858%3Cli%3E%3Cbold%3EDeaths%20%3A%20543%0A%20%20%20%20%20%20%20%20%20%20%20%20%20%20%20%20%20%3C/div%3E%60%2C%0A%20%20%20%20%20%20%20%20%20%20%20%20%20%20%20%20%7B%22sticky%22%3A%20true%7D%0A%20%20%20%20%20%20%20%20%20%20%20%20%29%3B%0A%20%20%20%20%20%20%20%20%0A%20%20%20%20%0A%20%20%20%20%20%20%20%20%20%20%20%20var%20circle_911a54ccadef41319cb757fa41300d89%20%3D%20L.circle%28%0A%20%20%20%20%20%20%20%20%20%20%20%20%20%20%20%20%5B28.033886%2C%201.659626%5D%2C%0A%20%20%20%20%20%20%20%20%20%20%20%20%20%20%20%20%7B%22bubblingMouseEvents%22%3A%20true%2C%20%22color%22%3A%20%22crimson%22%2C%20%22dashArray%22%3A%20null%2C%20%22dashOffset%22%3A%20null%2C%20%22fill%22%3A%20%22crimson%22%2C%20%22fillColor%22%3A%20%22crimson%22%2C%20%22fillOpacity%22%3A%200.2%2C%20%22fillRule%22%3A%20%22evenodd%22%2C%20%22lineCap%22%3A%20%22round%22%2C%20%22lineJoin%22%3A%20%22round%22%2C%20%22opacity%22%3A%201.0%2C%20%22radius%22%3A%2082.58934555982388%2C%20%22stroke%22%3A%20true%2C%20%22weight%22%3A%203%7D%0A%20%20%20%20%20%20%20%20%20%20%20%20%29.addTo%28map_7c9e061257c841f5a18c1ab46ec37f90%29%3B%0A%20%20%20%20%20%20%20%20%0A%20%20%20%20%0A%20%20%20%20%20%20%20%20%20%20%20%20circle_911a54ccadef41319cb757fa41300d89.bindTooltip%28%0A%20%20%20%20%20%20%20%20%20%20%20%20%20%20%20%20%60%3Cdiv%3E%0A%20%20%20%20%20%20%20%20%20%20%20%20%20%20%20%20%20%20%20%20%20%3Cli%3E%3Cbold%3ECountry%20%3A%20Algeria%3Cli%3E%3Cbold%3EConfirmed%20Cases%20%3A%206821%3Cli%3E%3Cbold%3EDeaths%20%3A%20542%0A%20%20%20%20%20%20%20%20%20%20%20%20%20%20%20%20%20%3C/div%3E%60%2C%0A%20%20%20%20%20%20%20%20%20%20%20%20%20%20%20%20%7B%22sticky%22%3A%20true%7D%0A%20%20%20%20%20%20%20%20%20%20%20%20%29%3B%0A%20%20%20%20%20%20%20%20%0A%20%20%20%20%0A%20%20%20%20%20%20%20%20%20%20%20%20var%20circle_6036db096df84108a44019bb12e4afeb%20%3D%20L.circle%28%0A%20%20%20%20%20%20%20%20%20%20%20%20%20%20%20%20%5B-1.831239%2C%20-78.183406%5D%2C%0A%20%20%20%20%20%20%20%20%20%20%20%20%20%20%20%20%7B%22bubblingMouseEvents%22%3A%20true%2C%20%22color%22%3A%20%22crimson%22%2C%20%22dashArray%22%3A%20null%2C%20%22dashOffset%22%3A%20null%2C%20%22fill%22%3A%20%22crimson%22%2C%20%22fillColor%22%3A%20%22crimson%22%2C%20%22fillOpacity%22%3A%200.2%2C%20%22fillRule%22%3A%20%22evenodd%22%2C%20%22lineCap%22%3A%20%22round%22%2C%20%22lineJoin%22%3A%20%22round%22%2C%20%22opacity%22%3A%201.0%2C%20%22radius%22%3A%20181.0055247775603%2C%20%22stroke%22%3A%20true%2C%20%22weight%22%3A%203%7D%0A%20%20%20%20%20%20%20%20%20%20%20%20%29.addTo%28map_7c9e061257c841f5a18c1ab46ec37f90%29%3B%0A%20%20%20%20%20%20%20%20%0A%20%20%20%20%0A%20%20%20%20%20%20%20%20%20%20%20%20circle_6036db096df84108a44019bb12e4afeb.bindTooltip%28%0A%20%20%20%20%20%20%20%20%20%20%20%20%20%20%20%20%60%3Cdiv%3E%0A%20%20%20%20%20%20%20%20%20%20%20%20%20%20%20%20%20%20%20%20%20%3Cli%3E%3Cbold%3ECountry%20%3A%20Ecuador%3Cli%3E%3Cbold%3EConfirmed%20Cases%20%3A%2032763%3Cli%3E%3Cbold%3EDeaths%20%3A%202688%0A%20%20%20%20%20%20%20%20%20%20%20%20%20%20%20%20%20%3C/div%3E%60%2C%0A%20%20%20%20%20%20%20%20%20%20%20%20%20%20%20%20%7B%22sticky%22%3A%20true%7D%0A%20%20%20%20%20%20%20%20%20%20%20%20%29%3B%0A%20%20%20%20%20%20%20%20%0A%20%20%20%20%0A%20%20%20%20%20%20%20%20%20%20%20%20var%20circle_76df50b4dcac4e8e95950b4c4008089b%20%3D%20L.circle%28%0A%20%20%20%20%20%20%20%20%20%20%20%20%20%20%20%20%5B40.463667%2C%20-3.74922%5D%2C%0A%20%20%20%20%20%20%20%20%20%20%20%20%20%20%20%20%7B%22bubblingMouseEvents%22%3A%20true%2C%20%22color%22%3A%20%22crimson%22%2C%20%22dashArray%22%3A%20null%2C%20%22dashOffset%22%3A%20null%2C%20%22fill%22%3A%20%22crimson%22%2C%20%22fillColor%22%3A%20%22crimson%22%2C%20%22fillOpacity%22%3A%200.2%2C%20%22fillRule%22%3A%20%22evenodd%22%2C%20%22lineCap%22%3A%20%22round%22%2C%20%22lineJoin%22%3A%20%22round%22%2C%20%22opacity%22%3A%201.0%2C%20%22radius%22%3A%20480.9885653526495%2C%20%22stroke%22%3A%20true%2C%20%22weight%22%3A%203%7D%0A%20%20%20%20%20%20%20%20%20%20%20%20%29.addTo%28map_7c9e061257c841f5a18c1ab46ec37f90%29%3B%0A%20%20%20%20%20%20%20%20%0A%20%20%20%20%0A%20%20%20%20%20%20%20%20%20%20%20%20circle_76df50b4dcac4e8e95950b4c4008089b.bindTooltip%28%0A%20%20%20%20%20%20%20%20%20%20%20%20%20%20%20%20%60%3Cdiv%3E%0A%20%20%20%20%20%20%20%20%20%20%20%20%20%20%20%20%20%20%20%20%20%3Cli%3E%3Cbold%3ECountry%20%3A%20Spain%3Cli%3E%3Cbold%3EConfirmed%20Cases%20%3A%20231350%3Cli%3E%3Cbold%3EDeaths%20%3A%2027650%0A%20%20%20%20%20%20%20%20%20%20%20%20%20%20%20%20%20%3C/div%3E%60%2C%0A%20%20%20%20%20%20%20%20%20%20%20%20%20%20%20%20%7B%22sticky%22%3A%20true%7D%0A%20%20%20%20%20%20%20%20%20%20%20%20%29%3B%0A%20%20%20%20%20%20%20%20%0A%20%20%20%20%0A%20%20%20%20%20%20%20%20%20%20%20%20var%20circle_7c920e50ac9e4316b3abdbc8e5de8712%20%3D%20L.circle%28%0A%20%20%20%20%20%20%20%20%20%20%20%20%20%20%20%20%5B61.92411%2C%2025.748151%5D%2C%0A%20%20%20%20%20%20%20%20%20%20%20%20%20%20%20%20%7B%22bubblingMouseEvents%22%3A%20true%2C%20%22color%22%3A%20%22crimson%22%2C%20%22dashArray%22%3A%20null%2C%20%22dashOffset%22%3A%20null%2C%20%22fill%22%3A%20%22crimson%22%2C%20%22fillColor%22%3A%20%22crimson%22%2C%20%22fillOpacity%22%3A%200.2%2C%20%22fillRule%22%3A%20%22evenodd%22%2C%20%22lineCap%22%3A%20%22round%22%2C%20%22lineJoin%22%3A%20%22round%22%2C%20%22opacity%22%3A%201.0%2C%20%22radius%22%3A%2079.28429857165919%2C%20%22stroke%22%3A%20true%2C%20%22weight%22%3A%203%7D%0A%20%20%20%20%20%20%20%20%20%20%20%20%29.addTo%28map_7c9e061257c841f5a18c1ab46ec37f90%29%3B%0A%20%20%20%20%20%20%20%20%0A%20%20%20%20%0A%20%20%20%20%20%20%20%20%20%20%20%20circle_7c920e50ac9e4316b3abdbc8e5de8712.bindTooltip%28%0A%20%20%20%20%20%20%20%20%20%20%20%20%20%20%20%20%60%3Cdiv%3E%0A%20%20%20%20%20%20%20%20%20%20%20%20%20%20%20%20%20%20%20%20%20%3Cli%3E%3Cbold%3ECountry%20%3A%20Finland%3Cli%3E%3Cbold%3EConfirmed%20Cases%20%3A%206286%3Cli%3E%3Cbold%3EDeaths%20%3A%20297%0A%20%20%20%20%20%20%20%20%20%20%20%20%20%20%20%20%20%3C/div%3E%60%2C%0A%20%20%20%20%20%20%20%20%20%20%20%20%20%20%20%20%7B%22sticky%22%3A%20true%7D%0A%20%20%20%20%20%20%20%20%20%20%20%20%29%3B%0A%20%20%20%20%20%20%20%20%0A%20%20%20%20%0A%20%20%20%20%20%20%20%20%20%20%20%20var%20circle_d4fcc9bdd27344b9a9180ecdabed2be1%20%3D%20L.circle%28%0A%20%20%20%20%20%20%20%20%20%20%20%20%20%20%20%20%5B46.227638%2C%202.213749%5D%2C%0A%20%20%20%20%20%20%20%20%20%20%20%20%20%20%20%20%7B%22bubblingMouseEvents%22%3A%20true%2C%20%22color%22%3A%20%22crimson%22%2C%20%22dashArray%22%3A%20null%2C%20%22dashOffset%22%3A%20null%2C%20%22fill%22%3A%20%22crimson%22%2C%20%22fillColor%22%3A%20%22crimson%22%2C%20%22fillOpacity%22%3A%200.2%2C%20%22fillRule%22%3A%20%22evenodd%22%2C%20%22lineCap%22%3A%20%22round%22%2C%20%22lineJoin%22%3A%20%22round%22%2C%20%22opacity%22%3A%201.0%2C%20%22radius%22%3A%20377.2147929230772%2C%20%22stroke%22%3A%20true%2C%20%22weight%22%3A%203%7D%0A%20%20%20%20%20%20%20%20%20%20%20%20%29.addTo%28map_7c9e061257c841f5a18c1ab46ec37f90%29%3B%0A%20%20%20%20%20%20%20%20%0A%20%20%20%20%0A%20%20%20%20%20%20%20%20%20%20%20%20circle_d4fcc9bdd27344b9a9180ecdabed2be1.bindTooltip%28%0A%20%20%20%20%20%20%20%20%20%20%20%20%20%20%20%20%60%3Cdiv%3E%0A%20%20%20%20%20%20%20%20%20%20%20%20%20%20%20%20%20%20%20%20%20%3Cli%3E%3Cbold%3ECountry%20%3A%20France%3Cli%3E%3Cbold%3EConfirmed%20Cases%20%3A%20142291%3Cli%3E%3Cbold%3EDeaths%20%3A%2027625%0A%20%20%20%20%20%20%20%20%20%20%20%20%20%20%20%20%20%3C/div%3E%60%2C%0A%20%20%20%20%20%20%20%20%20%20%20%20%20%20%20%20%7B%22sticky%22%3A%20true%7D%0A%20%20%20%20%20%20%20%20%20%20%20%20%29%3B%0A%20%20%20%20%20%20%20%20%0A%20%20%20%20%0A%20%20%20%20%20%20%20%20%20%20%20%20var%20circle_33306ce652864fb0966b23b7a14c0a32%20%3D%20L.circle%28%0A%20%20%20%20%20%20%20%20%20%20%20%20%20%20%20%20%5B55.378051%2C%20-3.435973%5D%2C%0A%20%20%20%20%20%20%20%20%20%20%20%20%20%20%20%20%7B%22bubblingMouseEvents%22%3A%20true%2C%20%22color%22%3A%20%22crimson%22%2C%20%22dashArray%22%3A%20null%2C%20%22dashOffset%22%3A%20null%2C%20%22fill%22%3A%20%22crimson%22%2C%20%22fillColor%22%3A%20%22crimson%22%2C%20%22fillOpacity%22%3A%200.2%2C%20%22fillRule%22%3A%20%22evenodd%22%2C%20%22lineCap%22%3A%20%22round%22%2C%20%22lineJoin%22%3A%20%22round%22%2C%20%22opacity%22%3A%201.0%2C%20%22radius%22%3A%20490.06224094496406%2C%20%22stroke%22%3A%20true%2C%20%22weight%22%3A%203%7D%0A%20%20%20%20%20%20%20%20%20%20%20%20%29.addTo%28map_7c9e061257c841f5a18c1ab46ec37f90%29%3B%0A%20%20%20%20%20%20%20%20%0A%20%20%20%20%0A%20%20%20%20%20%20%20%20%20%20%20%20circle_33306ce652864fb0966b23b7a14c0a32.bindTooltip%28%0A%20%20%20%20%20%20%20%20%20%20%20%20%20%20%20%20%60%3Cdiv%3E%0A%20%20%20%20%20%20%20%20%20%20%20%20%20%20%20%20%20%20%20%20%20%3Cli%3E%3Cbold%3ECountry%20%3A%20United%20Kingdom%3Cli%3E%3Cbold%3EConfirmed%20Cases%20%3A%20240161%3Cli%3E%3Cbold%3EDeaths%20%3A%2034466%0A%20%20%20%20%20%20%20%20%20%20%20%20%20%20%20%20%20%3C/div%3E%60%2C%0A%20%20%20%20%20%20%20%20%20%20%20%20%20%20%20%20%7B%22sticky%22%3A%20true%7D%0A%20%20%20%20%20%20%20%20%20%20%20%20%29%3B%0A%20%20%20%20%20%20%20%20%0A%20%20%20%20%0A%20%20%20%20%20%20%20%20%20%20%20%20var%20circle_f2425d8fcb6e499dbbe631252b496547%20%3D%20L.circle%28%0A%20%20%20%20%20%20%20%20%20%20%20%20%20%20%20%20%5B39.074208%2C%2021.824312%5D%2C%0A%20%20%20%20%20%20%20%20%20%20%20%20%20%20%20%20%7B%22bubblingMouseEvents%22%3A%20true%2C%20%22color%22%3A%20%22crimson%22%2C%20%22dashArray%22%3A%20null%2C%20%22dashOffset%22%3A%20null%2C%20%22fill%22%3A%20%22crimson%22%2C%20%22fillColor%22%3A%20%22crimson%22%2C%20%22fillOpacity%22%3A%200.2%2C%20%22fillRule%22%3A%20%22evenodd%22%2C%20%22lineCap%22%3A%20%22round%22%2C%20%22lineJoin%22%3A%20%22round%22%2C%20%22opacity%22%3A%201.0%2C%20%22radius%22%3A%2053.094255809833136%2C%20%22stroke%22%3A%20true%2C%20%22weight%22%3A%203%7D%0A%20%20%20%20%20%20%20%20%20%20%20%20%29.addTo%28map_7c9e061257c841f5a18c1ab46ec37f90%29%3B%0A%20%20%20%20%20%20%20%20%0A%20%20%20%20%0A%20%20%20%20%20%20%20%20%20%20%20%20circle_f2425d8fcb6e499dbbe631252b496547.bindTooltip%28%0A%20%20%20%20%20%20%20%20%20%20%20%20%20%20%20%20%60%3Cdiv%3E%0A%20%20%20%20%20%20%20%20%20%20%20%20%20%20%20%20%20%20%20%20%20%3Cli%3E%3Cbold%3ECountry%20%3A%20Greece%3Cli%3E%3Cbold%3EConfirmed%20Cases%20%3A%202819%3Cli%3E%3Cbold%3EDeaths%20%3A%20162%0A%20%20%20%20%20%20%20%20%20%20%20%20%20%20%20%20%20%3C/div%3E%60%2C%0A%20%20%20%20%20%20%20%20%20%20%20%20%20%20%20%20%7B%22sticky%22%3A%20true%7D%0A%20%20%20%20%20%20%20%20%20%20%20%20%29%3B%0A%20%20%20%20%20%20%20%20%0A%20%20%20%20%0A%20%20%20%20%20%20%20%20%20%20%20%20var%20circle_b96e3da604b04acf9d93682759c4233c%20%3D%20L.circle%28%0A%20%20%20%20%20%20%20%20%20%20%20%20%20%20%20%20%5B45.1%2C%2015.2%5D%2C%0A%20%20%20%20%20%20%20%20%20%20%20%20%20%20%20%20%7B%22bubblingMouseEvents%22%3A%20true%2C%20%22color%22%3A%20%22crimson%22%2C%20%22dashArray%22%3A%20null%2C%20%22dashOffset%22%3A%20null%2C%20%22fill%22%3A%20%22crimson%22%2C%20%22fillColor%22%3A%20%22crimson%22%2C%20%22fillOpacity%22%3A%200.2%2C%20%22fillRule%22%3A%20%22evenodd%22%2C%20%22lineCap%22%3A%20%22round%22%2C%20%22lineJoin%22%3A%20%22round%22%2C%20%22opacity%22%3A%201.0%2C%20%22radius%22%3A%2047.15930449020638%2C%20%22stroke%22%3A%20true%2C%20%22weight%22%3A%203%7D%0A%20%20%20%20%20%20%20%20%20%20%20%20%29.addTo%28map_7c9e061257c841f5a18c1ab46ec37f90%29%3B%0A%20%20%20%20%20%20%20%20%0A%20%20%20%20%0A%20%20%20%20%20%20%20%20%20%20%20%20circle_b96e3da604b04acf9d93682759c4233c.bindTooltip%28%0A%20%20%20%20%20%20%20%20%20%20%20%20%20%20%20%20%60%3Cdiv%3E%0A%20%20%20%20%20%20%20%20%20%20%20%20%20%20%20%20%20%20%20%20%20%3Cli%3E%3Cbold%3ECountry%20%3A%20Croatia%3Cli%3E%3Cbold%3EConfirmed%20Cases%20%3A%202224%3Cli%3E%3Cbold%3EDeaths%20%3A%2095%0A%20%20%20%20%20%20%20%20%20%20%20%20%20%20%20%20%20%3C/div%3E%60%2C%0A%20%20%20%20%20%20%20%20%20%20%20%20%20%20%20%20%7B%22sticky%22%3A%20true%7D%0A%20%20%20%20%20%20%20%20%20%20%20%20%29%3B%0A%20%20%20%20%20%20%20%20%0A%20%20%20%20%0A%20%20%20%20%20%20%20%20%20%20%20%20var%20circle_25d8146a761241a395b999f6bd706093%20%3D%20L.circle%28%0A%20%20%20%20%20%20%20%20%20%20%20%20%20%20%20%20%5B47.162494%2C%2019.503304%5D%2C%0A%20%20%20%20%20%20%20%20%20%20%20%20%20%20%20%20%7B%22bubblingMouseEvents%22%3A%20true%2C%20%22color%22%3A%20%22crimson%22%2C%20%22dashArray%22%3A%20null%2C%20%22dashOffset%22%3A%20null%2C%20%22fill%22%3A%20%22crimson%22%2C%20%22fillColor%22%3A%20%22crimson%22%2C%20%22fillOpacity%22%3A%200.2%2C%20%22fillRule%22%3A%20%22evenodd%22%2C%20%22lineCap%22%3A%20%22round%22%2C%20%22lineJoin%22%3A%20%22round%22%2C%20%22opacity%22%3A%201.0%2C%20%22radius%22%3A%2059.23681287847955%2C%20%22stroke%22%3A%20true%2C%20%22weight%22%3A%203%7D%0A%20%20%20%20%20%20%20%20%20%20%20%20%29.addTo%28map_7c9e061257c841f5a18c1ab46ec37f90%29%3B%0A%20%20%20%20%20%20%20%20%0A%20%20%20%20%0A%20%20%20%20%20%20%20%20%20%20%20%20circle_25d8146a761241a395b999f6bd706093.bindTooltip%28%0A%20%20%20%20%20%20%20%20%20%20%20%20%20%20%20%20%60%3Cdiv%3E%0A%20%20%20%20%20%20%20%20%20%20%20%20%20%20%20%20%20%20%20%20%20%3Cli%3E%3Cbold%3ECountry%20%3A%20Hungary%3Cli%3E%3Cbold%3EConfirmed%20Cases%20%3A%203509%3Cli%3E%3Cbold%3EDeaths%20%3A%20451%0A%20%20%20%20%20%20%20%20%20%20%20%20%20%20%20%20%20%3C/div%3E%60%2C%0A%20%20%20%20%20%20%20%20%20%20%20%20%20%20%20%20%7B%22sticky%22%3A%20true%7D%0A%20%20%20%20%20%20%20%20%20%20%20%20%29%3B%0A%20%20%20%20%20%20%20%20%0A%20%20%20%20%0A%20%20%20%20%20%20%20%20%20%20%20%20var%20circle_1d802abc71d14a718e6c410f9e278413%20%3D%20L.circle%28%0A%20%20%20%20%20%20%20%20%20%20%20%20%20%20%20%20%5B53.41291%2C%20-8.24389%5D%2C%0A%20%20%20%20%20%20%20%20%20%20%20%20%20%20%20%20%7B%22bubblingMouseEvents%22%3A%20true%2C%20%22color%22%3A%20%22crimson%22%2C%20%22dashArray%22%3A%20null%2C%20%22dashOffset%22%3A%20null%2C%20%22fill%22%3A%20%22crimson%22%2C%20%22fillColor%22%3A%20%22crimson%22%2C%20%22fillOpacity%22%3A%200.2%2C%20%22fillRule%22%3A%20%22evenodd%22%2C%20%22lineCap%22%3A%20%22round%22%2C%20%22lineJoin%22%3A%20%22round%22%2C%20%22opacity%22%3A%201.0%2C%20%22radius%22%3A%20155.07417579984102%2C%20%22stroke%22%3A%20true%2C%20%22weight%22%3A%203%7D%0A%20%20%20%20%20%20%20%20%20%20%20%20%29.addTo%28map_7c9e061257c841f5a18c1ab46ec37f90%29%3B%0A%20%20%20%20%20%20%20%20%0A%20%20%20%20%0A%20%20%20%20%20%20%20%20%20%20%20%20circle_1d802abc71d14a718e6c410f9e278413.bindTooltip%28%0A%20%20%20%20%20%20%20%20%20%20%20%20%20%20%20%20%60%3Cdiv%3E%0A%20%20%20%20%20%20%20%20%20%20%20%20%20%20%20%20%20%20%20%20%20%3Cli%3E%3Cbold%3ECountry%20%3A%20Ireland%3Cli%3E%3Cbold%3EConfirmed%20Cases%20%3A%2024048%3Cli%3E%3Cbold%3EDeaths%20%3A%201533%0A%20%20%20%20%20%20%20%20%20%20%20%20%20%20%20%20%20%3C/div%3E%60%2C%0A%20%20%20%20%20%20%20%20%20%20%20%20%20%20%20%20%7B%22sticky%22%3A%20true%7D%0A%20%20%20%20%20%20%20%20%20%20%20%20%29%3B%0A%20%20%20%20%20%20%20%20%0A%20%20%20%20%0A%20%20%20%20%20%20%20%20%20%20%20%20var%20circle_b3cc9517bafe4e8a88a8b6099ea691d6%20%3D%20L.circle%28%0A%20%20%20%20%20%20%20%20%20%20%20%20%20%20%20%20%5B20.593684%2C%2078.96288%5D%2C%0A%20%20%20%20%20%20%20%20%20%20%20%20%20%20%20%20%7B%22bubblingMouseEvents%22%3A%20true%2C%20%22color%22%3A%20%22crimson%22%2C%20%22dashArray%22%3A%20null%2C%20%22dashOffset%22%3A%20null%2C%20%22fill%22%3A%20%22crimson%22%2C%20%22fillColor%22%3A%20%22crimson%22%2C%20%22fillOpacity%22%3A%200.2%2C%20%22fillRule%22%3A%20%22evenodd%22%2C%20%22lineCap%22%3A%20%22round%22%2C%20%22lineJoin%22%3A%20%22round%22%2C%20%22opacity%22%3A%201.0%2C%20%22radius%22%3A%20301.54104198267936%2C%20%22stroke%22%3A%20true%2C%20%22weight%22%3A%203%7D%0A%20%20%20%20%20%20%20%20%20%20%20%20%29.addTo%28map_7c9e061257c841f5a18c1ab46ec37f90%29%3B%0A%20%20%20%20%20%20%20%20%0A%20%20%20%20%0A%20%20%20%20%20%20%20%20%20%20%20%20circle_b3cc9517bafe4e8a88a8b6099ea691d6.bindTooltip%28%0A%20%20%20%20%20%20%20%20%20%20%20%20%20%20%20%20%60%3Cdiv%3E%0A%20%20%20%20%20%20%20%20%20%20%20%20%20%20%20%20%20%20%20%20%20%3Cli%3E%3Cbold%3ECountry%20%3A%20India%3Cli%3E%3Cbold%3EConfirmed%20Cases%20%3A%2090927%3Cli%3E%3Cbold%3EDeaths%20%3A%202872%0A%20%20%20%20%20%20%20%20%20%20%20%20%20%20%20%20%20%3C/div%3E%60%2C%0A%20%20%20%20%20%20%20%20%20%20%20%20%20%20%20%20%7B%22sticky%22%3A%20true%7D%0A%20%20%20%20%20%20%20%20%20%20%20%20%29%3B%0A%20%20%20%20%20%20%20%20%0A%20%20%20%20%0A%20%20%20%20%20%20%20%20%20%20%20%20var%20circle_358bc0edc58c499f8c4c434837700441%20%3D%20L.circle%28%0A%20%20%20%20%20%20%20%20%20%20%20%20%20%20%20%20%5B33.223191%2C%2043.679291%5D%2C%0A%20%20%20%20%20%20%20%20%20%20%20%20%20%20%20%20%7B%22bubblingMouseEvents%22%3A%20true%2C%20%22color%22%3A%20%22crimson%22%2C%20%22dashArray%22%3A%20null%2C%20%22dashOffset%22%3A%20null%2C%20%22fill%22%3A%20%22crimson%22%2C%20%22fillColor%22%3A%20%22crimson%22%2C%20%22fillOpacity%22%3A%200.2%2C%20%22fillRule%22%3A%20%22evenodd%22%2C%20%22lineCap%22%3A%20%22round%22%2C%20%22lineJoin%22%3A%20%22round%22%2C%20%22opacity%22%3A%201.0%2C%20%22radius%22%3A%2057.09640969448079%2C%20%22stroke%22%3A%20true%2C%20%22weight%22%3A%203%7D%0A%20%20%20%20%20%20%20%20%20%20%20%20%29.addTo%28map_7c9e061257c841f5a18c1ab46ec37f90%29%3B%0A%20%20%20%20%20%20%20%20%0A%20%20%20%20%0A%20%20%20%20%20%20%20%20%20%20%20%20circle_358bc0edc58c499f8c4c434837700441.bindTooltip%28%0A%20%20%20%20%20%20%20%20%20%20%20%20%20%20%20%20%60%3Cdiv%3E%0A%20%20%20%20%20%20%20%20%20%20%20%20%20%20%20%20%20%20%20%20%20%3Cli%3E%3Cbold%3ECountry%20%3A%20Iraq%3Cli%3E%3Cbold%3EConfirmed%20Cases%20%3A%203260%3Cli%3E%3Cbold%3EDeaths%20%3A%20121%0A%20%20%20%20%20%20%20%20%20%20%20%20%20%20%20%20%20%3C/div%3E%60%2C%0A%20%20%20%20%20%20%20%20%20%20%20%20%20%20%20%20%7B%22sticky%22%3A%20true%7D%0A%20%20%20%20%20%20%20%20%20%20%20%20%29%3B%0A%20%20%20%20%20%20%20%20%0A%20%20%20%20%0A%20%20%20%20%20%20%20%20%20%20%20%20var%20circle_efcf4338a34d43be9931247bb2996bc0%20%3D%20L.circle%28%0A%20%20%20%20%20%20%20%20%20%20%20%20%20%20%20%20%5B41.87194%2C%2012.56738%5D%2C%0A%20%20%20%20%20%20%20%20%20%20%20%20%20%20%20%20%7B%22bubblingMouseEvents%22%3A%20true%2C%20%22color%22%3A%20%22crimson%22%2C%20%22dashArray%22%3A%20null%2C%20%22dashOffset%22%3A%20null%2C%20%22fill%22%3A%20%22crimson%22%2C%20%22fillColor%22%3A%20%22crimson%22%2C%20%22fillOpacity%22%3A%200.2%2C%20%22fillRule%22%3A%20%22evenodd%22%2C%20%22lineCap%22%3A%20%22round%22%2C%20%22lineJoin%22%3A%20%22round%22%2C%20%22opacity%22%3A%201.0%2C%20%22radius%22%3A%20474.08859931451633%2C%20%22stroke%22%3A%20true%2C%20%22weight%22%3A%203%7D%0A%20%20%20%20%20%20%20%20%20%20%20%20%29.addTo%28map_7c9e061257c841f5a18c1ab46ec37f90%29%3B%0A%20%20%20%20%20%20%20%20%0A%20%20%20%20%0A%20%20%20%20%20%20%20%20%20%20%20%20circle_efcf4338a34d43be9931247bb2996bc0.bindTooltip%28%0A%20%20%20%20%20%20%20%20%20%20%20%20%20%20%20%20%60%3Cdiv%3E%0A%20%20%20%20%20%20%20%20%20%20%20%20%20%20%20%20%20%20%20%20%20%3Cli%3E%3Cbold%3ECountry%20%3A%20Italy%3Cli%3E%3Cbold%3EConfirmed%20Cases%20%3A%20224760%3Cli%3E%3Cbold%3EDeaths%20%3A%2031763%0A%20%20%20%20%20%20%20%20%20%20%20%20%20%20%20%20%20%3C/div%3E%60%2C%0A%20%20%20%20%20%20%20%20%20%20%20%20%20%20%20%20%7B%22sticky%22%3A%20true%7D%0A%20%20%20%20%20%20%20%20%20%20%20%20%29%3B%0A%20%20%20%20%20%20%20%20%0A%20%20%20%20%0A%20%20%20%20%20%20%20%20%20%20%20%20var%20circle_4d64f3aee4054169863ac7905df71c91%20%3D%20L.circle%28%0A%20%20%20%20%20%20%20%20%20%20%20%20%20%20%20%20%5B29.31166%2C%2047.481766%5D%2C%0A%20%20%20%20%20%20%20%20%20%20%20%20%20%20%20%20%7B%22bubblingMouseEvents%22%3A%20true%2C%20%22color%22%3A%20%22crimson%22%2C%20%22dashArray%22%3A%20null%2C%20%22dashOffset%22%3A%20null%2C%20%22fill%22%3A%20%22crimson%22%2C%20%22fillColor%22%3A%20%22crimson%22%2C%20%22fillOpacity%22%3A%200.2%2C%20%22fillRule%22%3A%20%22evenodd%22%2C%20%22lineCap%22%3A%20%22round%22%2C%20%22lineJoin%22%3A%20%22round%22%2C%20%22opacity%22%3A%201.0%2C%20%22radius%22%3A%20117.48191350161096%2C%20%22stroke%22%3A%20true%2C%20%22weight%22%3A%203%7D%0A%20%20%20%20%20%20%20%20%20%20%20%20%29.addTo%28map_7c9e061257c841f5a18c1ab46ec37f90%29%3B%0A%20%20%20%20%20%20%20%20%0A%20%20%20%20%0A%20%20%20%20%20%20%20%20%20%20%20%20circle_4d64f3aee4054169863ac7905df71c91.bindTooltip%28%0A%20%20%20%20%20%20%20%20%20%20%20%20%20%20%20%20%60%3Cdiv%3E%0A%20%20%20%20%20%20%20%20%20%20%20%20%20%20%20%20%20%20%20%20%20%3Cli%3E%3Cbold%3ECountry%20%3A%20Kuwait%3Cli%3E%3Cbold%3EConfirmed%20Cases%20%3A%2013802%3Cli%3E%3Cbold%3EDeaths%20%3A%20107%0A%20%20%20%20%20%20%20%20%20%20%20%20%20%20%20%20%20%3C/div%3E%60%2C%0A%20%20%20%20%20%20%20%20%20%20%20%20%20%20%20%20%7B%22sticky%22%3A%20true%7D%0A%20%20%20%20%20%20%20%20%20%20%20%20%29%3B%0A%20%20%20%20%20%20%20%20%0A%20%20%20%20%0A%20%20%20%20%20%20%20%20%20%20%20%20var%20circle_9d1f9f6034514e87982c8015b1ce280e%20%3D%20L.circle%28%0A%20%20%20%20%20%20%20%20%20%20%20%20%20%20%20%20%5B55.169438%2C%2023.881275%5D%2C%0A%20%20%20%20%20%20%20%20%20%20%20%20%20%20%20%20%7B%22bubblingMouseEvents%22%3A%20true%2C%20%22color%22%3A%20%22crimson%22%2C%20%22dashArray%22%3A%20null%2C%20%22dashOffset%22%3A%20null%2C%20%22fill%22%3A%20%22crimson%22%2C%20%22fillColor%22%3A%20%22crimson%22%2C%20%22fillOpacity%22%3A%200.2%2C%20%22fillRule%22%3A%20%22evenodd%22%2C%20%22lineCap%22%3A%20%22round%22%2C%20%22lineJoin%22%3A%20%22round%22%2C%20%22opacity%22%3A%201.0%2C%20%22radius%22%3A%2039.16631205513228%2C%20%22stroke%22%3A%20true%2C%20%22weight%22%3A%203%7D%0A%20%20%20%20%20%20%20%20%20%20%20%20%29.addTo%28map_7c9e061257c841f5a18c1ab46ec37f90%29%3B%0A%20%20%20%20%20%20%20%20%0A%20%20%20%20%0A%20%20%20%20%20%20%20%20%20%20%20%20circle_9d1f9f6034514e87982c8015b1ce280e.bindTooltip%28%0A%20%20%20%20%20%20%20%20%20%20%20%20%20%20%20%20%60%3Cdiv%3E%0A%20%20%20%20%20%20%20%20%20%20%20%20%20%20%20%20%20%20%20%20%20%3Cli%3E%3Cbold%3ECountry%20%3A%20Lithuania%3Cli%3E%3Cbold%3EConfirmed%20Cases%20%3A%201534%3Cli%3E%3Cbold%3EDeaths%20%3A%2055%0A%20%20%20%20%20%20%20%20%20%20%20%20%20%20%20%20%20%3C/div%3E%60%2C%0A%20%20%20%20%20%20%20%20%20%20%20%20%20%20%20%20%7B%22sticky%22%3A%20true%7D%0A%20%20%20%20%20%20%20%20%20%20%20%20%29%3B%0A%20%20%20%20%20%20%20%20%0A%20%20%20%20%0A%20%20%20%20%20%20%20%20%20%20%20%20var%20circle_0469e7d4045e481db318f1061e16ffc4%20%3D%20L.circle%28%0A%20%20%20%20%20%20%20%20%20%20%20%20%20%20%20%20%5B46.862496%2C%20103.846656%5D%2C%0A%20%20%20%20%20%20%20%20%20%20%20%20%20%20%20%20%7B%22bubblingMouseEvents%22%3A%20true%2C%20%22color%22%3A%20%22crimson%22%2C%20%22dashArray%22%3A%20null%2C%20%22dashOffset%22%3A%20null%2C%20%22fill%22%3A%20%22crimson%22%2C%20%22fillColor%22%3A%20%22crimson%22%2C%20%22fillOpacity%22%3A%200.2%2C%20%22fillRule%22%3A%20%22evenodd%22%2C%20%22lineCap%22%3A%20%22round%22%2C%20%22lineJoin%22%3A%20%22round%22%2C%20%22opacity%22%3A%201.0%2C%20%22radius%22%3A%2011.661903789690601%2C%20%22stroke%22%3A%20true%2C%20%22weight%22%3A%203%7D%0A%20%20%20%20%20%20%20%20%20%20%20%20%29.addTo%28map_7c9e061257c841f5a18c1ab46ec37f90%29%3B%0A%20%20%20%20%20%20%20%20%0A%20%20%20%20%0A%20%20%20%20%20%20%20%20%20%20%20%20circle_0469e7d4045e481db318f1061e16ffc4.bindTooltip%28%0A%20%20%20%20%20%20%20%20%20%20%20%20%20%20%20%20%60%3Cdiv%3E%0A%20%20%20%20%20%20%20%20%20%20%20%20%20%20%20%20%20%20%20%20%20%3Cli%3E%3Cbold%3ECountry%20%3A%20Mongolia%3Cli%3E%3Cbold%3EConfirmed%20Cases%20%3A%20136%3Cli%3E%3Cbold%3EDeaths%20%3A%200%0A%20%20%20%20%20%20%20%20%20%20%20%20%20%20%20%20%20%3C/div%3E%60%2C%0A%20%20%20%20%20%20%20%20%20%20%20%20%20%20%20%20%7B%22sticky%22%3A%20true%7D%0A%20%20%20%20%20%20%20%20%20%20%20%20%29%3B%0A%20%20%20%20%20%20%20%20%0A%20%20%20%20%0A%20%20%20%20%20%20%20%20%20%20%20%20var%20circle_da57c7997d7b40e989465205cfde6985%20%3D%20L.circle%28%0A%20%20%20%20%20%20%20%20%20%20%20%20%20%20%20%20%5B52.132633%2C%205.291266%5D%2C%0A%20%20%20%20%20%20%20%20%20%20%20%20%20%20%20%20%7B%22bubblingMouseEvents%22%3A%20true%2C%20%22color%22%3A%20%22crimson%22%2C%20%22dashArray%22%3A%20null%2C%20%22dashOffset%22%3A%20null%2C%20%22fill%22%3A%20%22crimson%22%2C%20%22fillColor%22%3A%20%22crimson%22%2C%20%22fillOpacity%22%3A%200.2%2C%20%22fillRule%22%3A%20%22evenodd%22%2C%20%22lineCap%22%3A%20%22round%22%2C%20%22lineJoin%22%3A%20%22round%22%2C%20%22opacity%22%3A%201.0%2C%20%22radius%22%3A%20209.45166506857854%2C%20%22stroke%22%3A%20true%2C%20%22weight%22%3A%203%7D%0A%20%20%20%20%20%20%20%20%20%20%20%20%29.addTo%28map_7c9e061257c841f5a18c1ab46ec37f90%29%3B%0A%20%20%20%20%20%20%20%20%0A%20%20%20%20%0A%20%20%20%20%20%20%20%20%20%20%20%20circle_da57c7997d7b40e989465205cfde6985.bindTooltip%28%0A%20%20%20%20%20%20%20%20%20%20%20%20%20%20%20%20%60%3Cdiv%3E%0A%20%20%20%20%20%20%20%20%20%20%20%20%20%20%20%20%20%20%20%20%20%3Cli%3E%3Cbold%3ECountry%20%3A%20Netherlands%3Cli%3E%3Cbold%3EConfirmed%20Cases%20%3A%2043870%3Cli%3E%3Cbold%3EDeaths%20%3A%205670%0A%20%20%20%20%20%20%20%20%20%20%20%20%20%20%20%20%20%3C/div%3E%60%2C%0A%20%20%20%20%20%20%20%20%20%20%20%20%20%20%20%20%7B%22sticky%22%3A%20true%7D%0A%20%20%20%20%20%20%20%20%20%20%20%20%29%3B%0A%20%20%20%20%20%20%20%20%0A%20%20%20%20%0A%20%20%20%20%20%20%20%20%20%20%20%20var%20circle_4f05ad6d2e724768931e94524c28f047%20%3D%20L.circle%28%0A%20%20%20%20%20%20%20%20%20%20%20%20%20%20%20%20%5B60.472024%2C%208.468946%5D%2C%0A%20%20%20%20%20%20%20%20%20%20%20%20%20%20%20%20%7B%22bubblingMouseEvents%22%3A%20true%2C%20%22color%22%3A%20%22crimson%22%2C%20%22dashArray%22%3A%20null%2C%20%22dashOffset%22%3A%20null%2C%20%22fill%22%3A%20%22crimson%22%2C%20%22fillColor%22%3A%20%22crimson%22%2C%20%22fillOpacity%22%3A%200.2%2C%20%22fillRule%22%3A%20%22evenodd%22%2C%20%22lineCap%22%3A%20%22round%22%2C%20%22lineJoin%22%3A%20%22round%22%2C%20%22opacity%22%3A%201.0%2C%20%22radius%22%3A%2090.53728513711906%2C%20%22stroke%22%3A%20true%2C%20%22weight%22%3A%203%7D%0A%20%20%20%20%20%20%20%20%20%20%20%20%29.addTo%28map_7c9e061257c841f5a18c1ab46ec37f90%29%3B%0A%20%20%20%20%20%20%20%20%0A%20%20%20%20%0A%20%20%20%20%20%20%20%20%20%20%20%20circle_4f05ad6d2e724768931e94524c28f047.bindTooltip%28%0A%20%20%20%20%20%20%20%20%20%20%20%20%20%20%20%20%60%3Cdiv%3E%0A%20%20%20%20%20%20%20%20%20%20%20%20%20%20%20%20%20%20%20%20%20%3Cli%3E%3Cbold%3ECountry%20%3A%20Norway%3Cli%3E%3Cbold%3EConfirmed%20Cases%20%3A%208197%3Cli%3E%3Cbold%3EDeaths%20%3A%20232%0A%20%20%20%20%20%20%20%20%20%20%20%20%20%20%20%20%20%3C/div%3E%60%2C%0A%20%20%20%20%20%20%20%20%20%20%20%20%20%20%20%20%7B%22sticky%22%3A%20true%7D%0A%20%20%20%20%20%20%20%20%20%20%20%20%29%3B%0A%20%20%20%20%20%20%20%20%0A%20%20%20%20%0A%20%20%20%20%20%20%20%20%20%20%20%20var%20circle_92cbf2836d994bd69591a43a25571b0a%20%3D%20L.circle%28%0A%20%20%20%20%20%20%20%20%20%20%20%20%20%20%20%20%5B28.394857%2C%2084.124008%5D%2C%0A%20%20%20%20%20%20%20%20%20%20%20%20%20%20%20%20%7B%22bubblingMouseEvents%22%3A%20true%2C%20%22color%22%3A%20%22crimson%22%2C%20%22dashArray%22%3A%20null%2C%20%22dashOffset%22%3A%20null%2C%20%22fill%22%3A%20%22crimson%22%2C%20%22fillColor%22%3A%20%22crimson%22%2C%20%22fillOpacity%22%3A%200.2%2C%20%22fillRule%22%3A%20%22evenodd%22%2C%20%22lineCap%22%3A%20%22round%22%2C%20%22lineJoin%22%3A%20%22round%22%2C%20%22opacity%22%3A%201.0%2C%20%22radius%22%3A%2017.05872210923198%2C%20%22stroke%22%3A%20true%2C%20%22weight%22%3A%203%7D%0A%20%20%20%20%20%20%20%20%20%20%20%20%29.addTo%28map_7c9e061257c841f5a18c1ab46ec37f90%29%3B%0A%20%20%20%20%20%20%20%20%0A%20%20%20%20%0A%20%20%20%20%20%20%20%20%20%20%20%20circle_92cbf2836d994bd69591a43a25571b0a.bindTooltip%28%0A%20%20%20%20%20%20%20%20%20%20%20%20%20%20%20%20%60%3Cdiv%3E%0A%20%20%20%20%20%20%20%20%20%20%20%20%20%20%20%20%20%20%20%20%20%3Cli%3E%3Cbold%3ECountry%20%3A%20Nepal%3Cli%3E%3Cbold%3EConfirmed%20Cases%20%3A%20291%3Cli%3E%3Cbold%3EDeaths%20%3A%201%0A%20%20%20%20%20%20%20%20%20%20%20%20%20%20%20%20%20%3C/div%3E%60%2C%0A%20%20%20%20%20%20%20%20%20%20%20%20%20%20%20%20%7B%22sticky%22%3A%20true%7D%0A%20%20%20%20%20%20%20%20%20%20%20%20%29%3B%0A%20%20%20%20%20%20%20%20%0A%20%20%20%20%0A%20%20%20%20%20%20%20%20%20%20%20%20var%20circle_803a1f0b382047f4a813e0b81a4f7ca0%20%3D%20L.circle%28%0A%20%20%20%20%20%20%20%20%20%20%20%20%20%20%20%20%5B-40.900557%2C%20174.885971%5D%2C%0A%20%20%20%20%20%20%20%20%20%20%20%20%20%20%20%20%7B%22bubblingMouseEvents%22%3A%20true%2C%20%22color%22%3A%20%22crimson%22%2C%20%22dashArray%22%3A%20null%2C%20%22dashOffset%22%3A%20null%2C%20%22fill%22%3A%20%22crimson%22%2C%20%22fillColor%22%3A%20%22crimson%22%2C%20%22fillOpacity%22%3A%200.2%2C%20%22fillRule%22%3A%20%22evenodd%22%2C%20%22lineCap%22%3A%20%22round%22%2C%20%22lineJoin%22%3A%20%22round%22%2C%20%22opacity%22%3A%201.0%2C%20%22radius%22%3A%2033.896902513356586%2C%20%22stroke%22%3A%20true%2C%20%22weight%22%3A%203%7D%0A%20%20%20%20%20%20%20%20%20%20%20%20%29.addTo%28map_7c9e061257c841f5a18c1ab46ec37f90%29%3B%0A%20%20%20%20%20%20%20%20%0A%20%20%20%20%0A%20%20%20%20%20%20%20%20%20%20%20%20circle_803a1f0b382047f4a813e0b81a4f7ca0.bindTooltip%28%0A%20%20%20%20%20%20%20%20%20%20%20%20%20%20%20%20%60%3Cdiv%3E%0A%20%20%20%20%20%20%20%20%20%20%20%20%20%20%20%20%20%20%20%20%20%3Cli%3E%3Cbold%3ECountry%20%3A%20New%20Zealand%3Cli%3E%3Cbold%3EConfirmed%20Cases%20%3A%201149%3Cli%3E%3Cbold%3EDeaths%20%3A%2021%0A%20%20%20%20%20%20%20%20%20%20%20%20%20%20%20%20%20%3C/div%3E%60%2C%0A%20%20%20%20%20%20%20%20%20%20%20%20%20%20%20%20%7B%22sticky%22%3A%20true%7D%0A%20%20%20%20%20%20%20%20%20%20%20%20%29%3B%0A%20%20%20%20%20%20%20%20%0A%20%20%20%20%0A%20%20%20%20%20%20%20%20%20%20%20%20var%20circle_fb938b2c6c634e22976b77e4ec9bf89f%20%3D%20L.circle%28%0A%20%20%20%20%20%20%20%20%20%20%20%20%20%20%20%20%5B-9.189967%2C%20-75.015152%5D%2C%0A%20%20%20%20%20%20%20%20%20%20%20%20%20%20%20%20%7B%22bubblingMouseEvents%22%3A%20true%2C%20%22color%22%3A%20%22crimson%22%2C%20%22dashArray%22%3A%20null%2C%20%22dashOffset%22%3A%20null%2C%20%22fill%22%3A%20%22crimson%22%2C%20%22fillColor%22%3A%20%22crimson%22%2C%20%22fillOpacity%22%3A%200.2%2C%20%22fillRule%22%3A%20%22evenodd%22%2C%20%22lineCap%22%3A%20%22round%22%2C%20%22lineJoin%22%3A%20%22round%22%2C%20%22opacity%22%3A%201.0%2C%20%22radius%22%3A%20297.5583976297762%2C%20%22stroke%22%3A%20true%2C%20%22weight%22%3A%203%7D%0A%20%20%20%20%20%20%20%20%20%20%20%20%29.addTo%28map_7c9e061257c841f5a18c1ab46ec37f90%29%3B%0A%20%20%20%20%20%20%20%20%0A%20%20%20%20%0A%20%20%20%20%20%20%20%20%20%20%20%20circle_fb938b2c6c634e22976b77e4ec9bf89f.bindTooltip%28%0A%20%20%20%20%20%20%20%20%20%20%20%20%20%20%20%20%60%3Cdiv%3E%0A%20%20%20%20%20%20%20%20%20%20%20%20%20%20%20%20%20%20%20%20%20%3Cli%3E%3Cbold%3ECountry%20%3A%20Peru%3Cli%3E%3Cbold%3EConfirmed%20Cases%20%3A%2088541%3Cli%3E%3Cbold%3EDeaths%20%3A%202523%0A%20%20%20%20%20%20%20%20%20%20%20%20%20%20%20%20%20%3C/div%3E%60%2C%0A%20%20%20%20%20%20%20%20%20%20%20%20%20%20%20%20%7B%22sticky%22%3A%20true%7D%0A%20%20%20%20%20%20%20%20%20%20%20%20%29%3B%0A%20%20%20%20%20%20%20%20%0A%20%20%20%20%0A%20%20%20%20%20%20%20%20%20%20%20%20var%20circle_644d814087c74cdcb396608da1cae50a%20%3D%20L.circle%28%0A%20%20%20%20%20%20%20%20%20%20%20%20%20%20%20%20%5B30.375321%2C%2069.345116%5D%2C%0A%20%20%20%20%20%20%20%20%20%20%20%20%20%20%20%20%7B%22bubblingMouseEvents%22%3A%20true%2C%20%22color%22%3A%20%22crimson%22%2C%20%22dashArray%22%3A%20null%2C%20%22dashOffset%22%3A%20null%2C%20%22fill%22%3A%20%22crimson%22%2C%20%22fillColor%22%3A%20%22crimson%22%2C%20%22fillOpacity%22%3A%200.2%2C%20%22fillRule%22%3A%20%22evenodd%22%2C%20%22lineCap%22%3A%20%22round%22%2C%20%22lineJoin%22%3A%20%22round%22%2C%20%22opacity%22%3A%201.0%2C%20%22stroke%22%3A%20true%2C%20%22weight%22%3A%203%7D%0A%20%20%20%20%20%20%20%20%20%20%20%20%29.addTo%28map_7c9e061257c841f5a18c1ab46ec37f90%29%3B%0A%20%20%20%20%20%20%20%20%0A%20%20%20%20%0A%20%20%20%20%20%20%20%20%20%20%20%20circle_644d814087c74cdcb396608da1cae50a.bindTooltip%28%0A%20%20%20%20%20%20%20%20%20%20%20%20%20%20%20%20%60%3Cdiv%3E%0A%20%20%20%20%20%20%20%20%20%20%20%20%20%20%20%20%20%20%20%20%20%3Cli%3E%3Cbold%3ECountry%20%3A%20Pakistan%3Cli%3E%3Cbold%3EConfirmed%20Cases%20%3A%200%3Cli%3E%3Cbold%3EDeaths%20%3A%200%0A%20%20%20%20%20%20%20%20%20%20%20%20%20%20%20%20%20%3C/div%3E%60%2C%0A%20%20%20%20%20%20%20%20%20%20%20%20%20%20%20%20%7B%22sticky%22%3A%20true%7D%0A%20%20%20%20%20%20%20%20%20%20%20%20%29%3B%0A%20%20%20%20%20%20%20%20%0A%20%20%20%20%0A%20%20%20%20%20%20%20%20%20%20%20%20var%20circle_66ea77b4f39846478db9f67598d51474%20%3D%20L.circle%28%0A%20%20%20%20%20%20%20%20%20%20%20%20%20%20%20%20%5B51.919438%2C%2019.145136%5D%2C%0A%20%20%20%20%20%20%20%20%20%20%20%20%20%20%20%20%7B%22bubblingMouseEvents%22%3A%20true%2C%20%22color%22%3A%20%22crimson%22%2C%20%22dashArray%22%3A%20null%2C%20%22dashOffset%22%3A%20null%2C%20%22fill%22%3A%20%22crimson%22%2C%20%22fillColor%22%3A%20%22crimson%22%2C%20%22fillOpacity%22%3A%200.2%2C%20%22fillRule%22%3A%20%22evenodd%22%2C%20%22lineCap%22%3A%20%22round%22%2C%20%22lineJoin%22%3A%20%22round%22%2C%20%22opacity%22%3A%201.0%2C%20%22radius%22%3A%20135.1184665395519%2C%20%22stroke%22%3A%20true%2C%20%22weight%22%3A%203%7D%0A%20%20%20%20%20%20%20%20%20%20%20%20%29.addTo%28map_7c9e061257c841f5a18c1ab46ec37f90%29%3B%0A%20%20%20%20%20%20%20%20%0A%20%20%20%20%0A%20%20%20%20%20%20%20%20%20%20%20%20circle_66ea77b4f39846478db9f67598d51474.bindTooltip%28%0A%20%20%20%20%20%20%20%20%20%20%20%20%20%20%20%20%60%3Cdiv%3E%0A%20%20%20%20%20%20%20%20%20%20%20%20%20%20%20%20%20%20%20%20%20%3Cli%3E%3Cbold%3ECountry%20%3A%20Poland%3Cli%3E%3Cbold%3EConfirmed%20Cases%20%3A%2018257%3Cli%3E%3Cbold%3EDeaths%20%3A%20915%0A%20%20%20%20%20%20%20%20%20%20%20%20%20%20%20%20%20%3C/div%3E%60%2C%0A%20%20%20%20%20%20%20%20%20%20%20%20%20%20%20%20%7B%22sticky%22%3A%20true%7D%0A%20%20%20%20%20%20%20%20%20%20%20%20%29%3B%0A%20%20%20%20%20%20%20%20%0A%20%20%20%20%0A%20%20%20%20%20%20%20%20%20%20%20%20var%20circle_6765d12934be4d0283a73f55b9dd4426%20%3D%20L.circle%28%0A%20%20%20%20%20%20%20%20%20%20%20%20%20%20%20%20%5B39.399872%2C%20-8.224454%5D%2C%0A%20%20%20%20%20%20%20%20%20%20%20%20%20%20%20%20%7B%22bubblingMouseEvents%22%3A%20true%2C%20%22color%22%3A%20%22crimson%22%2C%20%22dashArray%22%3A%20null%2C%20%22dashOffset%22%3A%20null%2C%20%22fill%22%3A%20%22crimson%22%2C%20%22fillColor%22%3A%20%22crimson%22%2C%20%22fillOpacity%22%3A%200.2%2C%20%22fillRule%22%3A%20%22evenodd%22%2C%20%22lineCap%22%3A%20%22round%22%2C%20%22lineJoin%22%3A%20%22round%22%2C%20%22opacity%22%3A%201.0%2C%20%22radius%22%3A%20169.73508771023157%2C%20%22stroke%22%3A%20true%2C%20%22weight%22%3A%203%7D%0A%20%20%20%20%20%20%20%20%20%20%20%20%29.addTo%28map_7c9e061257c841f5a18c1ab46ec37f90%29%3B%0A%20%20%20%20%20%20%20%20%0A%20%20%20%20%0A%20%20%20%20%20%20%20%20%20%20%20%20circle_6765d12934be4d0283a73f55b9dd4426.bindTooltip%28%0A%20%20%20%20%20%20%20%20%20%20%20%20%20%20%20%20%60%3Cdiv%3E%0A%20%20%20%20%20%20%20%20%20%20%20%20%20%20%20%20%20%20%20%20%20%3Cli%3E%3Cbold%3ECountry%20%3A%20Portugal%3Cli%3E%3Cbold%3EConfirmed%20Cases%20%3A%2028810%3Cli%3E%3Cbold%3EDeaths%20%3A%201203%0A%20%20%20%20%20%20%20%20%20%20%20%20%20%20%20%20%20%3C/div%3E%60%2C%0A%20%20%20%20%20%20%20%20%20%20%20%20%20%20%20%20%7B%22sticky%22%3A%20true%7D%0A%20%20%20%20%20%20%20%20%20%20%20%20%29%3B%0A%20%20%20%20%20%20%20%20%0A%20%20%20%20%0A%20%20%20%20%20%20%20%20%20%20%20%20var%20circle_870addda930c4265bf4425d395cace74%20%3D%20L.circle%28%0A%20%20%20%20%20%20%20%20%20%20%20%20%20%20%20%20%5B44.016521%2C%2021.005859%5D%2C%0A%20%20%20%20%20%20%20%20%20%20%20%20%20%20%20%20%7B%22bubblingMouseEvents%22%3A%20true%2C%20%22color%22%3A%20%22crimson%22%2C%20%22dashArray%22%3A%20null%2C%20%22dashOffset%22%3A%20null%2C%20%22fill%22%3A%20%22crimson%22%2C%20%22fillColor%22%3A%20%22crimson%22%2C%20%22fillOpacity%22%3A%200.2%2C%20%22fillRule%22%3A%20%22evenodd%22%2C%20%22lineCap%22%3A%20%22round%22%2C%20%22lineJoin%22%3A%20%22round%22%2C%20%22opacity%22%3A%201.0%2C%20%22radius%22%3A%20102.44998779892558%2C%20%22stroke%22%3A%20true%2C%20%22weight%22%3A%203%7D%0A%20%20%20%20%20%20%20%20%20%20%20%20%29.addTo%28map_7c9e061257c841f5a18c1ab46ec37f90%29%3B%0A%20%20%20%20%20%20%20%20%0A%20%20%20%20%0A%20%20%20%20%20%20%20%20%20%20%20%20circle_870addda930c4265bf4425d395cace74.bindTooltip%28%0A%20%20%20%20%20%20%20%20%20%20%20%20%20%20%20%20%60%3Cdiv%3E%0A%20%20%20%20%20%20%20%20%20%20%20%20%20%20%20%20%20%20%20%20%20%3Cli%3E%3Cbold%3ECountry%20%3A%20Serbia%3Cli%3E%3Cbold%3EConfirmed%20Cases%20%3A%2010496%3Cli%3E%3Cbold%3EDeaths%20%3A%20228%0A%20%20%20%20%20%20%20%20%20%20%20%20%20%20%20%20%20%3C/div%3E%60%2C%0A%20%20%20%20%20%20%20%20%20%20%20%20%20%20%20%20%7B%22sticky%22%3A%20true%7D%0A%20%20%20%20%20%20%20%20%20%20%20%20%29%3B%0A%20%20%20%20%20%20%20%20%0A%20%20%20%20%0A%20%20%20%20%20%20%20%20%20%20%20%20var%20circle_ba840953231e40f6a9abdce1212dd883%20%3D%20L.circle%28%0A%20%20%20%20%20%20%20%20%20%20%20%20%20%20%20%20%5B61.52401%2C%20105.318756%5D%2C%0A%20%20%20%20%20%20%20%20%20%20%20%20%20%20%20%20%7B%22bubblingMouseEvents%22%3A%20true%2C%20%22color%22%3A%20%22crimson%22%2C%20%22dashArray%22%3A%20null%2C%20%22dashOffset%22%3A%20null%2C%20%22fill%22%3A%20%22crimson%22%2C%20%22fillColor%22%3A%20%22crimson%22%2C%20%22fillOpacity%22%3A%200.2%2C%20%22fillRule%22%3A%20%22evenodd%22%2C%20%22lineCap%22%3A%20%22round%22%2C%20%22lineJoin%22%3A%20%22round%22%2C%20%22opacity%22%3A%201.0%2C%20%22radius%22%3A%20521.5774151552193%2C%20%22stroke%22%3A%20true%2C%20%22weight%22%3A%203%7D%0A%20%20%20%20%20%20%20%20%20%20%20%20%29.addTo%28map_7c9e061257c841f5a18c1ab46ec37f90%29%3B%0A%20%20%20%20%20%20%20%20%0A%20%20%20%20%0A%20%20%20%20%20%20%20%20%20%20%20%20circle_ba840953231e40f6a9abdce1212dd883.bindTooltip%28%0A%20%20%20%20%20%20%20%20%20%20%20%20%20%20%20%20%60%3Cdiv%3E%0A%20%20%20%20%20%20%20%20%20%20%20%20%20%20%20%20%20%20%20%20%20%3Cli%3E%3Cbold%3ECountry%20%3A%20Russia%3Cli%3E%3Cbold%3EConfirmed%20Cases%20%3A%20272043%3Cli%3E%3Cbold%3EDeaths%20%3A%202537%0A%20%20%20%20%20%20%20%20%20%20%20%20%20%20%20%20%20%3C/div%3E%60%2C%0A%20%20%20%20%20%20%20%20%20%20%20%20%20%20%20%20%7B%22sticky%22%3A%20true%7D%0A%20%20%20%20%20%20%20%20%20%20%20%20%29%3B%0A%20%20%20%20%20%20%20%20%0A%20%20%20%20%0A%20%20%20%20%20%20%20%20%20%20%20%20var%20circle_100d1ad015f744c786e75edaae1c9c95%20%3D%20L.circle%28%0A%20%20%20%20%20%20%20%20%20%20%20%20%20%20%20%20%5B1.352083%2C%20103.819836%5D%2C%0A%20%20%20%20%20%20%20%20%20%20%20%20%20%20%20%20%7B%22bubblingMouseEvents%22%3A%20true%2C%20%22color%22%3A%20%22crimson%22%2C%20%22dashArray%22%3A%20null%2C%20%22dashOffset%22%3A%20null%2C%20%22fill%22%3A%20%22crimson%22%2C%20%22fillColor%22%3A%20%22crimson%22%2C%20%22fillOpacity%22%3A%200.2%2C%20%22fillRule%22%3A%20%22evenodd%22%2C%20%22lineCap%22%3A%20%22round%22%2C%20%22lineJoin%22%3A%20%22round%22%2C%20%22opacity%22%3A%201.0%2C%20%22radius%22%3A%20165.3964933122828%2C%20%22stroke%22%3A%20true%2C%20%22weight%22%3A%203%7D%0A%20%20%20%20%20%20%20%20%20%20%20%20%29.addTo%28map_7c9e061257c841f5a18c1ab46ec37f90%29%3B%0A%20%20%20%20%20%20%20%20%0A%20%20%20%20%0A%20%20%20%20%20%20%20%20%20%20%20%20circle_100d1ad015f744c786e75edaae1c9c95.bindTooltip%28%0A%20%20%20%20%20%20%20%20%20%20%20%20%20%20%20%20%60%3Cdiv%3E%0A%20%20%20%20%20%20%20%20%20%20%20%20%20%20%20%20%20%20%20%20%20%3Cli%3E%3Cbold%3ECountry%20%3A%20Singapore%3Cli%3E%3Cbold%3EConfirmed%20Cases%20%3A%2027356%3Cli%3E%3Cbold%3EDeaths%20%3A%2022%0A%20%20%20%20%20%20%20%20%20%20%20%20%20%20%20%20%20%3C/div%3E%60%2C%0A%20%20%20%20%20%20%20%20%20%20%20%20%20%20%20%20%7B%22sticky%22%3A%20true%7D%0A%20%20%20%20%20%20%20%20%20%20%20%20%29%3B%0A%20%20%20%20%20%20%20%20%0A%20%20%20%20%0A%20%20%20%20%20%20%20%20%20%20%20%20var%20circle_7ad7243f9361494da8de456f4a6db0f6%20%3D%20L.circle%28%0A%20%20%20%20%20%20%20%20%20%20%20%20%20%20%20%20%5B48.669026%2C%2019.699024%5D%2C%0A%20%20%20%20%20%20%20%20%20%20%20%20%20%20%20%20%7B%22bubblingMouseEvents%22%3A%20true%2C%20%22color%22%3A%20%22crimson%22%2C%20%22dashArray%22%3A%20null%2C%20%22dashOffset%22%3A%20null%2C%20%22fill%22%3A%20%22crimson%22%2C%20%22fillColor%22%3A%20%22crimson%22%2C%20%22fillOpacity%22%3A%200.2%2C%20%22fillRule%22%3A%20%22evenodd%22%2C%20%22lineCap%22%3A%20%22round%22%2C%20%22lineJoin%22%3A%20%22round%22%2C%20%22opacity%22%3A%201.0%2C%20%22radius%22%3A%2038.63935817272331%2C%20%22stroke%22%3A%20true%2C%20%22weight%22%3A%203%7D%0A%20%20%20%20%20%20%20%20%20%20%20%20%29.addTo%28map_7c9e061257c841f5a18c1ab46ec37f90%29%3B%0A%20%20%20%20%20%20%20%20%0A%20%20%20%20%0A%20%20%20%20%20%20%20%20%20%20%20%20circle_7ad7243f9361494da8de456f4a6db0f6.bindTooltip%28%0A%20%20%20%20%20%20%20%20%20%20%20%20%20%20%20%20%60%3Cdiv%3E%0A%20%20%20%20%20%20%20%20%20%20%20%20%20%20%20%20%20%20%20%20%20%3Cli%3E%3Cbold%3ECountry%20%3A%20Slovakia%3Cli%3E%3Cbold%3EConfirmed%20Cases%20%3A%201493%3Cli%3E%3Cbold%3EDeaths%20%3A%2028%0A%20%20%20%20%20%20%20%20%20%20%20%20%20%20%20%20%20%3C/div%3E%60%2C%0A%20%20%20%20%20%20%20%20%20%20%20%20%20%20%20%20%7B%22sticky%22%3A%20true%7D%0A%20%20%20%20%20%20%20%20%20%20%20%20%29%3B%0A%20%20%20%20%20%20%20%20%0A%20%20%20%20%0A%20%20%20%20%20%20%20%20%20%20%20%20var%20circle_664d8777c15c43d297451cac877b73c0%20%3D%20L.circle%28%0A%20%20%20%20%20%20%20%20%20%20%20%20%20%20%20%20%5B15.870032%2C%20100.992541%5D%2C%0A%20%20%20%20%20%20%20%20%20%20%20%20%20%20%20%20%7B%22bubblingMouseEvents%22%3A%20true%2C%20%22color%22%3A%20%22crimson%22%2C%20%22dashArray%22%3A%20null%2C%20%22dashOffset%22%3A%20null%2C%20%22fill%22%3A%20%22crimson%22%2C%20%22fillColor%22%3A%20%22crimson%22%2C%20%22fillOpacity%22%3A%200.2%2C%20%22fillRule%22%3A%20%22evenodd%22%2C%20%22lineCap%22%3A%20%22round%22%2C%20%22lineJoin%22%3A%20%22round%22%2C%20%22opacity%22%3A%201.0%2C%20%22radius%22%3A%2055.02726596879042%2C%20%22stroke%22%3A%20true%2C%20%22weight%22%3A%203%7D%0A%20%20%20%20%20%20%20%20%20%20%20%20%29.addTo%28map_7c9e061257c841f5a18c1ab46ec37f90%29%3B%0A%20%20%20%20%20%20%20%20%0A%20%20%20%20%0A%20%20%20%20%20%20%20%20%20%20%20%20circle_664d8777c15c43d297451cac877b73c0.bindTooltip%28%0A%20%20%20%20%20%20%20%20%20%20%20%20%20%20%20%20%60%3Cdiv%3E%0A%20%20%20%20%20%20%20%20%20%20%20%20%20%20%20%20%20%20%20%20%20%3Cli%3E%3Cbold%3ECountry%20%3A%20Thailand%3Cli%3E%3Cbold%3EConfirmed%20Cases%20%3A%203028%3Cli%3E%3Cbold%3EDeaths%20%3A%2056%0A%20%20%20%20%20%20%20%20%20%20%20%20%20%20%20%20%20%3C/div%3E%60%2C%0A%20%20%20%20%20%20%20%20%20%20%20%20%20%20%20%20%7B%22sticky%22%3A%20true%7D%0A%20%20%20%20%20%20%20%20%20%20%20%20%29%3B%0A%20%20%20%20%20%20%20%20%0A%20%20%20%20%0A%20%20%20%20%20%20%20%20%20%20%20%20var%20circle_71c71713457e45708833c9167a4277a0%20%3D%20L.circle%28%0A%20%20%20%20%20%20%20%20%20%20%20%20%20%20%20%20%5B38.963745%2C%2035.243322%5D%2C%0A%20%20%20%20%20%20%20%20%20%20%20%20%20%20%20%20%7B%22bubblingMouseEvents%22%3A%20true%2C%20%22color%22%3A%20%22crimson%22%2C%20%22dashArray%22%3A%20null%2C%20%22dashOffset%22%3A%20null%2C%20%22fill%22%3A%20%22crimson%22%2C%20%22fillColor%22%3A%20%22crimson%22%2C%20%22fillOpacity%22%3A%200.2%2C%20%22fillRule%22%3A%20%22evenodd%22%2C%20%22lineCap%22%3A%20%22round%22%2C%20%22lineJoin%22%3A%20%22round%22%2C%20%22opacity%22%3A%201.0%2C%20%22radius%22%3A%20384.79475048394306%2C%20%22stroke%22%3A%20true%2C%20%22weight%22%3A%203%7D%0A%20%20%20%20%20%20%20%20%20%20%20%20%29.addTo%28map_7c9e061257c841f5a18c1ab46ec37f90%29%3B%0A%20%20%20%20%20%20%20%20%0A%20%20%20%20%0A%20%20%20%20%20%20%20%20%20%20%20%20circle_71c71713457e45708833c9167a4277a0.bindTooltip%28%0A%20%20%20%20%20%20%20%20%20%20%20%20%20%20%20%20%60%3Cdiv%3E%0A%20%20%20%20%20%20%20%20%20%20%20%20%20%20%20%20%20%20%20%20%20%3Cli%3E%3Cbold%3ECountry%20%3A%20Turkey%3Cli%3E%3Cbold%3EConfirmed%20Cases%20%3A%20148067%3Cli%3E%3Cbold%3EDeaths%20%3A%204096%0A%20%20%20%20%20%20%20%20%20%20%20%20%20%20%20%20%20%3C/div%3E%60%2C%0A%20%20%20%20%20%20%20%20%20%20%20%20%20%20%20%20%7B%22sticky%22%3A%20true%7D%0A%20%20%20%20%20%20%20%20%20%20%20%20%29%3B%0A%20%20%20%20%20%20%20%20%0A%20%20%20%20%0A%20%20%20%20%20%20%20%20%20%20%20%20var%20circle_30ff5832ef024e7198a5293bfecaab22%20%3D%20L.circle%28%0A%20%20%20%20%20%20%20%20%20%20%20%20%20%20%20%20%5B48.379433%2C%2031.16558%5D%2C%0A%20%20%20%20%20%20%20%20%20%20%20%20%20%20%20%20%7B%22bubblingMouseEvents%22%3A%20true%2C%20%22color%22%3A%20%22crimson%22%2C%20%22dashArray%22%3A%20null%2C%20%22dashOffset%22%3A%20null%2C%20%22fill%22%3A%20%22crimson%22%2C%20%22fillColor%22%3A%20%22crimson%22%2C%20%22fillOpacity%22%3A%200.2%2C%20%22fillRule%22%3A%20%22evenodd%22%2C%20%22lineCap%22%3A%20%22round%22%2C%20%22lineJoin%22%3A%20%22round%22%2C%20%22opacity%22%3A%201.0%2C%20%22radius%22%3A%20133.63382805263043%2C%20%22stroke%22%3A%20true%2C%20%22weight%22%3A%203%7D%0A%20%20%20%20%20%20%20%20%20%20%20%20%29.addTo%28map_7c9e061257c841f5a18c1ab46ec37f90%29%3B%0A%20%20%20%20%20%20%20%20%0A%20%20%20%20%0A%20%20%20%20%20%20%20%20%20%20%20%20circle_30ff5832ef024e7198a5293bfecaab22.bindTooltip%28%0A%20%20%20%20%20%20%20%20%20%20%20%20%20%20%20%20%60%3Cdiv%3E%0A%20%20%20%20%20%20%20%20%20%20%20%20%20%20%20%20%20%20%20%20%20%3Cli%3E%3Cbold%3ECountry%20%3A%20Ukraine%3Cli%3E%3Cbold%3EConfirmed%20Cases%20%3A%2017858%3Cli%3E%3Cbold%3EDeaths%20%3A%20497%0A%20%20%20%20%20%20%20%20%20%20%20%20%20%20%20%20%20%3C/div%3E%60%2C%0A%20%20%20%20%20%20%20%20%20%20%20%20%20%20%20%20%7B%22sticky%22%3A%20true%7D%0A%20%20%20%20%20%20%20%20%20%20%20%20%29%3B%0A%20%20%20%20%20%20%20%20%0A%20%20%20%20%0A%20%20%20%20%20%20%20%20%20%20%20%20var%20circle_fcbd58e730ca46be919ff0f603623a24%20%3D%20L.circle%28%0A%20%20%20%20%20%20%20%20%20%20%20%20%20%20%20%20%5B37.09024%2C%20-95.712891%5D%2C%0A%20%20%20%20%20%20%20%20%20%20%20%20%20%20%20%20%7B%22bubblingMouseEvents%22%3A%20true%2C%20%22color%22%3A%20%22crimson%22%2C%20%22dashArray%22%3A%20null%2C%20%22dashOffset%22%3A%20null%2C%20%22fill%22%3A%20%22crimson%22%2C%20%22fillColor%22%3A%20%22crimson%22%2C%20%22fillOpacity%22%3A%200.2%2C%20%22fillRule%22%3A%20%22evenodd%22%2C%20%22lineCap%22%3A%20%22round%22%2C%20%22lineJoin%22%3A%20%22round%22%2C%20%22opacity%22%3A%201.0%2C%20%22radius%22%3A%201211.5626273536172%2C%20%22stroke%22%3A%20true%2C%20%22weight%22%3A%203%7D%0A%20%20%20%20%20%20%20%20%20%20%20%20%29.addTo%28map_7c9e061257c841f5a18c1ab46ec37f90%29%3B%0A%20%20%20%20%20%20%20%20%0A%20%20%20%20%0A%20%20%20%20%20%20%20%20%20%20%20%20circle_fcbd58e730ca46be919ff0f603623a24.bindTooltip%28%0A%20%20%20%20%20%20%20%20%20%20%20%20%20%20%20%20%60%3Cdiv%3E%0A%20%20%20%20%20%20%20%20%20%20%20%20%20%20%20%20%20%20%20%20%20%3Cli%3E%3Cbold%3ECountry%20%3A%20United%20States%3Cli%3E%3Cbold%3EConfirmed%20Cases%20%3A%201467884%3Cli%3E%3Cbold%3EDeaths%20%3A%2088754%0A%20%20%20%20%20%20%20%20%20%20%20%20%20%20%20%20%20%3C/div%3E%60%2C%0A%20%20%20%20%20%20%20%20%20%20%20%20%20%20%20%20%7B%22sticky%22%3A%20true%7D%0A%20%20%20%20%20%20%20%20%20%20%20%20%29%3B%0A%20%20%20%20%20%20%20%20%0A%3C/script%3E onload=\"this.contentDocument.open();this.contentDocument.write(    decodeURIComponent(this.getAttribute('data-html')));this.contentDocument.close();\" allowfullscreen webkitallowfullscreen mozallowfullscreen></iframe></div></div>"
      ],
      "text/plain": [
       "<folium.folium.Map at 0x1abbde885e0>"
      ]
     },
     "execution_count": 7,
     "metadata": {},
     "output_type": "execute_result"
    }
   ],
   "source": [
    "# World Map\n",
    "def covid19_world_map(data, country_names, numerical_attribute_1, numerical_attribute_2, longitude_attribute, latitude_attribute):\n",
    "    \n",
    "    \"\"\"Return the world wide map of Covid-19 cases and deaths for the countries.\"\"\"\n",
    "    \n",
    "    world_map = folium.Map(location=[0, 0], \n",
    "                           tiles='cartodbpositron',\n",
    "                           min_zoom=1, \n",
    "                           max_zoom=4, \n",
    "                           zoom_start=1)\n",
    "\n",
    "    for i in range(0, len(data)):\n",
    "        folium.Circle(location=[data.iloc[i][latitude_attribute], data.iloc[i][longitude_attribute]],\n",
    "                      color='crimson', fill='crimson',\n",
    "                      tooltip =   '<li><bold>Country : ' \n",
    "                      + str(data.iloc[i][country_names]) \n",
    "                      + '<li><bold>Confirmed Cases : '\n",
    "                      + str(data.iloc[i][numerical_attribute_1])\n",
    "                      + '<li><bold>Deaths : '+str(data.iloc[i][numerical_attribute_2]),\n",
    "                      radius=int(data.iloc[i][numerical_attribute_1])**0.5).add_to(world_map)\n",
    "    return world_map\n",
    "\n",
    "covid19_world_map(data,'Country', 'Total_Case', 'Total_Death', 'Longitude', 'Latitude')"
   ]
  },
  {
   "cell_type": "markdown",
   "metadata": {
    "id": "fdPtwiYKPYgK"
   },
   "source": [
    "## Descriptive Statistics of Target Variable"
   ]
  },
  {
   "cell_type": "code",
   "execution_count": 8,
   "metadata": {
    "colab": {
     "base_uri": "https://localhost:8080/"
    },
    "executionInfo": {
     "elapsed": 254,
     "status": "ok",
     "timestamp": 1632058314470,
     "user": {
      "displayName": "Pınar Erdoğan",
      "photoUrl": "https://lh3.googleusercontent.com/a-/AOh14GgSRPjhXDVyY6GG59MjOLdNKKS8OTbqdLxNLnUQsw=s64",
      "userId": "00401610262792975831"
     },
     "user_tz": -180
    },
    "id": "oRgtPrvTPYgK",
    "outputId": "f017c59d-fb72-4653-fa7e-085f87034dbb"
   },
   "outputs": [
    {
     "data": {
      "text/plain": [
       "count   47.00\n",
       "mean     0.68\n",
       "std      0.47\n",
       "min      0.00\n",
       "25%      0.00\n",
       "50%      1.00\n",
       "75%      1.00\n",
       "max      1.00\n",
       "Name: Change, dtype: float64"
      ]
     },
     "execution_count": 8,
     "metadata": {},
     "output_type": "execute_result"
    }
   ],
   "source": [
    "data[\"Change\"].describe()"
   ]
  },
  {
   "cell_type": "code",
   "execution_count": 9,
   "metadata": {
    "colab": {
     "base_uri": "https://localhost:8080/",
     "height": 367
    },
    "executionInfo": {
     "elapsed": 267,
     "status": "ok",
     "timestamp": 1632058315836,
     "user": {
      "displayName": "Pınar Erdoğan",
      "photoUrl": "https://lh3.googleusercontent.com/a-/AOh14GgSRPjhXDVyY6GG59MjOLdNKKS8OTbqdLxNLnUQsw=s64",
      "userId": "00401610262792975831"
     },
     "user_tz": -180
    },
    "id": "15nsggFJPYgL",
    "outputId": "b501e47d-87d1-4881-ce4f-a84f8a8d9d0f"
   },
   "outputs": [
    {
     "data": {
      "text/plain": [
       "Text(0.5, 1.0, 'Positive Change / No Change')"
      ]
     },
     "execution_count": 9,
     "metadata": {},
     "output_type": "execute_result"
    },
    {
     "data": {
      "image/png": "[encoded data removed]",
      "text/plain": [
       "<Figure size 360x360 with 1 Axes>"
      ]
     },
     "metadata": {
      "needs_background": "light"
     },
     "output_type": "display_data"
    }
   ],
   "source": [
    "figure, axes = plt.subplots(nrows=1, ncols=1, figsize=(5, 5))\n",
    "chart = sns.countplot(x='Change', data=data, palette=\"gnuplot2\")\n",
    "chart.set_title('Positive Change / No Change')\n",
    "    \n"
   ]
  },
  {
   "cell_type": "markdown",
   "metadata": {
    "id": "mXL_fwVbPYgL"
   },
   "source": [
    "* In this graph it can be seen that total number of Class 1's is much larger than total number  Class 0's. Nearly 68% of the cities has been affected positively and 32% of the cities has been faced with negative change or stay same in terms of PM2.5 levels.\n"
   ]
  },
  {
   "cell_type": "code",
   "execution_count": 10,
   "metadata": {
    "executionInfo": {
     "elapsed": 326,
     "status": "ok",
     "timestamp": 1632216531632,
     "user": {
      "displayName": "Pınar Erdoğan",
      "photoUrl": "https://lh3.googleusercontent.com/a-/AOh14GgSRPjhXDVyY6GG59MjOLdNKKS8OTbqdLxNLnUQsw=s64",
      "userId": "00401610262792975831"
     },
     "user_tz": -180
    },
    "id": "7BI2DTPCPYgL"
   },
   "outputs": [],
   "source": [
    "# Change attribute derived from the Avg_Pollution_2020 and Avg_Pollution_2019 atributes. \n",
    "data1 = data.copy()\n",
    "data1.drop(columns=[\"Country\",\"City\", \"Avg_Pollution_2020\",\"Avg_Pollution_2019\", \"Longitude\", \"Latitude\"], inplace=True) "
   ]
  },
  {
   "cell_type": "code",
   "execution_count": 11,
   "metadata": {
    "executionInfo": {
     "elapsed": 4,
     "status": "ok",
     "timestamp": 1632216533147,
     "user": {
      "displayName": "Pınar Erdoğan",
      "photoUrl": "https://lh3.googleusercontent.com/a-/AOh14GgSRPjhXDVyY6GG59MjOLdNKKS8OTbqdLxNLnUQsw=s64",
      "userId": "00401610262792975831"
     },
     "user_tz": -180
    },
    "id": "qw5GiXLhPYgL"
   },
   "outputs": [],
   "source": [
    "#Outlier Detection\n",
    "def print_outliers(data):\n",
    "    \n",
    "    \"\"\"Return the number of outliers for each feature in the dataframe.\"\"\"\n",
    "    \n",
    "    for column in data.columns:\n",
    "        if column==\"Id\":\n",
    "            continue\n",
    "            \n",
    "        quantiles=data[column].quantile(q=[0.25,0.50,0.75]).values\n",
    "        q1=quantiles[0]\n",
    "        q2=quantiles[1]\n",
    "        q3=quantiles[2]\n",
    "        iqr=q3-q1   \n",
    "        lower_limit =  q1- 1.5*iqr\n",
    "        upper_limit =  q3 + 1.5*iqr\n",
    "        outliers=data[(data[column] < lower_limit) | (data[column] >  upper_limit)][column]\n",
    "        \n",
    "        print(\"number of outliers in {:10s} :\\t{}\\t({:.2%})\".format(column, len(outliers), len(outliers)/len(data[column])))\n"
   ]
  },
  {
   "cell_type": "code",
   "execution_count": 12,
   "metadata": {
    "colab": {
     "base_uri": "https://localhost:8080/"
    },
    "executionInfo": {
     "elapsed": 10,
     "status": "ok",
     "timestamp": 1632216537799,
     "user": {
      "displayName": "Pınar Erdoğan",
      "photoUrl": "https://lh3.googleusercontent.com/a-/AOh14GgSRPjhXDVyY6GG59MjOLdNKKS8OTbqdLxNLnUQsw=s64",
      "userId": "00401610262792975831"
     },
     "user_tz": -180
    },
    "id": "nG4ZZ8YlPYgM",
    "outputId": "f0cbfe43-5ab4-4a22-cdd0-3f9d0a0da4de"
   },
   "outputs": [
    {
     "name": "stdout",
     "output_type": "stream",
     "text": [
      "number of outliers in Country_Population :\t6\t(12.77%)\n",
      "number of outliers in Total_Day_Lockdown :\t0\t(0.00%)\n",
      "number of outliers in Development :\t0\t(0.00%)\n",
      "number of outliers in Total_Case :\t7\t(14.89%)\n",
      "number of outliers in Total_Death :\t8\t(17.02%)\n",
      "number of outliers in Change     :\t0\t(0.00%)\n"
     ]
    }
   ],
   "source": [
    "print_outliers(data1)"
   ]
  },
  {
   "cell_type": "markdown",
   "metadata": {
    "id": "OzpebCQQPYgM"
   },
   "source": [
    "* There are outliers in the *Country_Population, Avg_Pollution_2020, Avg_Pollution_2019, Total_Case, Total_Death*. "
   ]
  },
  {
   "cell_type": "code",
   "execution_count": 13,
   "metadata": {
    "executionInfo": {
     "elapsed": 2,
     "status": "ok",
     "timestamp": 1632216539121,
     "user": {
      "displayName": "Pınar Erdoğan",
      "photoUrl": "https://lh3.googleusercontent.com/a-/AOh14GgSRPjhXDVyY6GG59MjOLdNKKS8OTbqdLxNLnUQsw=s64",
      "userId": "00401610262792975831"
     },
     "user_tz": -180
    },
    "id": "Iq04lBEaPYgM"
   },
   "outputs": [],
   "source": [
    "# 'Change' variable is the target.\n",
    "# Split dataset to X and y sets. X is for independent attribute and y for target attribute.\n",
    "y = data1.iloc[:,-1:]\n",
    "X = data1.iloc[:,:-1]"
   ]
  },
  {
   "cell_type": "markdown",
   "metadata": {
    "id": "IFcEfYz-PYgM"
   },
   "source": [
    "### Standardization"
   ]
  },
  {
   "cell_type": "markdown",
   "metadata": {
    "id": "MrlbuCIiPYgM"
   },
   "source": [
    "When independent variables in training data are measured in different units, it is important to standardize variables before applying algorithms because one variable may dominate all the others. Since in the dataset all variables are in different scale, before applying any algorithm to the data, explanatory variables are standardized. \n",
    "\n",
    "* Except XGBoost and Random Forest."
   ]
  },
  {
   "cell_type": "code",
   "execution_count": 14,
   "metadata": {
    "executionInfo": {
     "elapsed": 252,
     "status": "ok",
     "timestamp": 1632216542209,
     "user": {
      "displayName": "Pınar Erdoğan",
      "photoUrl": "https://lh3.googleusercontent.com/a-/AOh14GgSRPjhXDVyY6GG59MjOLdNKKS8OTbqdLxNLnUQsw=s64",
      "userId": "00401610262792975831"
     },
     "user_tz": -180
    },
    "id": "pWDRJEbbPYgM"
   },
   "outputs": [],
   "source": [
    "def standardize(data):\n",
    "    \n",
    "    \"\"\"Return the standardized dataframe.\"\"\"\n",
    "    \n",
    "    data1 = data.copy()\n",
    "    data1 = StandardScaler().fit_transform(data1)\n",
    "    data1 = pd.DataFrame(data1, columns = data.columns)\n",
    "    \n",
    "    return data1\n",
    "\n",
    "X = standardize(X)"
   ]
  },
  {
   "cell_type": "markdown",
   "metadata": {
    "id": "KLm4XK0TPYgN"
   },
   "source": [
    "## Models\n",
    "\n",
    "\n",
    "- In this section Logistic Regression, Support Vector Machine, Random Forest and K-Nearest Neigbors algorithms is applied to the dataset. Their hyperparameters will be tuned, after tuning general performance of the model will be calculated with repeated 5-Fold cross validation.\n",
    "\n",
    "\n",
    "\n",
    " \n",
    "\n"
   ]
  },
  {
   "cell_type": "markdown",
   "metadata": {
    "id": "Gop8jO4ePYgN"
   },
   "source": [
    "### Hyperparameter Optimization\n",
    "\n",
    "\n",
    "* A hyperparameter is external to the model and the value of it cannot be estimated from data. It affects the model performance and because of that hyperparameter tuning is important for all algorithms. \n",
    "\n",
    "\n",
    "* In this study, for each of the algorithms best hyperparameters are found with Grid Search Cross Validation. Grid-searching is a method that searching for best combination of hyperparameters. \n",
    "\n",
    "\n",
    "* In Scikitlearn, there is a *GridSearchCV*. Grid Search CV tries all possible parameter combinations which are determined by the user and find the best parameter setting for a specificed scoring method. \n",
    "\n",
    "* For this study, hypothetical set for each the hyperparameter are defined first, and best combination of hyperparameters are selected by GridSearchCV() method with Stratified 5-fold cross validation on training dataset. \n",
    "\n",
    "**Note:** Stratified Kfold CV i a cross validiation technique which is usd when data is imbalanced. It protect the distribution of target in the original data in each fold. \n"
   ]
  },
  {
   "cell_type": "code",
   "execution_count": 17,
   "metadata": {
    "executionInfo": {
     "elapsed": 244,
     "status": "ok",
     "timestamp": 1632216549252,
     "user": {
      "displayName": "Pınar Erdoğan",
      "photoUrl": "https://lh3.googleusercontent.com/a-/AOh14GgSRPjhXDVyY6GG59MjOLdNKKS8OTbqdLxNLnUQsw=s64",
      "userId": "00401610262792975831"
     },
     "user_tz": -180
    },
    "id": "XYq0RbRbPYgN"
   },
   "outputs": [],
   "source": [
    "def parameter_optimization(X, y, estimator, parameters, n_splits):\n",
    "    \n",
    "    \n",
    "    \"\"\"Return the best parameters using Grid Search method with Stratified Kfold CV.\"\"\"\n",
    "    cross_validation_method = StratifiedKFold(n_splits=5, shuffle=True, random_state=123)\n",
    "\n",
    "    grid_search_model = GridSearchCV(estimator=estimator, \n",
    "                                     param_grid=parameters, \n",
    "                                     cv=cross_validation_method,\n",
    "                                     scoring='f1',\n",
    "                                     n_jobs=-1,\n",
    "                                     verbose=2)\n",
    "    \n",
    "    grid_search_model.fit(X, y);\n",
    "    \n",
    "    return grid_search_model.best_params_"
   ]
  },
  {
   "cell_type": "code",
   "execution_count": 18,
   "metadata": {
    "executionInfo": {
     "elapsed": 447,
     "status": "ok",
     "timestamp": 1632216551048,
     "user": {
      "displayName": "Pınar Erdoğan",
      "photoUrl": "https://lh3.googleusercontent.com/a-/AOh14GgSRPjhXDVyY6GG59MjOLdNKKS8OTbqdLxNLnUQsw=s64",
      "userId": "00401610262792975831"
     },
     "user_tz": -180
    },
    "id": "UVOyvGtaPYgO"
   },
   "outputs": [],
   "source": [
    "def fit_predict(X, y, estimator):\n",
    "    \n",
    "    \"\"\"Fit model and predict the target, return predicted target.\"\"\"\n",
    "    \n",
    "    tuned_model = estimator\n",
    "    tuned_model.fit(X, y)\n",
    "    y_predict_test = tuned_model.predict(X)\n",
    "    \n",
    "    return y_predict_test"
   ]
  },
  {
   "cell_type": "code",
   "execution_count": 19,
   "metadata": {
    "executionInfo": {
     "elapsed": 253,
     "status": "ok",
     "timestamp": 1632216800818,
     "user": {
      "displayName": "Pınar Erdoğan",
      "photoUrl": "https://lh3.googleusercontent.com/a-/AOh14GgSRPjhXDVyY6GG59MjOLdNKKS8OTbqdLxNLnUQsw=s64",
      "userId": "00401610262792975831"
     },
     "user_tz": -180
    },
    "id": "91SojOsDPYgO"
   },
   "outputs": [],
   "source": [
    "def model_evaluate(estimator, X, y_true, y_pred):\n",
    "    \n",
    "    \"\"\"Evaluate the perofrmance of model using confusion matrix, balanced accuracy and F1 score.\"\"\"\n",
    "    \n",
    "    confusion_matrix_ = confusion_matrix(y_true, y_pred)\n",
    "    sns.heatmap(confusion_matrix_, annot=True, fmt=\"d\", cmap=\"Blues\")\n",
    "    print(\"Balanced accuracy score: \", \"{:.2f}\".format(balanced_accuracy_score(y_true, y_pred)), \n",
    "          \"\\nAUC: \", \"{:.2f}\".format(roc_auc_score(y_true, estimator.predict_proba(X)[:,1])),\n",
    "          \"\\nF1-score: \", \"{:.2f}\".format(f1_score(y_true, y_pred)),\n",
    "          \"\\nConfusion Matrix: \")\n",
    "    "
   ]
  },
  {
   "cell_type": "code",
   "execution_count": 27,
   "metadata": {
    "executionInfo": {
     "elapsed": 308,
     "status": "ok",
     "timestamp": 1632217462330,
     "user": {
      "displayName": "Pınar Erdoğan",
      "photoUrl": "https://lh3.googleusercontent.com/a-/AOh14GgSRPjhXDVyY6GG59MjOLdNKKS8OTbqdLxNLnUQsw=s64",
      "userId": "00401610262792975831"
     },
     "user_tz": -180
    },
    "id": "j1ttX6i1PYgO"
   },
   "outputs": [],
   "source": [
    "def model_general_performance(estimator, X, y, n_splits):\n",
    "    \n",
    "    \"\"\"Evaluate the performance of the model with whole data, using f1-score and area under curve with cross validation.\"\"\"\n",
    "    scoring = {'F1-score': 'f1', 'AUC': 'roc_auc'}\n",
    "    cv_method = StratifiedKFold(n_splits, shuffle=True, random_state=123)\n",
    "    cv_result = cross_validate(estimator, X=X, y=y, cv=cv_method, scoring=scoring, return_train_score=True)\n",
    "    test_f1_score = cv_result[\"test_F1-score\"].mean()\n",
    "    test_auc = cv_result[\"test_AUC\"].mean()\n",
    "    print(\"F1-score:\")\n",
    "    print(\"Train: \", \": %0.2f \"  %  cv_result[\"train_F1-score\"].mean(),\n",
    "          \"\\nTest: \", \"%0.2f\" % cv_result[\"test_F1-score\"].mean(), \n",
    "          \"\\nConfidence Interval: \", \"%0.2f, %0.2f\" % sms.DescrStatsW(cv_result[\"test_F1-score\"]).tconfint_mean())\n",
    "          \n",
    "        \n",
    "    print(\"-------------------------------------------------------\")\n",
    "    print(\"Area Under Curve (AUC):\")\n",
    "    print(\"Train: \", \"%0.2f\" % cv_result[\"train_AUC\"].mean(),\n",
    "          \"\\nTest: \",\"%0.2f\" % cv_result[\"test_AUC\"].mean(), \n",
    "          \"\\nConfidence Interval: \", \"%0.2f, %0.2f\" % sms.DescrStatsW(cv_result[\"test_AUC\"]).tconfint_mean()),\n",
    "    \n",
    "    \n"
   ]
  },
  {
   "cell_type": "markdown",
   "metadata": {
    "id": "GNJqX2wuPYgO"
   },
   "source": [
    "## 1. XGBoost\n",
    "\n",
    "\n",
    "- XGBoost is one of the most popular machine learning algorithm.\n",
    "\n",
    "\n",
    "- It is an improved version Gradient Boosting Machine. \n",
    "\n",
    "\n",
    "- It is has both algoritmic and system optimization. These are\n",
    "\n",
    "\n",
    "\n",
    "\n",
    "    1. Approximate greedy algorithm to increase the speed.\n",
    "    2. Regularized objective function to prevent overfitting.\n",
    "    3. Sparsity-aware Split Finding algorithm to handle missing data. \n",
    "    4. Weighted Quantile Sketch to helping approximate greedy algorithm. \n",
    "    5. Parallel Learning to make computation faster.\n",
    "    6. Cache-aware Access.\n",
    "    7. Blocks for Out-of-core computation.\n"
   ]
  },
  {
   "cell_type": "markdown",
   "metadata": {
    "id": "Y0LKPZamPYgP"
   },
   "source": [
    "### Model Performance without Parameter Optimization"
   ]
  },
  {
   "cell_type": "code",
   "execution_count": 21,
   "metadata": {
    "executionInfo": {
     "elapsed": 419,
     "status": "ok",
     "timestamp": 1632216771034,
     "user": {
      "displayName": "Pınar Erdoğan",
      "photoUrl": "https://lh3.googleusercontent.com/a-/AOh14GgSRPjhXDVyY6GG59MjOLdNKKS8OTbqdLxNLnUQsw=s64",
      "userId": "00401610262792975831"
     },
     "user_tz": -180
    },
    "id": "GvL66432PYgP"
   },
   "outputs": [
    {
     "name": "stdout",
     "output_type": "stream",
     "text": [
      "[18:35:27] WARNING: C:/Users/Administrator/workspace/xgboost-win64_release_1.4.0/src/learner.cc:1095: Starting in XGBoost 1.3.0, the default evaluation metric used with the objective 'binary:logistic' was changed from 'error' to 'logloss'. Explicitly set eval_metric if you'd like to restore the old behavior.\n"
     ]
    }
   ],
   "source": [
    "xgb_model = XGBClassifier()\n",
    "\n",
    "y_predict_xgb = fit_predict(X, y, xgb_model)"
   ]
  },
  {
   "cell_type": "code",
   "execution_count": 22,
   "metadata": {
    "colab": {
     "base_uri": "https://localhost:8080/",
     "height": 333
    },
    "executionInfo": {
     "elapsed": 309,
     "status": "ok",
     "timestamp": 1632216806266,
     "user": {
      "displayName": "Pınar Erdoğan",
      "photoUrl": "https://lh3.googleusercontent.com/a-/AOh14GgSRPjhXDVyY6GG59MjOLdNKKS8OTbqdLxNLnUQsw=s64",
      "userId": "00401610262792975831"
     },
     "user_tz": -180
    },
    "id": "NRNWtcZjPYgP",
    "outputId": "c72edc55-4d3f-45d4-e69d-ab2247eb18f9"
   },
   "outputs": [
    {
     "name": "stdout",
     "output_type": "stream",
     "text": [
      "Balanced accuracy score:  0.97 \n",
      "AUC:  1.00 \n",
      "F1-score:  0.98 \n",
      "Confusion Matrix: \n"
     ]
    },
    {
     "data": {
      "image/png": "[encoded data removed]",
      "text/plain": [
       "<Figure size 432x288 with 2 Axes>"
      ]
     },
     "metadata": {
      "needs_background": "light"
     },
     "output_type": "display_data"
    }
   ],
   "source": [
    "model_evaluate(xgb_model, X, y, y_predict_xgb)"
   ]
  },
  {
   "cell_type": "markdown",
   "metadata": {
    "id": "O6ruiZvGPYgP"
   },
   "source": [
    "###  Finding The Best Parameters (Hyperparameter Tuning)"
   ]
  },
  {
   "cell_type": "code",
   "execution_count": 23,
   "metadata": {
    "id": "LZctlGJbPYgP"
   },
   "outputs": [],
   "source": [
    "xgb_params = {\n",
    "        'subsample': [0.5, 0.75, 1], # Subsampling ratio of original dataset.\n",
    "        'colsample_bytree': [0.5, 0.75, 1], # Feature subsampling ratio per tree.\n",
    "        'learning_rate': [0.025, 0.05, 0.1, 0.2, 0.3], # learning rate.\n",
    "        'max_depth':[2, 3, 5, 7], # Maximum depth of a tree.\n",
    "        'min_child_weight':[0.5, 1, 2], # Minimum weight of a child node.\n",
    "        'gamma': [0, 0.1, 0.2, 0.3, 0.5, 1.0, 2], # Regularization parameter.\n",
    "        'n_estimators': [100, 200, 300, 500],  # Number of estimators in the ensemble.\n",
    "        }"
   ]
  },
  {
   "cell_type": "code",
   "execution_count": null,
   "metadata": {
    "colab": {
     "base_uri": "https://localhost:8080/"
    },
    "executionInfo": {
     "elapsed": 175121,
     "status": "ok",
     "timestamp": 1632172105262,
     "user": {
      "displayName": "Pınar Erdoğan",
      "photoUrl": "https://lh3.googleusercontent.com/a-/AOh14GgSRPjhXDVyY6GG59MjOLdNKKS8OTbqdLxNLnUQsw=s64",
      "userId": "00401610262792975831"
     },
     "user_tz": -180
    },
    "id": "HH_rpuhxPYgP",
    "outputId": "77107c15-4927-497e-b093-ea9a684e6581"
   },
   "outputs": [
    {
     "metadata": {
      "tags": null
     },
     "name": "stdout",
     "output_type": "stream",
     "text": [
      "Fitting 5 folds for each of 15120 candidates, totalling 75600 fits\n"
     ]
    },
    {
     "name": "stderr",
     "output_type": "stream",
     "text": [
      "[Parallel(n_jobs=-1)]: Using backend LokyBackend with 2 concurrent workers.\n",
      "[Parallel(n_jobs=-1)]: Done 144 tasks      | elapsed:    3.2s\n",
      "[Parallel(n_jobs=-1)]: Done 1112 tasks      | elapsed:   17.9s\n",
      "[Parallel(n_jobs=-1)]: Done 2736 tasks      | elapsed:   41.4s\n",
      "[Parallel(n_jobs=-1)]: Done 5000 tasks      | elapsed:  1.2min\n",
      "[Parallel(n_jobs=-1)]: Done 7920 tasks      | elapsed:  1.9min\n",
      "[Parallel(n_jobs=-1)]: Done 11480 tasks      | elapsed:  2.8min\n",
      "[Parallel(n_jobs=-1)]: Done 15696 tasks      | elapsed:  3.9min\n",
      "[Parallel(n_jobs=-1)]: Done 20552 tasks      | elapsed:  5.1min\n",
      "[Parallel(n_jobs=-1)]: Done 26064 tasks      | elapsed:  6.5min\n",
      "[Parallel(n_jobs=-1)]: Done 32216 tasks      | elapsed:  8.0min\n",
      "[Parallel(n_jobs=-1)]: Done 39024 tasks      | elapsed:  9.8min\n",
      "[Parallel(n_jobs=-1)]: Done 46472 tasks      | elapsed: 11.7min\n",
      "[Parallel(n_jobs=-1)]: Done 54576 tasks      | elapsed: 13.8min\n",
      "[Parallel(n_jobs=-1)]: Done 63320 tasks      | elapsed: 16.0min\n",
      "[Parallel(n_jobs=-1)]: Done 72720 tasks      | elapsed: 18.5min\n",
      "[Parallel(n_jobs=-1)]: Done 75600 out of 75600 | elapsed: 19.3min finished\n"
     ]
    },
    {
     "data": {
      "text/plain": [
       "{'colsample_bytree': 1,\n",
       " 'gamma': 0.3,\n",
       " 'learning_rate': 0.3,\n",
       " 'max_depth': 2,\n",
       " 'min_child_weight': 1,\n",
       " 'n_estimators': 100,\n",
       " 'subsample': 0.5}"
      ]
     },
     "execution_count": 162,
     "metadata": {},
     "output_type": "execute_result"
    }
   ],
   "source": [
    "xgboost_model = XGBClassifier()\n",
    "\n",
    "best_parameters_xgboost = parameter_optimization(X=X, y=y, estimator=xgboost_model, parameters=xgb_params, n_splits=5)\n",
    "best_parameters_xgboost"
   ]
  },
  {
   "cell_type": "markdown",
   "metadata": {
    "id": "tW3gro85tEVI"
   },
   "source": [
    "Best parameters:\n",
    "\n",
    "{'colsample_bytree': 1,\n",
    " 'gamma': 0.3,\n",
    " 'learning_rate': 0.3,\n",
    " 'max_depth': 2,\n",
    " 'min_child_weight': 1,\n",
    " 'n_estimators': 100,\n",
    " 'subsample': 0.5}"
   ]
  },
  {
   "cell_type": "markdown",
   "metadata": {
    "id": "wPmAkhV5PYgP"
   },
   "source": [
    "### Fit & Predict"
   ]
  },
  {
   "cell_type": "code",
   "execution_count": 24,
   "metadata": {
    "executionInfo": {
     "elapsed": 253,
     "status": "ok",
     "timestamp": 1632217014791,
     "user": {
      "displayName": "Pınar Erdoğan",
      "photoUrl": "https://lh3.googleusercontent.com/a-/AOh14GgSRPjhXDVyY6GG59MjOLdNKKS8OTbqdLxNLnUQsw=s64",
      "userId": "00401610262792975831"
     },
     "user_tz": -180
    },
    "id": "paHLv0JtPYgQ"
   },
   "outputs": [
    {
     "name": "stdout",
     "output_type": "stream",
     "text": [
      "[18:35:34] WARNING: C:/Users/Administrator/workspace/xgboost-win64_release_1.4.0/src/learner.cc:1095: Starting in XGBoost 1.3.0, the default evaluation metric used with the objective 'binary:logistic' was changed from 'error' to 'logloss'. Explicitly set eval_metric if you'd like to restore the old behavior.\n"
     ]
    }
   ],
   "source": [
    "# Fit and predict the model (predictions are made on test data)\n",
    "tuned_xgb =  XGBClassifier(colsample_bytree=1, gamma=0.3, max_depth=2, min_child_weight=1, n_estimators=100, subsample=0.5)\n",
    "y_predict_xgb = fit_predict(X, y, tuned_xgb)"
   ]
  },
  {
   "cell_type": "markdown",
   "metadata": {
    "id": "t4OXR0mZPYgQ"
   },
   "source": [
    "### Evaluate The Performance"
   ]
  },
  {
   "cell_type": "code",
   "execution_count": 25,
   "metadata": {
    "colab": {
     "base_uri": "https://localhost:8080/",
     "height": 333
    },
    "executionInfo": {
     "elapsed": 819,
     "status": "ok",
     "timestamp": 1632217039132,
     "user": {
      "displayName": "Pınar Erdoğan",
      "photoUrl": "https://lh3.googleusercontent.com/a-/AOh14GgSRPjhXDVyY6GG59MjOLdNKKS8OTbqdLxNLnUQsw=s64",
      "userId": "00401610262792975831"
     },
     "user_tz": -180
    },
    "id": "tfr0-pU8PYgQ",
    "outputId": "37c6b57b-5b31-42bf-be26-47517fc719b4"
   },
   "outputs": [
    {
     "name": "stdout",
     "output_type": "stream",
     "text": [
      "Balanced accuracy score:  0.97 \n",
      "AUC:  0.99 \n",
      "F1-score:  0.98 \n",
      "Confusion Matrix: \n"
     ]
    },
    {
     "data": {
      "image/png": "[encoded data removed]",
      "text/plain": [
       "<Figure size 432x288 with 2 Axes>"
      ]
     },
     "metadata": {
      "needs_background": "light"
     },
     "output_type": "display_data"
    }
   ],
   "source": [
    "# Evaluate the model on test data\n",
    "evaluate_xgb = model_evaluate(tuned_xgb, X, y, y_predict_xgb)"
   ]
  },
  {
   "cell_type": "markdown",
   "metadata": {
    "id": "r5L7q4TcPYgQ"
   },
   "source": [
    "###  Cross Validated Performance of XGBoost Model\n",
    "\n",
    "* F1 score and is selected as general perofrmance evaluation metric.\n",
    "* Due to the limited number of observations and imbalanced distribution of classes, accuracy score may not be meaningful for evaluating the model."
   ]
  },
  {
   "cell_type": "code",
   "execution_count": 28,
   "metadata": {
    "colab": {
     "base_uri": "https://localhost:8080/"
    },
    "executionInfo": {
     "elapsed": 311,
     "status": "ok",
     "timestamp": 1632217113881,
     "user": {
      "displayName": "Pınar Erdoğan",
      "photoUrl": "https://lh3.googleusercontent.com/a-/AOh14GgSRPjhXDVyY6GG59MjOLdNKKS8OTbqdLxNLnUQsw=s64",
      "userId": "00401610262792975831"
     },
     "user_tz": -180
    },
    "id": "ZWgKDK7tPYgQ",
    "outputId": "e6a05840-df2f-44ad-c47e-c8e3035f69e7"
   },
   "outputs": [
    {
     "name": "stdout",
     "output_type": "stream",
     "text": [
      "[18:36:05] WARNING: C:/Users/Administrator/workspace/xgboost-win64_release_1.4.0/src/learner.cc:1095: Starting in XGBoost 1.3.0, the default evaluation metric used with the objective 'binary:logistic' was changed from 'error' to 'logloss'. Explicitly set eval_metric if you'd like to restore the old behavior.\n",
      "[18:36:05] WARNING: C:/Users/Administrator/workspace/xgboost-win64_release_1.4.0/src/learner.cc:1095: Starting in XGBoost 1.3.0, the default evaluation metric used with the objective 'binary:logistic' was changed from 'error' to 'logloss'. Explicitly set eval_metric if you'd like to restore the old behavior.\n",
      "[18:36:05] WARNING: C:/Users/Administrator/workspace/xgboost-win64_release_1.4.0/src/learner.cc:1095: Starting in XGBoost 1.3.0, the default evaluation metric used with the objective 'binary:logistic' was changed from 'error' to 'logloss'. Explicitly set eval_metric if you'd like to restore the old behavior.\n",
      "[18:36:05] WARNING: C:/Users/Administrator/workspace/xgboost-win64_release_1.4.0/src/learner.cc:1095: Starting in XGBoost 1.3.0, the default evaluation metric used with the objective 'binary:logistic' was changed from 'error' to 'logloss'. Explicitly set eval_metric if you'd like to restore the old behavior.\n",
      "[18:36:05] WARNING: C:/Users/Administrator/workspace/xgboost-win64_release_1.4.0/src/learner.cc:1095: Starting in XGBoost 1.3.0, the default evaluation metric used with the objective 'binary:logistic' was changed from 'error' to 'logloss'. Explicitly set eval_metric if you'd like to restore the old behavior.\n",
      "F1-score:\n",
      "Train:  : 0.93  \n",
      "Test:  0.85 \n",
      "Confidence Interval:  0.70, 0.99\n",
      "-------------------------------------------------------\n",
      "Area Under Curve (AUC):\n",
      "Train:  0.97 \n",
      "Test:  0.64 \n",
      "Confidence Interval:  0.15, 1.12\n"
     ]
    }
   ],
   "source": [
    "# General performance of model\n",
    "general_score_xgb = model_general_performance(tuned_xgb, X, y, n_splits=5)"
   ]
  },
  {
   "cell_type": "markdown",
   "metadata": {
    "id": "5PgH0ryIPYgQ"
   },
   "source": [
    "## 2. Logistic Regression"
   ]
  },
  {
   "cell_type": "markdown",
   "metadata": {
    "id": "mUSd95J_PYgQ"
   },
   "source": [
    "* Logistic regression turns linear predictions into probabilities by using the logistic function. \n",
    "* Logistic Regression does not really have any critical hyperparameters to tune. Therefore Grid Search part is not applied to this algorithm."
   ]
  },
  {
   "cell_type": "markdown",
   "metadata": {
    "id": "CR_GnUW9PYgR"
   },
   "source": [
    "### Fit & Predict "
   ]
  },
  {
   "cell_type": "code",
   "execution_count": 29,
   "metadata": {
    "executionInfo": {
     "elapsed": 442,
     "status": "ok",
     "timestamp": 1632220717621,
     "user": {
      "displayName": "Pınar Erdoğan",
      "photoUrl": "https://lh3.googleusercontent.com/a-/AOh14GgSRPjhXDVyY6GG59MjOLdNKKS8OTbqdLxNLnUQsw=s64",
      "userId": "00401610262792975831"
     },
     "user_tz": -180
    },
    "id": "h3mz5wzDPYgR"
   },
   "outputs": [],
   "source": [
    "lr_model = LogisticRegression()\n",
    "\n",
    "y_predict_lr = fit_predict(X, y, lr_model)"
   ]
  },
  {
   "cell_type": "markdown",
   "metadata": {
    "id": "lY3xZj4cPYgR"
   },
   "source": [
    "### Evaluate The Performance "
   ]
  },
  {
   "cell_type": "code",
   "execution_count": 30,
   "metadata": {
    "colab": {
     "base_uri": "https://localhost:8080/",
     "height": 333
    },
    "executionInfo": {
     "elapsed": 281,
     "status": "ok",
     "timestamp": 1632217612475,
     "user": {
      "displayName": "Pınar Erdoğan",
      "photoUrl": "https://lh3.googleusercontent.com/a-/AOh14GgSRPjhXDVyY6GG59MjOLdNKKS8OTbqdLxNLnUQsw=s64",
      "userId": "00401610262792975831"
     },
     "user_tz": -180
    },
    "id": "pjW_x8vGPYgR",
    "outputId": "22cfe060-c4a0-43b7-8851-a5179fd5b99b"
   },
   "outputs": [
    {
     "name": "stdout",
     "output_type": "stream",
     "text": [
      "Balanced accuracy score:  0.57 \n",
      "AUC:  0.72 \n",
      "F1-score:  0.79 \n",
      "Confusion Matrix: \n"
     ]
    },
    {
     "data": {
      "image/png": "[encoded data removed]",
      "text/plain": [
       "<Figure size 432x288 with 2 Axes>"
      ]
     },
     "metadata": {
      "needs_background": "light"
     },
     "output_type": "display_data"
    }
   ],
   "source": [
    "# Evaluate the perofrmance of model on test data\n",
    "model_evaluate(lr_model, X, y, y_predict_lr)"
   ]
  },
  {
   "cell_type": "markdown",
   "metadata": {
    "id": "fjb1OiIGPYgR"
   },
   "source": [
    "### Cross Validated Performance of Logistic Regression Model"
   ]
  },
  {
   "cell_type": "code",
   "execution_count": 31,
   "metadata": {
    "colab": {
     "base_uri": "https://localhost:8080/"
    },
    "executionInfo": {
     "elapsed": 301,
     "status": "ok",
     "timestamp": 1632217629231,
     "user": {
      "displayName": "Pınar Erdoğan",
      "photoUrl": "https://lh3.googleusercontent.com/a-/AOh14GgSRPjhXDVyY6GG59MjOLdNKKS8OTbqdLxNLnUQsw=s64",
      "userId": "00401610262792975831"
     },
     "user_tz": -180
    },
    "id": "1iSXGZq1PYgR",
    "outputId": "6865e137-bce7-45b2-bd25-14934aff974d"
   },
   "outputs": [
    {
     "name": "stdout",
     "output_type": "stream",
     "text": [
      "F1-score:\n",
      "Train:  : 0.80  \n",
      "Test:  0.80 \n",
      "Confidence Interval:  0.65, 0.95\n",
      "-------------------------------------------------------\n",
      "Area Under Curve (AUC):\n",
      "Train:  0.75 \n",
      "Test:  0.60 \n",
      "Confidence Interval:  0.42, 0.79\n"
     ]
    }
   ],
   "source": [
    "# General performance of the model\n",
    "general_score_lr = model_general_performance(lr_model, X, y, n_splits=5)"
   ]
  },
  {
   "cell_type": "markdown",
   "metadata": {
    "id": "rrX6JXbbPYgR"
   },
   "source": [
    "## 3. Random Forest\n",
    "\n",
    "Random Forest(s) is proposed by Breiman (2001). It is a popular machine learning algorithm. Random Forest is preferred by the user for its good performance and ease of use. \n",
    "\n",
    "It contains two types of randomness. \n",
    "    1. Bootstrap aggregating (bagging),\n",
    "    2. Randm feature selection.\n",
    "\n",
    "Hyperparameters: \n",
    "- max_features: the number of features to consider when looking for the best split,\n",
    "- n_estimators: the number of trees in the forest.\n",
    "\n",
    "According to Breiman (2001), these two parameters are the most important parameters for Random Forest. "
   ]
  },
  {
   "cell_type": "markdown",
   "metadata": {
    "id": "3CXxzf7WdEFb"
   },
   "source": [
    "### Performance without Hyperparameter Tuning"
   ]
  },
  {
   "cell_type": "code",
   "execution_count": 32,
   "metadata": {
    "executionInfo": {
     "elapsed": 251,
     "status": "ok",
     "timestamp": 1632217839610,
     "user": {
      "displayName": "Pınar Erdoğan",
      "photoUrl": "https://lh3.googleusercontent.com/a-/AOh14GgSRPjhXDVyY6GG59MjOLdNKKS8OTbqdLxNLnUQsw=s64",
      "userId": "00401610262792975831"
     },
     "user_tz": -180
    },
    "id": "A7OrPotkdDUS"
   },
   "outputs": [],
   "source": [
    "rf_model = RandomForestClassifier(random_state=123)\n",
    "y_pred_rf = fit_predict(X,y, rf_model)"
   ]
  },
  {
   "cell_type": "code",
   "execution_count": 33,
   "metadata": {
    "colab": {
     "base_uri": "https://localhost:8080/",
     "height": 333
    },
    "executionInfo": {
     "elapsed": 575,
     "status": "ok",
     "timestamp": 1632217841308,
     "user": {
      "displayName": "Pınar Erdoğan",
      "photoUrl": "https://lh3.googleusercontent.com/a-/AOh14GgSRPjhXDVyY6GG59MjOLdNKKS8OTbqdLxNLnUQsw=s64",
      "userId": "00401610262792975831"
     },
     "user_tz": -180
    },
    "id": "oH590lGQdVJM",
    "outputId": "726b5705-d46f-4749-c556-8f0902c3e57b"
   },
   "outputs": [
    {
     "name": "stdout",
     "output_type": "stream",
     "text": [
      "Balanced accuracy score:  1.00 \n",
      "AUC:  1.00 \n",
      "F1-score:  1.00 \n",
      "Confusion Matrix: \n"
     ]
    },
    {
     "data": {
      "image/png": "[encoded data removed]",
      "text/plain": [
       "<Figure size 432x288 with 2 Axes>"
      ]
     },
     "metadata": {
      "needs_background": "light"
     },
     "output_type": "display_data"
    }
   ],
   "source": [
    "model_evaluate(rf_model, X, y, y_pred_rf)"
   ]
  },
  {
   "cell_type": "markdown",
   "metadata": {
    "id": "QDfJ2ZXePYgS"
   },
   "source": [
    "### Hyperparameter Tuning"
   ]
  },
  {
   "cell_type": "code",
   "execution_count": 34,
   "metadata": {
    "colab": {
     "base_uri": "https://localhost:8080/"
    },
    "executionInfo": {
     "elapsed": 58352,
     "status": "ok",
     "timestamp": 1632217904374,
     "user": {
      "displayName": "Pınar Erdoğan",
      "photoUrl": "https://lh3.googleusercontent.com/a-/AOh14GgSRPjhXDVyY6GG59MjOLdNKKS8OTbqdLxNLnUQsw=s64",
      "userId": "00401610262792975831"
     },
     "user_tz": -180
    },
    "id": "LqtdTx-OPYgS",
    "outputId": "369d1f6a-eb9d-4eef-e17d-f65dbd66d97d"
   },
   "outputs": [
    {
     "name": "stdout",
     "output_type": "stream",
     "text": [
      "Fitting 5 folds for each of 25 candidates, totalling 125 fits\n"
     ]
    }
   ],
   "source": [
    "random_forest = RandomForestClassifier(random_state=123)\n",
    "\n",
    "parameters_random_forest = {\"max_features\": [2, 3, 5, 7, 10],\n",
    "                            \"n_estimators\": [100, 300, 500, 700, 1000]}\n",
    "\n",
    "best_parameters_random_forest = parameter_optimization(X,y, estimator=random_forest, parameters=parameters_random_forest, n_splits=5)"
   ]
  },
  {
   "cell_type": "code",
   "execution_count": 35,
   "metadata": {
    "colab": {
     "base_uri": "https://localhost:8080/"
    },
    "executionInfo": {
     "elapsed": 312,
     "status": "ok",
     "timestamp": 1632217908264,
     "user": {
      "displayName": "Pınar Erdoğan",
      "photoUrl": "https://lh3.googleusercontent.com/a-/AOh14GgSRPjhXDVyY6GG59MjOLdNKKS8OTbqdLxNLnUQsw=s64",
      "userId": "00401610262792975831"
     },
     "user_tz": -180
    },
    "id": "I0KknzO9PYgS",
    "outputId": "d68066c6-38ab-4d05-9ff2-7387a2723369"
   },
   "outputs": [
    {
     "data": {
      "text/plain": [
       "{'max_features': 2, 'n_estimators': 100}"
      ]
     },
     "execution_count": 35,
     "metadata": {},
     "output_type": "execute_result"
    }
   ],
   "source": [
    "best_parameters_random_forest"
   ]
  },
  {
   "cell_type": "markdown",
   "metadata": {
    "id": "n2AnrHF5PYgS"
   },
   "source": [
    "### Fit & Predict"
   ]
  },
  {
   "cell_type": "code",
   "execution_count": 36,
   "metadata": {
    "executionInfo": {
     "elapsed": 313,
     "status": "ok",
     "timestamp": 1632217927203,
     "user": {
      "displayName": "Pınar Erdoğan",
      "photoUrl": "https://lh3.googleusercontent.com/a-/AOh14GgSRPjhXDVyY6GG59MjOLdNKKS8OTbqdLxNLnUQsw=s64",
      "userId": "00401610262792975831"
     },
     "user_tz": -180
    },
    "id": "F96LrOskPYgS"
   },
   "outputs": [],
   "source": [
    "# Fit and predict the model\n",
    "\n",
    "tuned_rf = RandomForestClassifier(max_features=2, n_estimators=100, random_state=123)\n",
    "\n",
    "y_predict_rf = fit_predict(X, y, tuned_rf)"
   ]
  },
  {
   "cell_type": "markdown",
   "metadata": {
    "id": "cTUH8cEJPYgS"
   },
   "source": [
    "### Evaluate The Performance"
   ]
  },
  {
   "cell_type": "code",
   "execution_count": 37,
   "metadata": {
    "colab": {
     "base_uri": "https://localhost:8080/",
     "height": 333
    },
    "executionInfo": {
     "elapsed": 308,
     "status": "ok",
     "timestamp": 1632217931616,
     "user": {
      "displayName": "Pınar Erdoğan",
      "photoUrl": "https://lh3.googleusercontent.com/a-/AOh14GgSRPjhXDVyY6GG59MjOLdNKKS8OTbqdLxNLnUQsw=s64",
      "userId": "00401610262792975831"
     },
     "user_tz": -180
    },
    "id": "qOZjTH29PYgS",
    "outputId": "6a3963b9-b7a1-4458-f387-ffc9f55fcdf7"
   },
   "outputs": [
    {
     "name": "stdout",
     "output_type": "stream",
     "text": [
      "Balanced accuracy score:  1.00 \n",
      "AUC:  1.00 \n",
      "F1-score:  1.00 \n",
      "Confusion Matrix: \n"
     ]
    },
    {
     "data": {
      "image/png": "[encoded data removed]",
      "text/plain": [
       "<Figure size 432x288 with 2 Axes>"
      ]
     },
     "metadata": {
      "needs_background": "light"
     },
     "output_type": "display_data"
    }
   ],
   "source": [
    "# Evaluate the perofrmance of model on test data\n",
    "evaluate_rf = model_evaluate(tuned_rf, X, y, y_predict_rf)"
   ]
  },
  {
   "cell_type": "markdown",
   "metadata": {
    "id": "agObXuZ5PYgS"
   },
   "source": [
    "8 of the actual positive instances are correctly classified as positive, 3 of the instances is correctly classified as negative. 1 of the instances are incorrectly classified as positive and 3 of the instances are incorrectly classified as negative. "
   ]
  },
  {
   "cell_type": "markdown",
   "metadata": {
    "id": "LdYEfFunPYgT"
   },
   "source": [
    "### Cross Validated Performance of Random Forest Model"
   ]
  },
  {
   "cell_type": "code",
   "execution_count": 38,
   "metadata": {
    "colab": {
     "base_uri": "https://localhost:8080/"
    },
    "executionInfo": {
     "elapsed": 1360,
     "status": "ok",
     "timestamp": 1632217942974,
     "user": {
      "displayName": "Pınar Erdoğan",
      "photoUrl": "https://lh3.googleusercontent.com/a-/AOh14GgSRPjhXDVyY6GG59MjOLdNKKS8OTbqdLxNLnUQsw=s64",
      "userId": "00401610262792975831"
     },
     "user_tz": -180
    },
    "id": "YfMiMUvYPYgT",
    "outputId": "e5728df2-12f6-43fa-ae05-d1e50761bc6f"
   },
   "outputs": [
    {
     "name": "stdout",
     "output_type": "stream",
     "text": [
      "F1-score:\n",
      "Train:  : 1.00  \n",
      "Test:  0.69 \n",
      "Confidence Interval:  0.42, 0.95\n",
      "-------------------------------------------------------\n",
      "Area Under Curve (AUC):\n",
      "Train:  1.00 \n",
      "Test:  0.56 \n",
      "Confidence Interval:  0.21, 0.92\n"
     ]
    }
   ],
   "source": [
    "# General perofrmance of the model\n",
    "general_score_rf = model_general_performance(tuned_rf, X, y, n_splits=5)"
   ]
  },
  {
   "cell_type": "markdown",
   "metadata": {
    "id": "baDFNpQJPYgT"
   },
   "source": [
    "## 4. k-Nearest Neighbor Classifier"
   ]
  },
  {
   "cell_type": "markdown",
   "metadata": {
    "id": "MZ26E6NFPYgT"
   },
   "source": [
    "* K nearest neighbors is a simple algorithm that classifies based on a distance function. \n",
    "\n",
    "* In this study, different k number of neighbor values are tried for the hyperparameter tuning. \n",
    "\n",
    "    1. Number of neighbors considered 1 to 8, \n"
   ]
  },
  {
   "cell_type": "markdown",
   "metadata": {
    "id": "QCxWXeyxfaCD"
   },
   "source": [
    "### Performance without Hyperparameter Tuning"
   ]
  },
  {
   "cell_type": "code",
   "execution_count": 39,
   "metadata": {
    "colab": {
     "base_uri": "https://localhost:8080/",
     "height": 333
    },
    "executionInfo": {
     "elapsed": 556,
     "status": "ok",
     "timestamp": 1632217978307,
     "user": {
      "displayName": "Pınar Erdoğan",
      "photoUrl": "https://lh3.googleusercontent.com/a-/AOh14GgSRPjhXDVyY6GG59MjOLdNKKS8OTbqdLxNLnUQsw=s64",
      "userId": "00401610262792975831"
     },
     "user_tz": -180
    },
    "id": "DMvXB11QfZnt",
    "outputId": "dd915eaf-696e-4b95-9fd1-50dcb31601cd"
   },
   "outputs": [
    {
     "name": "stdout",
     "output_type": "stream",
     "text": [
      "Balanced accuracy score:  0.69 \n",
      "AUC:  0.75 \n",
      "F1-score:  0.82 \n",
      "Confusion Matrix: \n"
     ]
    },
    {
     "data": {
      "image/png": "[encoded data removed]",
      "text/plain": [
       "<Figure size 432x288 with 2 Axes>"
      ]
     },
     "metadata": {
      "needs_background": "light"
     },
     "output_type": "display_data"
    }
   ],
   "source": [
    "kNN_model = KNeighborsClassifier()\n",
    "y_pred_knn = fit_predict(X, y, kNN_model)\n",
    "model_evaluate(kNN_model, X, y, y_pred_knn)"
   ]
  },
  {
   "cell_type": "markdown",
   "metadata": {
    "id": "Aw_sTke5PYgT"
   },
   "source": [
    "### Hyperparameter Tuning"
   ]
  },
  {
   "cell_type": "code",
   "execution_count": 40,
   "metadata": {
    "colab": {
     "base_uri": "https://localhost:8080/"
    },
    "executionInfo": {
     "elapsed": 1584,
     "status": "ok",
     "timestamp": 1632162529162,
     "user": {
      "displayName": "Pınar Erdoğan",
      "photoUrl": "https://lh3.googleusercontent.com/a-/AOh14GgSRPjhXDVyY6GG59MjOLdNKKS8OTbqdLxNLnUQsw=s64",
      "userId": "00401610262792975831"
     },
     "user_tz": -180
    },
    "id": "r9Jyfj90PYgT",
    "outputId": "ff6a5ee5-ad8d-4204-8f41-d154486f11ae"
   },
   "outputs": [
    {
     "name": "stdout",
     "output_type": "stream",
     "text": [
      "Fitting 5 folds for each of 8 candidates, totalling 40 fits\n"
     ]
    }
   ],
   "source": [
    "parameters_kNN = {'n_neighbors': [1, 2, 3, 4, 5, 6, 7, 8]}\n",
    "\n",
    "best_parameters_kNN = parameter_optimization(X, y, kNN_model, parameters_kNN, 5)"
   ]
  },
  {
   "cell_type": "code",
   "execution_count": 41,
   "metadata": {
    "colab": {
     "base_uri": "https://localhost:8080/"
    },
    "executionInfo": {
     "elapsed": 254,
     "status": "ok",
     "timestamp": 1632162533732,
     "user": {
      "displayName": "Pınar Erdoğan",
      "photoUrl": "https://lh3.googleusercontent.com/a-/AOh14GgSRPjhXDVyY6GG59MjOLdNKKS8OTbqdLxNLnUQsw=s64",
      "userId": "00401610262792975831"
     },
     "user_tz": -180
    },
    "id": "XF9vuXjYPYgT",
    "outputId": "2a1a1eee-feef-41cb-c4fa-8d70d9e87040"
   },
   "outputs": [
    {
     "data": {
      "text/plain": [
       "{'n_neighbors': 5}"
      ]
     },
     "execution_count": 41,
     "metadata": {},
     "output_type": "execute_result"
    }
   ],
   "source": [
    "best_parameters_kNN"
   ]
  },
  {
   "cell_type": "markdown",
   "metadata": {
    "id": "R1vp8wQuPYgT"
   },
   "source": [
    "### Fit & Predict"
   ]
  },
  {
   "cell_type": "code",
   "execution_count": 42,
   "metadata": {
    "executionInfo": {
     "elapsed": 337,
     "status": "ok",
     "timestamp": 1632217987727,
     "user": {
      "displayName": "Pınar Erdoğan",
      "photoUrl": "https://lh3.googleusercontent.com/a-/AOh14GgSRPjhXDVyY6GG59MjOLdNKKS8OTbqdLxNLnUQsw=s64",
      "userId": "00401610262792975831"
     },
     "user_tz": -180
    },
    "id": "7fiRY1EnPYgU"
   },
   "outputs": [],
   "source": [
    "# Fit and predict the model (predictions are made on test data)\n",
    "tuned_kNN = KNeighborsClassifier(n_neighbors=5)\n",
    "y_predict_kNN = fit_predict(X, y, tuned_kNN)"
   ]
  },
  {
   "cell_type": "markdown",
   "metadata": {
    "id": "QL5fZ-ZuPYgU"
   },
   "source": [
    "- Hyperparameters are optimized and the best parameters are selected as k=5."
   ]
  },
  {
   "cell_type": "markdown",
   "metadata": {
    "id": "SlNZBGqmPYgU"
   },
   "source": [
    "### Evaluate The Performance"
   ]
  },
  {
   "cell_type": "code",
   "execution_count": 43,
   "metadata": {
    "colab": {
     "base_uri": "https://localhost:8080/",
     "height": 333
    },
    "executionInfo": {
     "elapsed": 305,
     "status": "ok",
     "timestamp": 1632218037597,
     "user": {
      "displayName": "Pınar Erdoğan",
      "photoUrl": "https://lh3.googleusercontent.com/a-/AOh14GgSRPjhXDVyY6GG59MjOLdNKKS8OTbqdLxNLnUQsw=s64",
      "userId": "00401610262792975831"
     },
     "user_tz": -180
    },
    "id": "V9Tykdf4PYgU",
    "outputId": "f80c912e-a448-48e4-bbdc-fea5666e6bd8"
   },
   "outputs": [
    {
     "name": "stdout",
     "output_type": "stream",
     "text": [
      "Balanced accuracy score:  0.69 \n",
      "AUC:  0.75 \n",
      "F1-score:  0.82 \n",
      "Confusion Matrix: \n"
     ]
    },
    {
     "data": {
      "image/png": "[encoded data removed]",
      "text/plain": [
       "<Figure size 432x288 with 2 Axes>"
      ]
     },
     "metadata": {
      "needs_background": "light"
     },
     "output_type": "display_data"
    }
   ],
   "source": [
    "# Evaluate the perofrmance of model on test data\n",
    "evaluate_kNN = model_evaluate(tuned_kNN, X, y, y_predict_kNN)\n",
    "evaluate_kNN"
   ]
  },
  {
   "cell_type": "markdown",
   "metadata": {
    "id": "_sSEHumvPYgU"
   },
   "source": [
    "### General Performance of K-Nearest Neighbors"
   ]
  },
  {
   "cell_type": "code",
   "execution_count": 44,
   "metadata": {
    "colab": {
     "base_uri": "https://localhost:8080/"
    },
    "executionInfo": {
     "elapsed": 266,
     "status": "ok",
     "timestamp": 1632218047566,
     "user": {
      "displayName": "Pınar Erdoğan",
      "photoUrl": "https://lh3.googleusercontent.com/a-/AOh14GgSRPjhXDVyY6GG59MjOLdNKKS8OTbqdLxNLnUQsw=s64",
      "userId": "00401610262792975831"
     },
     "user_tz": -180
    },
    "id": "WRxx5CMqPYgU",
    "outputId": "efb59569-a5b3-43bf-cf43-6db87c1dc911"
   },
   "outputs": [
    {
     "name": "stdout",
     "output_type": "stream",
     "text": [
      "F1-score:\n",
      "Train:  : 0.82  \n",
      "Test:  0.75 \n",
      "Confidence Interval:  0.70, 0.81\n",
      "-------------------------------------------------------\n",
      "Area Under Curve (AUC):\n",
      "Train:  0.74 \n",
      "Test:  0.58 \n",
      "Confidence Interval:  0.47, 0.70\n"
     ]
    }
   ],
   "source": [
    "# General perofrmance of the model\n",
    "general_score_kNN = model_general_performance(tuned_kNN, X, y, 5)"
   ]
  },
  {
   "cell_type": "markdown",
   "metadata": {
    "id": "2C5ouP2TPYgV"
   },
   "source": [
    "## Final Evaluation"
   ]
  },
  {
   "cell_type": "markdown",
   "metadata": {
    "id": "-FCvo5wOau9D"
   },
   "source": [
    "### ROC Curves"
   ]
  },
  {
   "cell_type": "code",
   "execution_count": 45,
   "metadata": {
    "colab": {
     "base_uri": "https://localhost:8080/",
     "height": 279
    },
    "executionInfo": {
     "elapsed": 336,
     "status": "ok",
     "timestamp": 1632220843490,
     "user": {
      "displayName": "Pınar Erdoğan",
      "photoUrl": "https://lh3.googleusercontent.com/a-/AOh14GgSRPjhXDVyY6GG59MjOLdNKKS8OTbqdLxNLnUQsw=s64",
      "userId": "00401610262792975831"
     },
     "user_tz": -180
    },
    "id": "d0kfDNAxhKXt",
    "outputId": "3be17c2f-af49-4530-ce5c-8cf2615ec798"
   },
   "outputs": [
    {
     "data": {
      "image/png": "[encoded data removed]",
      "text/plain": [
       "<Figure size 432x288 with 1 Axes>"
      ]
     },
     "metadata": {
      "needs_background": "light"
     },
     "output_type": "display_data"
    }
   ],
   "source": [
    "disp = plot_roc_curve(tuned_rf, X, y)\n",
    "plot_roc_curve(lr_model, X, y, ax=disp.ax_);\n",
    "plot_roc_curve(tuned_xgb, X, y, ax=disp.ax_);\n",
    "plot_roc_curve(tuned_kNN, X, y,ax=disp.ax_);\n"
   ]
  },
  {
   "cell_type": "code",
   "execution_count": 49,
   "metadata": {
    "colab": {
     "base_uri": "https://localhost:8080/",
     "height": 663
    },
    "executionInfo": {
     "elapsed": 1169,
     "status": "ok",
     "timestamp": 1632220320095,
     "user": {
      "displayName": "Pınar Erdoğan",
      "photoUrl": "https://lh3.googleusercontent.com/a-/AOh14GgSRPjhXDVyY6GG59MjOLdNKKS8OTbqdLxNLnUQsw=s64",
      "userId": "00401610262792975831"
     },
     "user_tz": -180
    },
    "id": "viSU8X3i239S",
    "outputId": "0bc7e090-d9b7-4101-c7e7-7ed829cf5740"
   },
   "outputs": [],
   "source": [
    "def cv_score(model, X, y, scoring):\n",
    "    \n",
    "    \"\"\"Returns the cross-validated algorithm score for the specified evaluation metric.\"\"\"\n",
    "    cv = StratifiedKFold(n_splits=5, shuffle=True, random_state=123)\n",
    "    scores = cross_val_score(model, X, y, scoring=scoring, cv=cv, n_jobs=-1, error_score='raise')\n",
    "    return scores"
   ]
  },
  {
   "cell_type": "code",
   "execution_count": 50,
   "metadata": {
    "colab": {
     "base_uri": "https://localhost:8080/",
     "height": 727
    },
    "executionInfo": {
     "elapsed": 2153,
     "status": "ok",
     "timestamp": 1632221174694,
     "user": {
      "displayName": "Pınar Erdoğan",
      "photoUrl": "https://lh3.googleusercontent.com/a-/AOh14GgSRPjhXDVyY6GG59MjOLdNKKS8OTbqdLxNLnUQsw=s64",
      "userId": "00401610262792975831"
     },
     "user_tz": -180
    },
    "id": "7ivS2YXl8fLH",
    "outputId": "1539f8ce-900c-4a0d-ab4c-65a1ec7890f5"
   },
   "outputs": [
    {
     "name": "stdout",
     "output_type": "stream",
     "text": [
      ">XGBClassifier 0.846 (0.104)\n",
      ">XGBClassifier 0.638 (0.350)\n",
      ">LogisticRegression 0.801 (0.106)\n",
      ">LogisticRegression 0.605 (0.135)\n",
      ">RandomForestClassifier 0.685 (0.190)\n",
      ">RandomForestClassifier 0.562 (0.256)\n",
      ">KNeighborsClassifier 0.751 (0.040)\n",
      ">KNeighborsClassifier 0.583 (0.081)\n"
     ]
    },
    {
     "data": {
      "text/plain": [
       "<Figure size 720x720 with 0 Axes>"
      ]
     },
     "execution_count": 50,
     "metadata": {},
     "output_type": "execute_result"
    },
    {
     "data": {
      "text/plain": [
       "<Figure size 720x720 with 0 Axes>"
      ]
     },
     "metadata": {},
     "output_type": "display_data"
    }
   ],
   "source": [
    "models = [tuned_xgb, lr_model, tuned_rf, tuned_kNN]\n",
    "\n",
    "# cross validate the models and store results\n",
    "results1,results2, names = list(), list(), list()\n",
    "\n",
    "for model in models:\n",
    "  names_ = model.__class__.__name__\n",
    "  names.append(names_)\n",
    "  f1_score = cv_score(model, X, y, 'f1')\n",
    "  results1.append(f1_score)\n",
    "  print('>%s %.3f (%.3f)' % (names_, f1_score.mean(), f1_score.std()))\n",
    "  auc = cv_score(model, X, y, 'roc_auc')\n",
    "  results2.append(auc)  \n",
    "  print('>%s %.3f (%.3f)' % (names_, auc.mean(), auc.std()))\n",
    "plt.figure(figsize=(10,10))\n"
   ]
  },
  {
   "cell_type": "code",
   "execution_count": 63,
   "metadata": {
    "colab": {
     "base_uri": "https://localhost:8080/",
     "height": 404
    },
    "executionInfo": {
     "elapsed": 936,
     "status": "ok",
     "timestamp": 1632221413102,
     "user": {
      "displayName": "Pınar Erdoğan",
      "photoUrl": "https://lh3.googleusercontent.com/a-/AOh14GgSRPjhXDVyY6GG59MjOLdNKKS8OTbqdLxNLnUQsw=s64",
      "userId": "00401610262792975831"
     },
     "user_tz": -180
    },
    "id": "AV3p8PJE9R5e",
    "outputId": "5dd115fb-3bcf-4267-9d78-d76d83646bfd"
   },
   "outputs": [
    {
     "data": {
      "image/png": "[encoded data removed]",
      "text/plain": [
       "<Figure size 1440x720 with 2 Axes>"
      ]
     },
     "metadata": {
      "needs_background": "light"
     },
     "output_type": "display_data"
    }
   ],
   "source": [
    "fig, (ax1, ax2) = plt.subplots(nrows=1, ncols=2, figsize=(20, 10))\n",
    "# rectangular box plot\n",
    "\n",
    "bplot1 = ax1.boxplot(results1,\n",
    "                     vert=True,  # vertical box alignment\n",
    "                     patch_artist=True,  # fill with color\n",
    "                     labels=names)  # will be used to label x-ticks\n",
    "ax1.set_title('F1 score')\n",
    "plt.xticks(fontsize=12)\n",
    "\n",
    "# notch shape box plot\n",
    "\n",
    "\n",
    "bplot2 = ax2.boxplot(results2,  \n",
    "                     vert=True,  # vertical box alignment\n",
    "                     patch_artist=True,  # fill with color\n",
    "                     labels=names)  # will be used to label x-ticks\n",
    "ax2.set_title('Area Under Curve')\n",
    "plt.xticks(fontsize=10)\n",
    "# fill with colors\n",
    "colors = ['pink', 'lightblue', 'lightgreen', 'purple']\n",
    "for bplot in (bplot1, bplot2):\n",
    "    for patch, color in zip(bplot['boxes'], colors):\n",
    "        patch.set_facecolor(color)\n",
    "\n",
    "# adding horizontal grid lines\n",
    "for ax in [ax1, ax2]:\n",
    "    ax.yaxis.grid(True)\n",
    "    ax.set_xlabel('Estimator')\n",
    "    ax.set_ylabel('Performance')\n",
    "\n",
    "plt.show()"
   ]
  },
  {
   "cell_type": "markdown",
   "metadata": {
    "id": "sGnTrUrDPYgV"
   },
   "source": [
    "*  For F1-score XGBoost has the best perofrmance, it has tight intevals and it outperfrom the other algorithms. However, for AUC, it has large intervals. Similarly, Random Forest has wide intervals for all overall performance. For ROC curve, they have the best performance. XGBoost can be a good choice for this study. \n",
    "\n",
    "* For both F1-score and AUC  logistic regression has good performance. \n",
    "\n",
    "* k-NN has good standard deviation and has tight intervals. However, it has the worst performance among them in the average."
   ]
  },
  {
   "cell_type": "markdown",
   "metadata": {
    "id": "tGvr8jsvPYgW"
   },
   "source": [
    "## References \n",
    "\n",
    "\n",
    "Banerjee, P. (2020, March 13). KNN Classifier Tutorial in Python. Kaggle. https://www.kaggle.com/prashant111/knn-classifier-tutorial\n",
    "\n",
    "Cross Validation (2019) Retrieved May 31,2020, from https://scikit-learn.org/stable/modules/cross_validation.html\n",
    "\n",
    "\n",
    "Grid Search Cross Validation. (2019). Retrieved May 31, 2020, from https://scikit-learn.org/stable/modules/generated/sklearn.model_selection.GridSearchCV.html\n",
    "\n",
    "Logistic Regression (2019) Retrieved May 31, 2020, from https://scikit-learn.org/stable/modules/generated/sklearn.linear_model.LogisticRegression.html\n",
    "\n",
    "Kumar, D. (2020, May 28). Covid-19 Analysis, Visualization & Comparisons. Kaggle. https://www.kaggle.com/imdevskp/covid-19-analysis-visualization-comparisons\n",
    "\n",
    "Model Evaluation (2019) Retrieved May 31, 2020, from https://scikit-learn.org/stable/modules/model_evaluation.html\n",
    "\n",
    "Model Validation in Python. (2018, June 19). Retrieved May 2, 2020, from https://www.datavedas.com/model-validation-in-python/\n",
    "\n",
    "Random Forest Classifier (2019) Retrieved May 31, 2020, from https://scikit-learn.org/stable/modules/generated/sklearn.ensemble.RandomForestClassifier.html\n",
    "\n",
    "Receiver Operating Characteristic (ROC) (2019) Retrived May 31, 2020, from https://scikit-learn.org/stable/auto_examples/model_selection/plot_roc.html\n",
    "\n",
    "SVM Hyperparameter Tuning Using GridSearcCV. (n.d.). Retrieved May 31, 2020, from https://www.geeksforgeeks.org/svm-hyperparameter-tuning-using-gridsearchcv-ml/"
   ]
  }
 ],
 "metadata": {
  "colab": {
   "collapsed_sections": [],
   "name": "Air_Pollution_Classification_v3-Copy1.ipynb",
   "provenance": []
  },
  "kernelspec": {
   "display_name": "Python 3",
   "language": "python",
   "name": "python3"
  },
  "language_info": {
   "codemirror_mode": {
    "name": "ipython",
    "version": 3
   },
   "file_extension": ".py",
   "mimetype": "text/x-python",
   "name": "python",
   "nbconvert_exporter": "python",
   "pygments_lexer": "ipython3",
   "version": "3.8.8"
  }
 },
 "nbformat": 4,
 "nbformat_minor": 1
}
